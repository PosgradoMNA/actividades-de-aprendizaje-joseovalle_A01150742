{
  "nbformat": 4,
  "nbformat_minor": 0,
  "metadata": {
    "colab": {
      "provenance": [],
      "collapsed_sections": [],
      "authorship_tag": "ABX9TyOfbVgBPz9yUFl7OLquVUWa",
      "include_colab_link": true
    },
    "kernelspec": {
      "name": "python3",
      "display_name": "Python 3"
    },
    "language_info": {
      "name": "python"
    }
  },
  "cells": [
    {
      "cell_type": "markdown",
      "metadata": {
        "id": "view-in-github",
        "colab_type": "text"
      },
      "source": [
        "<a href=\"https://colab.research.google.com/github/PosgradoMNA/actividades-de-aprendizaje-joseovalletecmx/blob/main/Python_for_Data_Science_1_3.ipynb\" target=\"_parent\"><img src=\"https://colab.research.google.com/assets/colab-badge.svg\" alt=\"Open In Colab\"/></a>"
      ]
    },
    {
      "cell_type": "markdown",
      "source": [
        "Module 1 - Python Basics"
      ],
      "metadata": {
        "id": "DidNmtwrrSjj"
      }
    },
    {
      "cell_type": "code",
      "source": [
        "print (\"Hello Python 101\")"
      ],
      "metadata": {
        "colab": {
          "base_uri": "https://localhost:8080/"
        },
        "id": "v6p5fTdlq6Ss",
        "outputId": "6fe84d5e-674f-4bd8-b471-5fa8690c7d5f"
      },
      "execution_count": null,
      "outputs": [
        {
          "output_type": "stream",
          "name": "stdout",
          "text": [
            "Hello Python 101\n"
          ]
        }
      ]
    },
    {
      "cell_type": "code",
      "source": [
        "print(\"Hello\\nWorld!\")"
      ],
      "metadata": {
        "colab": {
          "base_uri": "https://localhost:8080/"
        },
        "id": "by8M4_WMr9vL",
        "outputId": "85571106-516f-4b27-a1a4-1dd49e74a0d1"
      },
      "execution_count": null,
      "outputs": [
        {
          "output_type": "stream",
          "name": "stdout",
          "text": [
            "Hello\n",
            "World!\n"
          ]
        }
      ]
    },
    {
      "cell_type": "code",
      "source": [
        "# print('Hello World!')?"
      ],
      "metadata": {
        "id": "mysyfzzFsDoH"
      },
      "execution_count": null,
      "outputs": []
    },
    {
      "cell_type": "code",
      "source": [
        "# Types - int, real numbers, words (strings)\n",
        "# type(input) type function to display type of value"
      ],
      "metadata": {
        "id": "tW0OAayisPXw"
      },
      "execution_count": null,
      "outputs": []
    },
    {
      "cell_type": "code",
      "source": [
        "# What is the type of the following: int(1.0)?\n",
        "type(int(1.0))"
      ],
      "metadata": {
        "colab": {
          "base_uri": "https://localhost:8080/"
        },
        "id": "qD5V-q_sskwm",
        "outputId": "c410206c-0c9f-447c-8f53-c46119971363"
      },
      "execution_count": null,
      "outputs": [
        {
          "output_type": "execute_result",
          "data": {
            "text/plain": [
              "int"
            ]
          },
          "metadata": {},
          "execution_count": 7
        }
      ]
    },
    {
      "cell_type": "code",
      "source": [
        "# Enter the code to convert the number 1 to a Boolean\n",
        "bool(1)"
      ],
      "metadata": {
        "colab": {
          "base_uri": "https://localhost:8080/"
        },
        "id": "Gds5-0XLtAVa",
        "outputId": "2921781c-c0c9-452a-fba3-069d0bc4fd7b"
      },
      "execution_count": null,
      "outputs": [
        {
          "output_type": "execute_result",
          "data": {
            "text/plain": [
              "True"
            ]
          },
          "metadata": {},
          "execution_count": 8
        }
      ]
    },
    {
      "cell_type": "code",
      "source": [
        "# operands (numbers) and operators\n",
        "43+60+16+41\n",
        "50-60\n",
        "25/5\n"
      ],
      "metadata": {
        "colab": {
          "base_uri": "https://localhost:8080/"
        },
        "id": "Tkb2ULqstP0a",
        "outputId": "02598741-c61f-4264-e005-634abf6a9f14"
      },
      "execution_count": null,
      "outputs": [
        {
          "output_type": "execute_result",
          "data": {
            "text/plain": [
              "5.0"
            ]
          },
          "metadata": {},
          "execution_count": 12
        }
      ]
    },
    {
      "cell_type": "code",
      "source": [
        "# double dash for integers division, result is rounded\n",
        "25 // 6"
      ],
      "metadata": {
        "colab": {
          "base_uri": "https://localhost:8080/"
        },
        "id": "loZZcGR3ti_Q",
        "outputId": "1e4d737f-4540-4dc6-f4eb-890c469b6d64"
      },
      "execution_count": null,
      "outputs": [
        {
          "output_type": "execute_result",
          "data": {
            "text/plain": [
              "4"
            ]
          },
          "metadata": {},
          "execution_count": 14
        }
      ]
    },
    {
      "cell_type": "code",
      "source": [
        "# vs 1 dash \n",
        "25 / 6"
      ],
      "metadata": {
        "colab": {
          "base_uri": "https://localhost:8080/"
        },
        "id": "7LmNspkgty42",
        "outputId": "8e06f092-1ff3-4cc3-9b4d-e8a60fe954e9"
      },
      "execution_count": null,
      "outputs": [
        {
          "output_type": "execute_result",
          "data": {
            "text/plain": [
              "4.166666666666667"
            ]
          },
          "metadata": {},
          "execution_count": 15
        }
      ]
    },
    {
      "cell_type": "code",
      "source": [
        "# Use of variable to store values\n",
        "\n",
        "my_variable = 1\n",
        "my_variable\n",
        "\n",
        "# Reassing value\n",
        "my_variable = 10\n",
        "my_variable\n",
        "\n",
        "# operations on variables\n",
        "x = 160\n",
        "x = x / 60\n",
        "x\n",
        "\n",
        "# example converting min to hours\n",
        "\n",
        "total_min = 43 +42 + 57\n",
        "total_hr = total_min / 60\n",
        "total_hr"
      ],
      "metadata": {
        "colab": {
          "base_uri": "https://localhost:8080/"
        },
        "id": "mQpR4UvPt5ds",
        "outputId": "01cc8ace-f6e2-43cb-a0d8-f682f3d9ff0c"
      },
      "execution_count": null,
      "outputs": [
        {
          "output_type": "execute_result",
          "data": {
            "text/plain": [
              "2.3666666666666667"
            ]
          },
          "metadata": {},
          "execution_count": 20
        }
      ]
    },
    {
      "cell_type": "code",
      "source": [
        "# Check the python version\n",
        "import sys\n",
        "print (sys.version)"
      ],
      "metadata": {
        "colab": {
          "base_uri": "https://localhost:8080/"
        },
        "id": "f8TOtsRVu-MB",
        "outputId": "723b6a94-2e79-45b3-f883-2c04a94703f4"
      },
      "execution_count": null,
      "outputs": [
        {
          "output_type": "stream",
          "name": "stdout",
          "text": [
            "3.7.14 (default, Sep  8 2022, 00:06:44) \n",
            "[GCC 7.5.0]\n"
          ]
        }
      ]
    },
    {
      "cell_type": "code",
      "source": [
        "# Error example, this will show a \"NameError\" message\n",
        "frint (\"This is an error\")"
      ],
      "metadata": {
        "colab": {
          "base_uri": "https://localhost:8080/",
          "height": 183
        },
        "id": "Vg2S7qsSvGHB",
        "outputId": "ac32265b-1e4f-4186-cc04-a87b9411bdfa"
      },
      "execution_count": null,
      "outputs": [
        {
          "output_type": "error",
          "ename": "NameError",
          "evalue": "ignored",
          "traceback": [
            "\u001b[0;31m---------------------------------------------------------------------------\u001b[0m",
            "\u001b[0;31mNameError\u001b[0m                                 Traceback (most recent call last)",
            "\u001b[0;32m<ipython-input-22-c295bef8db8c>\u001b[0m in \u001b[0;36m<module>\u001b[0;34m\u001b[0m\n\u001b[1;32m      1\u001b[0m \u001b[0;31m# Print string as error message\u001b[0m\u001b[0;34m\u001b[0m\u001b[0;34m\u001b[0m\u001b[0;34m\u001b[0m\u001b[0m\n\u001b[0;32m----> 2\u001b[0;31m \u001b[0mfrint\u001b[0m \u001b[0;34m(\u001b[0m\u001b[0;34m\"This is an error\"\u001b[0m\u001b[0;34m)\u001b[0m\u001b[0;34m\u001b[0m\u001b[0;34m\u001b[0m\u001b[0m\n\u001b[0m",
            "\u001b[0;31mNameError\u001b[0m: name 'frint' is not defined"
          ]
        }
      ]
    },
    {
      "cell_type": "code",
      "source": [
        "# String operations\n",
        "\n",
        "# String - sequence of characters or special caracters\n",
        "# Strings have index, we can acces a letter or character through its index\n",
        "\n",
        "name = \"Michael Jackson\"\n",
        "\n",
        "# Last index can be accsed as -1\n",
        "# every second letter\n",
        "name[::2]\n"
      ],
      "metadata": {
        "colab": {
          "base_uri": "https://localhost:8080/",
          "height": 35
        },
        "id": "Q0zMJMgzvVeq",
        "outputId": "b6b40c6c-46c7-4939-a335-d7ada58b80d3"
      },
      "execution_count": null,
      "outputs": [
        {
          "output_type": "execute_result",
          "data": {
            "text/plain": [
              "'McalJcsn'"
            ],
            "application/vnd.google.colaboratory.intrinsic+json": {
              "type": "string"
            }
          },
          "metadata": {},
          "execution_count": 23
        }
      ]
    },
    {
      "cell_type": "code",
      "source": [
        "name[0:5:2] #up to index 5 and every second letter"
      ],
      "metadata": {
        "colab": {
          "base_uri": "https://localhost:8080/",
          "height": 35
        },
        "id": "M5V_Opl54xk1",
        "outputId": "742283ee-4d9f-49bd-d42c-4bb44a7f92fb"
      },
      "execution_count": null,
      "outputs": [
        {
          "output_type": "execute_result",
          "data": {
            "text/plain": [
              "'Mca'"
            ],
            "application/vnd.google.colaboratory.intrinsic+json": {
              "type": "string"
            }
          },
          "metadata": {},
          "execution_count": 24
        }
      ]
    },
    {
      "cell_type": "code",
      "source": [
        "# lenght of letter\n",
        "len(name) "
      ],
      "metadata": {
        "colab": {
          "base_uri": "https://localhost:8080/"
        },
        "id": "rSgS-UqD5Afq",
        "outputId": "9671ec37-3e00-4dd5-ece3-944ca2d66659"
      },
      "execution_count": null,
      "outputs": [
        {
          "output_type": "execute_result",
          "data": {
            "text/plain": [
              "15"
            ]
          },
          "metadata": {},
          "execution_count": 25
        }
      ]
    },
    {
      "cell_type": "code",
      "source": [
        "# 3 copys\n",
        "3 * name"
      ],
      "metadata": {
        "colab": {
          "base_uri": "https://localhost:8080/",
          "height": 35
        },
        "id": "hWgs060q5KWv",
        "outputId": "bf143d63-960f-491a-e3e8-3e9d301eca9a"
      },
      "execution_count": null,
      "outputs": [
        {
          "output_type": "execute_result",
          "data": {
            "text/plain": [
              "'Michael JacksonMichael JacksonMichael Jackson'"
            ],
            "application/vnd.google.colaboratory.intrinsic+json": {
              "type": "string"
            }
          },
          "metadata": {},
          "execution_count": 26
        }
      ]
    },
    {
      "cell_type": "code",
      "source": [
        "# strings are immutable\n",
        "\n",
        "sentence = \" is the best\"\n",
        "name + sentence"
      ],
      "metadata": {
        "colab": {
          "base_uri": "https://localhost:8080/",
          "height": 35
        },
        "id": "mnAZPXkR5QkC",
        "outputId": "9fc8d4f4-2927-4d12-8a6c-cceeafb2147e"
      },
      "execution_count": null,
      "outputs": [
        {
          "output_type": "execute_result",
          "data": {
            "text/plain": [
              "'Michael Jackson is the best'"
            ],
            "application/vnd.google.colaboratory.intrinsic+json": {
              "type": "string"
            }
          },
          "metadata": {},
          "execution_count": 28
        }
      ]
    },
    {
      "cell_type": "code",
      "source": [
        "# escape sequences\n",
        "#  \\ meant to proceed escape sequences\n",
        "print(\"Michael Jakckson \\n is the best\")"
      ],
      "metadata": {
        "colab": {
          "base_uri": "https://localhost:8080/"
        },
        "id": "3lGcH9ZB5f0r",
        "outputId": "b0a4782a-6bff-4efc-c76a-988db236a2f3"
      },
      "execution_count": null,
      "outputs": [
        {
          "output_type": "stream",
          "name": "stdout",
          "text": [
            "Michael Jakckson \n",
            " is the best\n"
          ]
        }
      ]
    },
    {
      "cell_type": "code",
      "source": [
        "print(\"Michael Jakckson \\\\ is the best\")"
      ],
      "metadata": {
        "colab": {
          "base_uri": "https://localhost:8080/"
        },
        "id": "wG4k2FJ66Bxj",
        "outputId": "70ae636f-13db-46a9-e0ac-09029426a52c"
      },
      "execution_count": null,
      "outputs": [
        {
          "output_type": "stream",
          "name": "stdout",
          "text": [
            "Michael Jakckson \\ is the best\n"
          ]
        }
      ]
    },
    {
      "cell_type": "code",
      "source": [
        "print:(r\"Michael Jakckson \\is the best\")"
      ],
      "metadata": {
        "id": "3sokMEG56G5D"
      },
      "execution_count": null,
      "outputs": []
    },
    {
      "cell_type": "code",
      "source": [
        "# String methods\n",
        "# Sequences methods\n",
        "# String Methods\n",
        "\n",
        "name_upper = name.upper()\n",
        "name_upper"
      ],
      "metadata": {
        "colab": {
          "base_uri": "https://localhost:8080/",
          "height": 35
        },
        "id": "IdmYGnQz6UjQ",
        "outputId": "5f53814d-64b5-4b50-c165-60d128d7bbb8"
      },
      "execution_count": null,
      "outputs": [
        {
          "output_type": "execute_result",
          "data": {
            "text/plain": [
              "'MICHAEL JACKSON'"
            ],
            "application/vnd.google.colaboratory.intrinsic+json": {
              "type": "string"
            }
          },
          "metadata": {},
          "execution_count": 34
        }
      ]
    },
    {
      "cell_type": "code",
      "source": [
        "# find method will pull the starting index of the substring\n",
        "name.find(\"el\") "
      ],
      "metadata": {
        "colab": {
          "base_uri": "https://localhost:8080/"
        },
        "id": "H2PNhbfR6nKU",
        "outputId": "e388a9eb-862f-4791-8144-20a1fff34905"
      },
      "execution_count": null,
      "outputs": [
        {
          "output_type": "execute_result",
          "data": {
            "text/plain": [
              "5"
            ]
          },
          "metadata": {},
          "execution_count": 36
        }
      ]
    },
    {
      "cell_type": "code",
      "source": [
        "Numbers = \"0123456\"\n",
        "\n",
        "# How would you obtain the even elements?\n",
        "Numbers[::2]\n"
      ],
      "metadata": {
        "colab": {
          "base_uri": "https://localhost:8080/",
          "height": 35
        },
        "id": "5i3pKIgo603p",
        "outputId": "6cad9383-b9eb-417d-b731-cc475e31bea0"
      },
      "execution_count": null,
      "outputs": [
        {
          "output_type": "execute_result",
          "data": {
            "text/plain": [
              "'0246'"
            ],
            "application/vnd.google.colaboratory.intrinsic+json": {
              "type": "string"
            }
          },
          "metadata": {},
          "execution_count": 37
        }
      ]
    },
    {
      "cell_type": "code",
      "source": [
        "\"0123456\".find('1')"
      ],
      "metadata": {
        "colab": {
          "base_uri": "https://localhost:8080/"
        },
        "id": "00vjhRC1694w",
        "outputId": "61d2b46a-e31a-49dd-d8c4-e57b59d3b5be"
      },
      "execution_count": null,
      "outputs": [
        {
          "output_type": "execute_result",
          "data": {
            "text/plain": [
              "1"
            ]
          },
          "metadata": {},
          "execution_count": 38
        }
      ]
    },
    {
      "cell_type": "code",
      "source": [
        "# Review questions\n",
        "\n",
        "3 + 2 * 2"
      ],
      "metadata": {
        "colab": {
          "base_uri": "https://localhost:8080/"
        },
        "id": "6tMvxrPt7RLu",
        "outputId": "8f938f6b-37a9-4e87-9ff1-39347e409b3f"
      },
      "execution_count": null,
      "outputs": [
        {
          "output_type": "execute_result",
          "data": {
            "text/plain": [
              "7"
            ]
          },
          "metadata": {},
          "execution_count": 39
        }
      ]
    },
    {
      "cell_type": "code",
      "source": [
        "name = 'Lizz'\n",
        "print(name[0:2])"
      ],
      "metadata": {
        "colab": {
          "base_uri": "https://localhost:8080/"
        },
        "id": "8IzRzcQ37WxK",
        "outputId": "8539b7f9-fbab-47ae-bfb9-7a29b959d390"
      },
      "execution_count": null,
      "outputs": [
        {
          "output_type": "stream",
          "name": "stdout",
          "text": [
            "Li\n"
          ]
        }
      ]
    },
    {
      "cell_type": "code",
      "source": [
        "var = '01234567'\n",
        "print(var[::2])"
      ],
      "metadata": {
        "colab": {
          "base_uri": "https://localhost:8080/"
        },
        "id": "LqHBYmYZ7d5j",
        "outputId": "c2774e32-4351-4ac4-f725-8ff5ccefb5ba"
      },
      "execution_count": null,
      "outputs": [
        {
          "output_type": "stream",
          "name": "stdout",
          "text": [
            "0246\n"
          ]
        }
      ]
    },
    {
      "cell_type": "code",
      "source": [
        "'1'+'2'"
      ],
      "metadata": {
        "colab": {
          "base_uri": "https://localhost:8080/",
          "height": 35
        },
        "id": "bXvtn8Rj7j_J",
        "outputId": "ca4e7ace-bf05-4154-83aa-a7e9ba5d1b2e"
      },
      "execution_count": null,
      "outputs": [
        {
          "output_type": "execute_result",
          "data": {
            "text/plain": [
              "'12'"
            ],
            "application/vnd.google.colaboratory.intrinsic+json": {
              "type": "string"
            }
          },
          "metadata": {},
          "execution_count": 42
        }
      ]
    },
    {
      "cell_type": "code",
      "source": [
        "myvar = 'hello'\n",
        "myvar.upper()"
      ],
      "metadata": {
        "colab": {
          "base_uri": "https://localhost:8080/",
          "height": 35
        },
        "id": "UTolSw8n7nel",
        "outputId": "f17e6778-ea71-43c7-a6df-a873d56cfbde"
      },
      "execution_count": null,
      "outputs": [
        {
          "output_type": "execute_result",
          "data": {
            "text/plain": [
              "'HELLO'"
            ],
            "application/vnd.google.colaboratory.intrinsic+json": {
              "type": "string"
            }
          },
          "metadata": {},
          "execution_count": 43
        }
      ]
    },
    {
      "cell_type": "markdown",
      "source": [
        "Module 2 - Python Data Structures"
      ],
      "metadata": {
        "id": "GqWlCTELrgzL"
      }
    },
    {
      "cell_type": "code",
      "source": [
        "# LISTS AND TUPLES\n",
        "\n",
        "# Compound data types, key stuctures\n",
        "# Tuples are ordered sequences example (10,9,6,5,10)  all types can be contained within a tuple\n",
        "# To acces use indexing\n",
        "# Tuples are immutable, # cannot be changed through indexes\n",
        "\n",
        "Tuple1 = (\"disco\",10,1.2)\n",
        "Tuple1[1]"
      ],
      "metadata": {
        "colab": {
          "base_uri": "https://localhost:8080/"
        },
        "id": "d4L5dlZQ7lD-",
        "outputId": "8b4da328-2519-4a3a-ea7a-65111aa8dd4a"
      },
      "execution_count": null,
      "outputs": [
        {
          "output_type": "execute_result",
          "data": {
            "text/plain": [
              "10"
            ]
          },
          "metadata": {},
          "execution_count": 3
        }
      ]
    },
    {
      "cell_type": "code",
      "source": [
        "Tuple1[0:3]"
      ],
      "metadata": {
        "colab": {
          "base_uri": "https://localhost:8080/"
        },
        "id": "or0uiYna8K34",
        "outputId": "1b6a0925-f27d-4ba6-c5d9-9deed7b3386b"
      },
      "execution_count": null,
      "outputs": [
        {
          "output_type": "execute_result",
          "data": {
            "text/plain": [
              "('disco', 10, 1.2)"
            ]
          },
          "metadata": {},
          "execution_count": 4
        }
      ]
    },
    {
      "cell_type": "code",
      "source": [
        "len(Tuple1[0:3])"
      ],
      "metadata": {
        "colab": {
          "base_uri": "https://localhost:8080/"
        },
        "id": "3wBKmTRL8NER",
        "outputId": "9280b1ae-ad61-4104-b723-b0fcf823b2f5"
      },
      "execution_count": null,
      "outputs": [
        {
          "output_type": "execute_result",
          "data": {
            "text/plain": [
              "3"
            ]
          },
          "metadata": {},
          "execution_count": 5
        }
      ]
    },
    {
      "cell_type": "code",
      "source": [
        "tuple1ssorted = sorted(Tuple1[1:3])\n",
        "tuple1ssorted"
      ],
      "metadata": {
        "colab": {
          "base_uri": "https://localhost:8080/"
        },
        "id": "1UaM_c8a8Pjk",
        "outputId": "db8c2c56-1db9-4048-ce94-38ca1c5b8d94"
      },
      "execution_count": null,
      "outputs": [
        {
          "output_type": "execute_result",
          "data": {
            "text/plain": [
              "[1.2, 10]"
            ]
          },
          "metadata": {},
          "execution_count": 8
        }
      ]
    },
    {
      "cell_type": "code",
      "source": [
        "# Tuples: nesting\n",
        "NT = (1,2,(\"pop\",\"rock\"),(3,4),(\"disco\",(1,2)))\n",
        "NT\n",
        "\n",
        "# accessing throuhg indexing std method\n",
        "NT[2]\n",
        "NT[2][1]\n",
        "NT[2][0]\n",
        "NT[2][0][1]"
      ],
      "metadata": {
        "colab": {
          "base_uri": "https://localhost:8080/",
          "height": 35
        },
        "id": "7b22cTlA8gsS",
        "outputId": "dcf48061-e33f-47bb-f825-32efb917c72d"
      },
      "execution_count": null,
      "outputs": [
        {
          "output_type": "execute_result",
          "data": {
            "text/plain": [
              "'o'"
            ],
            "application/vnd.google.colaboratory.intrinsic+json": {
              "type": "string"
            }
          },
          "metadata": {},
          "execution_count": 14
        }
      ]
    },
    {
      "cell_type": "code",
      "source": [
        "# Lists are also order sequences\n",
        "# Key differences, they are mutable\n",
        "\n",
        "mylist= [1,2,(\"pop\",\"rock\"),(3,4),(\"disco\",(1,2))]\n",
        "mylist\n",
        "\n",
        "# slicing can be performed\n",
        "# lists can be concatened\n",
        "L1 = mylist + [\"new element of the list\"]\n",
        "L1"
      ],
      "metadata": {
        "colab": {
          "base_uri": "https://localhost:8080/"
        },
        "id": "L__hhNXF9O2X",
        "outputId": "cffb6464-b532-4cf3-cfdf-5187384632d6"
      },
      "execution_count": null,
      "outputs": [
        {
          "output_type": "execute_result",
          "data": {
            "text/plain": [
              "[1, 2, ('pop', 'rock'), (3, 4), ('disco', (1, 2)), 'new element of the list']"
            ]
          },
          "metadata": {},
          "execution_count": 17
        }
      ]
    },
    {
      "cell_type": "code",
      "source": [
        "# extend method - more than 1 element\n",
        "L2 = mylist.extend([\"new element of the list\"])\n",
        "L2"
      ],
      "metadata": {
        "id": "3LxffvFr91xJ"
      },
      "execution_count": null,
      "outputs": []
    },
    {
      "cell_type": "code",
      "source": [
        "# append method , per element\n",
        "mylist.append(\"new element\")\n",
        "mylist"
      ],
      "metadata": {
        "colab": {
          "base_uri": "https://localhost:8080/"
        },
        "id": "WV2ILiWk996Y",
        "outputId": "00db53bb-18ce-4cc0-b742-8795dd139db7"
      },
      "execution_count": null,
      "outputs": [
        {
          "output_type": "execute_result",
          "data": {
            "text/plain": [
              "[1,\n",
              " 2,\n",
              " ('pop', 'rock'),\n",
              " (3, 4),\n",
              " ('disco', (1, 2)),\n",
              " 'new element of the list',\n",
              " 'new element',\n",
              " 'new element']"
            ]
          },
          "metadata": {},
          "execution_count": 21
        }
      ]
    },
    {
      "cell_type": "code",
      "source": [
        "# Convert string to list with split\n",
        "\"hard rock\".split()\n",
        "\"hard_rock\".split(\"_\") # adding a specific index to separate"
      ],
      "metadata": {
        "colab": {
          "base_uri": "https://localhost:8080/"
        },
        "id": "D5yR7LPc-jsd",
        "outputId": "934545e1-bf47-4e39-ba97-1e85441f7721"
      },
      "execution_count": null,
      "outputs": [
        {
          "output_type": "execute_result",
          "data": {
            "text/plain": [
              "['hard', 'rock']"
            ]
          },
          "metadata": {},
          "execution_count": 26
        }
      ]
    },
    {
      "cell_type": "code",
      "source": [
        "# Exercises\n",
        "\n",
        "# Question 1\n",
        "A=(0,1,2,3)\n",
        "A[3]"
      ],
      "metadata": {
        "colab": {
          "base_uri": "https://localhost:8080/"
        },
        "id": "SFOb1dwV-7SK",
        "outputId": "bc3f12e2-c58b-4882-b76a-e32871013ec5"
      },
      "execution_count": null,
      "outputs": [
        {
          "output_type": "execute_result",
          "data": {
            "text/plain": [
              "3"
            ]
          },
          "metadata": {},
          "execution_count": 28
        }
      ]
    },
    {
      "cell_type": "code",
      "source": [
        "# Question 2\n",
        "B=[\"a\",\"b\",\"c\"]\n",
        "B[1:]"
      ],
      "metadata": {
        "colab": {
          "base_uri": "https://localhost:8080/"
        },
        "id": "dtIk-hbw_JQd",
        "outputId": "70a6fc51-ac8e-48ba-df1e-0d91faed5ef5"
      },
      "execution_count": null,
      "outputs": [
        {
          "output_type": "execute_result",
          "data": {
            "text/plain": [
              "['b', 'c']"
            ]
          },
          "metadata": {},
          "execution_count": 29
        }
      ]
    },
    {
      "cell_type": "code",
      "source": [
        "B.append(['a','b'])\n",
        "B"
      ],
      "metadata": {
        "colab": {
          "base_uri": "https://localhost:8080/"
        },
        "id": "eKSalWkUC9XL",
        "outputId": "e050d805-7416-4418-cf40-2d3cdcef5c64"
      },
      "execution_count": null,
      "outputs": [
        {
          "output_type": "execute_result",
          "data": {
            "text/plain": [
              "['a', 'b', 'c', ['a', 'b'], ['a', 'b']]"
            ]
          },
          "metadata": {},
          "execution_count": 59
        }
      ]
    },
    {
      "cell_type": "code",
      "source": [
        "# SETS\n",
        "# Type of collection, input different python types, they are unordered\n",
        "# SETS have unique elements\n",
        "# to define use {}\n",
        "\n",
        "set1 = {1,1,2,3,4,5,6,7,8,8,9}\n",
        "set1\n",
        "\n",
        "# convert list to set - use set()\n",
        "\n",
        "myset = set(mylist)\n",
        "myset"
      ],
      "metadata": {
        "colab": {
          "base_uri": "https://localhost:8080/"
        },
        "id": "5NssZ1mI_UiJ",
        "outputId": "95668e65-5c33-4962-f1bc-31d49120637a"
      },
      "execution_count": null,
      "outputs": [
        {
          "output_type": "execute_result",
          "data": {
            "text/plain": [
              "{('disco', (1, 2)),\n",
              " ('pop', 'rock'),\n",
              " (3, 4),\n",
              " 1,\n",
              " 2,\n",
              " 'new element',\n",
              " 'new element of the list'}"
            ]
          },
          "metadata": {},
          "execution_count": 34
        }
      ]
    },
    {
      "cell_type": "code",
      "source": [
        "# Set operations\n",
        "# add method\n",
        "myset.add(\"hello world\")\n",
        "myset\n"
      ],
      "metadata": {
        "colab": {
          "base_uri": "https://localhost:8080/"
        },
        "id": "WgMFBJCCACp0",
        "outputId": "5ef88981-d357-4740-bd17-798ec280b047"
      },
      "execution_count": null,
      "outputs": [
        {
          "output_type": "execute_result",
          "data": {
            "text/plain": [
              "{('disco', (1, 2)),\n",
              " ('pop', 'rock'),\n",
              " (3, 4),\n",
              " 1,\n",
              " 2,\n",
              " 'hello world',\n",
              " 'new element',\n",
              " 'new element of the list'}"
            ]
          },
          "metadata": {},
          "execution_count": 35
        }
      ]
    },
    {
      "cell_type": "code",
      "source": [
        "# remove method\n",
        "myset.remove(\"hello world\")\n",
        "myset"
      ],
      "metadata": {
        "colab": {
          "base_uri": "https://localhost:8080/"
        },
        "id": "3xaz_yEEAFGo",
        "outputId": "6c4ff956-f27e-41b0-af63-66dff57580fb"
      },
      "execution_count": null,
      "outputs": [
        {
          "output_type": "execute_result",
          "data": {
            "text/plain": [
              "{('disco', (1, 2)),\n",
              " ('pop', 'rock'),\n",
              " (3, 4),\n",
              " 1,\n",
              " 2,\n",
              " 'new element',\n",
              " 'new element of the list'}"
            ]
          },
          "metadata": {},
          "execution_count": 36
        }
      ]
    },
    {
      "cell_type": "code",
      "source": [
        "# in command, checks if value is iwthin set\n",
        "('disco', (1, 2)) in myset"
      ],
      "metadata": {
        "colab": {
          "base_uri": "https://localhost:8080/"
        },
        "id": "KVLFMbTVAKdS",
        "outputId": "2d76a117-876f-4271-c869-6781af54779d"
      },
      "execution_count": null,
      "outputs": [
        {
          "output_type": "execute_result",
          "data": {
            "text/plain": [
              "True"
            ]
          },
          "metadata": {},
          "execution_count": 41
        }
      ]
    },
    {
      "cell_type": "code",
      "source": [
        "album_set_1 = {\"hello\",\"1\"}\n",
        "album_set_2 = {\"hello\",\"2\"}\n",
        "\n",
        "# join or ven diagram\n",
        "# intersection, elements in both sets\n",
        "\n",
        "# use & to find intersection\n",
        "album_set_1&album_set_2 # useful function\n"
      ],
      "metadata": {
        "colab": {
          "base_uri": "https://localhost:8080/"
        },
        "id": "7lb_MiokAdR3",
        "outputId": "7346d8ca-4d98-4325-a61f-2938705ea371"
      },
      "execution_count": null,
      "outputs": [
        {
          "output_type": "execute_result",
          "data": {
            "text/plain": [
              "{'hello'}"
            ]
          },
          "metadata": {},
          "execution_count": 43
        }
      ]
    },
    {
      "cell_type": "code",
      "source": [
        "# union of all values\n",
        "album_set_1.union(album_set_2)"
      ],
      "metadata": {
        "colab": {
          "base_uri": "https://localhost:8080/"
        },
        "id": "ixpgHL08BDcR",
        "outputId": "75855235-9267-4cdd-c394-802cb3f6ff12"
      },
      "execution_count": null,
      "outputs": [
        {
          "output_type": "execute_result",
          "data": {
            "text/plain": [
              "{'1', '2', 'hello'}"
            ]
          },
          "metadata": {},
          "execution_count": 44
        }
      ]
    },
    {
      "cell_type": "code",
      "source": [
        "# issubset method\n",
        "album_set_1.issubset(album_set_2)"
      ],
      "metadata": {
        "colab": {
          "base_uri": "https://localhost:8080/"
        },
        "id": "fkmsxggTBRcB",
        "outputId": "f4389f2f-27d9-45a3-b00a-e36369f939b1"
      },
      "execution_count": null,
      "outputs": [
        {
          "output_type": "execute_result",
          "data": {
            "text/plain": [
              "False"
            ]
          },
          "metadata": {},
          "execution_count": 45
        }
      ]
    },
    {
      "cell_type": "code",
      "source": [
        "# Excercsies\n",
        "# What is the result of the following lines of code:\n",
        "S={'A','B','C'}\n",
        "\n",
        "U={'A','Z','C'}\n",
        "\n",
        "U.union(S)"
      ],
      "metadata": {
        "colab": {
          "base_uri": "https://localhost:8080/"
        },
        "id": "MvV31Ae2Bbs4",
        "outputId": "a31b34e0-0102-4e74-92fd-c2619a39d64b"
      },
      "execution_count": null,
      "outputs": [
        {
          "output_type": "execute_result",
          "data": {
            "text/plain": [
              "{'A', 'B', 'C', 'Z'}"
            ]
          },
          "metadata": {},
          "execution_count": 46
        }
      ]
    },
    {
      "cell_type": "code",
      "source": [
        "# What is the intersection of set S and U?\n",
        "\n",
        "S={'A','B','C'}\n",
        "\n",
        "U={'A','Z','C'}\n",
        "\n",
        "S&U"
      ],
      "metadata": {
        "colab": {
          "base_uri": "https://localhost:8080/"
        },
        "id": "SgUewbueBjai",
        "outputId": "e2655e0d-661f-4433-b38b-2e0b33fb2459"
      },
      "execution_count": null,
      "outputs": [
        {
          "output_type": "execute_result",
          "data": {
            "text/plain": [
              "{'A', 'C'}"
            ]
          },
          "metadata": {},
          "execution_count": 47
        }
      ]
    },
    {
      "cell_type": "code",
      "source": [
        "# DICTIONARIES - key value pairs\n",
        "# acces through key, not through indexes\n",
        "# keys cannot be repeated\n",
        "\n",
        "mydictionary = {\"key1\":1,\"key2\":2,\"key3\":3} \n",
        "mydictionary"
      ],
      "metadata": {
        "colab": {
          "base_uri": "https://localhost:8080/"
        },
        "id": "Ajn-QO_RBtnZ",
        "outputId": "e0f6db01-b250-40a0-c756-362aa1a94d68"
      },
      "execution_count": null,
      "outputs": [
        {
          "output_type": "execute_result",
          "data": {
            "text/plain": [
              "{'key1': 1, 'key2': 2, 'key3': 3}"
            ]
          },
          "metadata": {},
          "execution_count": 49
        }
      ]
    },
    {
      "cell_type": "code",
      "source": [
        "mydictionary[\"key1\"]"
      ],
      "metadata": {
        "colab": {
          "base_uri": "https://localhost:8080/"
        },
        "id": "yK3fqkPfCHqE",
        "outputId": "742400f5-fdff-47d3-98bb-b1fede48811f"
      },
      "execution_count": null,
      "outputs": [
        {
          "output_type": "execute_result",
          "data": {
            "text/plain": [
              "1"
            ]
          },
          "metadata": {},
          "execution_count": 50
        }
      ]
    },
    {
      "cell_type": "code",
      "source": [
        "#delete key\n",
        "del(mydictionary[\"key3\"]) #deletes key as well as value\n",
        "mydictionary"
      ],
      "metadata": {
        "colab": {
          "base_uri": "https://localhost:8080/"
        },
        "id": "Lpv86yMgCNdG",
        "outputId": "e5c14ff9-fb55-4ec8-eac2-53910e11eb4e"
      },
      "execution_count": null,
      "outputs": [
        {
          "output_type": "execute_result",
          "data": {
            "text/plain": [
              "{'key1': 1, 'key2': 2}"
            ]
          },
          "metadata": {},
          "execution_count": 51
        }
      ]
    },
    {
      "cell_type": "code",
      "source": [
        "#keys method to show all the keys\n",
        "mydictionary.keys()"
      ],
      "metadata": {
        "colab": {
          "base_uri": "https://localhost:8080/"
        },
        "id": "cDQjxu8sCao7",
        "outputId": "d716039c-6361-432a-818f-e1244d36893c"
      },
      "execution_count": null,
      "outputs": [
        {
          "output_type": "execute_result",
          "data": {
            "text/plain": [
              "dict_keys(['key1', 'key2'])"
            ]
          },
          "metadata": {},
          "execution_count": 53
        }
      ]
    },
    {
      "cell_type": "code",
      "source": [
        "#keys method to show all the values\n",
        "mydictionary.values()"
      ],
      "metadata": {
        "colab": {
          "base_uri": "https://localhost:8080/"
        },
        "id": "Rk381nQkCiVW",
        "outputId": "4674a07c-fd14-4302-f8fc-29abf00a7b61"
      },
      "execution_count": null,
      "outputs": [
        {
          "output_type": "execute_result",
          "data": {
            "text/plain": [
              "dict_values([1, 2])"
            ]
          },
          "metadata": {},
          "execution_count": 54
        }
      ]
    },
    {
      "cell_type": "code",
      "source": [
        "# excercises\n",
        "\n",
        "# Question 1\n",
        "D = {'a':0,'b':1,'c':2}\n",
        "D.values()\n"
      ],
      "metadata": {
        "colab": {
          "base_uri": "https://localhost:8080/"
        },
        "id": "Uq5TjbPOCmRN",
        "outputId": "5ab40004-a074-42c4-a23e-07c589f95840"
      },
      "execution_count": null,
      "outputs": [
        {
          "output_type": "execute_result",
          "data": {
            "text/plain": [
              "dict_values([0, 1, 2])"
            ]
          },
          "metadata": {},
          "execution_count": 55
        }
      ]
    },
    {
      "cell_type": "code",
      "source": [
        "# Question 2\n",
        "D = {'a':0,'b':1,'c':2}\n",
        "D['b']"
      ],
      "metadata": {
        "colab": {
          "base_uri": "https://localhost:8080/"
        },
        "id": "9JRY5K6kCs_t",
        "outputId": "6dc7938e-216a-4dfd-bdc3-57891014ccf0"
      },
      "execution_count": null,
      "outputs": [
        {
          "output_type": "execute_result",
          "data": {
            "text/plain": [
              "1"
            ]
          },
          "metadata": {},
          "execution_count": 56
        }
      ]
    },
    {
      "cell_type": "markdown",
      "source": [
        "Module 3 - Python Programming Fundamentals\n",
        "\n"
      ],
      "metadata": {
        "id": "HJyQ49PNrn2K"
      }
    },
    {
      "cell_type": "code",
      "source": [
        "# Conditions \n",
        "\n",
        "# Comparison operators\n",
        "\n",
        "# a = 6 !=  a == 6\n"
      ],
      "metadata": {
        "id": "ZGzJzHA5N7db"
      },
      "execution_count": null,
      "outputs": []
    },
    {
      "cell_type": "code",
      "source": [
        "a = 6\n",
        "a == 6"
      ],
      "metadata": {
        "colab": {
          "base_uri": "https://localhost:8080/"
        },
        "id": "fL_1TqcOON4H",
        "outputId": "b0d49514-c0fa-43b2-cbb6-786473d4a7b0"
      },
      "execution_count": 1,
      "outputs": [
        {
          "output_type": "execute_result",
          "data": {
            "text/plain": [
              "True"
            ]
          },
          "metadata": {},
          "execution_count": 1
        }
      ]
    },
    {
      "cell_type": "code",
      "source": [
        "i = 2\n",
        "i > 5"
      ],
      "metadata": {
        "colab": {
          "base_uri": "https://localhost:8080/"
        },
        "id": "V4UQa-j3OPOm",
        "outputId": "9ef502f0-ab9d-4263-8643-8bbb62d95a81"
      },
      "execution_count": 2,
      "outputs": [
        {
          "output_type": "execute_result",
          "data": {
            "text/plain": [
              "False"
            ]
          },
          "metadata": {},
          "execution_count": 2
        }
      ]
    },
    {
      "cell_type": "code",
      "source": [
        "\"ac/dc\" == \"AC/DC\""
      ],
      "metadata": {
        "colab": {
          "base_uri": "https://localhost:8080/"
        },
        "id": "3dCI8lZ4Oi5E",
        "outputId": "1b92aeed-2ccc-4e2f-bf7b-fefc4d75dae2"
      },
      "execution_count": 3,
      "outputs": [
        {
          "output_type": "execute_result",
          "data": {
            "text/plain": [
              "False"
            ]
          },
          "metadata": {},
          "execution_count": 3
        }
      ]
    },
    {
      "cell_type": "code",
      "source": [
        "# Branching, run different statements for different input\n",
        "# if statement\n",
        "age = 18\n",
        "\n",
        "if (age > 18):\n",
        "  print(\"you can enter\")\n",
        "else:\n",
        "  print(\"go see Meat Loaf\")\n",
        "print(\"move on\")"
      ],
      "metadata": {
        "colab": {
          "base_uri": "https://localhost:8080/"
        },
        "id": "lUmyF8FROvm8",
        "outputId": "b38ab182-4dde-4f50-9b6d-c9f693f92315"
      },
      "execution_count": 9,
      "outputs": [
        {
          "output_type": "stream",
          "name": "stdout",
          "text": [
            "go see Meat Loaf\n",
            "move on\n"
          ]
        }
      ]
    },
    {
      "cell_type": "code",
      "source": [
        "# elif statement #additional condition\n",
        "age = 18\n",
        "\n",
        "if (age > 18):\n",
        "  print(\"you can enter\")\n",
        "elif (age == 18):\n",
        "   print(\"go see pink floyd\") \n",
        "else:\n",
        "  print(\"go see Meat Loaf\")\n",
        "print(\"move on\")"
      ],
      "metadata": {
        "colab": {
          "base_uri": "https://localhost:8080/"
        },
        "id": "oFp9sPbgPwA_",
        "outputId": "c0f2c287-1c26-4aaa-d4a5-3896a07be2ae"
      },
      "execution_count": 12,
      "outputs": [
        {
          "output_type": "stream",
          "name": "stdout",
          "text": [
            "go see pink floyd\n",
            "move on\n"
          ]
        }
      ]
    },
    {
      "cell_type": "code",
      "source": [
        "# Logic oprators\n",
        "\n",
        "# NOT\n",
        "#   if input is true , result is false\n",
        "#   if input is false, result is true\n"
      ],
      "metadata": {
        "id": "YFi48ZjjPBZz"
      },
      "execution_count": null,
      "outputs": []
    },
    {
      "cell_type": "code",
      "source": [
        "# OR\n",
        "# result is false if all values are false\n",
        "\n",
        "album_year = 1990\n",
        "\n",
        "if(album_year < 1980) or (album_year > 1989):\n",
        "  print(\"The album was made in the 70's or  90's\")\n",
        "else:\n",
        "  print(\"The album was made in the 80's\")"
      ],
      "metadata": {
        "colab": {
          "base_uri": "https://localhost:8080/"
        },
        "id": "aAOT_sRqQgqG",
        "outputId": "91f04572-5b00-44f2-fd35-1d4c6b394271"
      },
      "execution_count": 13,
      "outputs": [
        {
          "output_type": "stream",
          "name": "stdout",
          "text": [
            "The album was made in the 70's or  90's\n"
          ]
        }
      ]
    },
    {
      "cell_type": "code",
      "source": [
        "# AND\n",
        "# only produces true if all values are true\n",
        "\n",
        "album_year = 1983\n",
        "\n",
        "if(album_year > 1979) and (album_year < 1990):\n",
        "  print(\"The album was made in the 80's\")"
      ],
      "metadata": {
        "colab": {
          "base_uri": "https://localhost:8080/"
        },
        "id": "yrMP9pMERFKs",
        "outputId": "0e127872-c8ec-4545-e442-ff2721366127"
      },
      "execution_count": 16,
      "outputs": [
        {
          "output_type": "stream",
          "name": "stdout",
          "text": [
            "The album was made in the 80's\n"
          ]
        }
      ]
    },
    {
      "cell_type": "code",
      "source": [
        "# Question 1\n",
        "\n",
        "# i = 1 True\n",
        "# i = 0 False\n",
        "# i = -1 True\n",
        "# i = 10000000 True\n",
        "i!=0"
      ],
      "metadata": {
        "colab": {
          "base_uri": "https://localhost:8080/"
        },
        "id": "etK_ewWkRhWL",
        "outputId": "f5bb582e-ae52-470a-b20d-bff6ac9204b3"
      },
      "execution_count": 18,
      "outputs": [
        {
          "output_type": "execute_result",
          "data": {
            "text/plain": [
              "False"
            ]
          },
          "metadata": {},
          "execution_count": 18
        }
      ]
    },
    {
      "cell_type": "code",
      "source": [
        "# Question 2\n",
        "\n",
        "x='a'\n",
        "\n",
        "if(x!='a'):\n",
        "  print(\"This is not a.\")\n",
        "else:\n",
        "  print(\"This is a.\")"
      ],
      "metadata": {
        "colab": {
          "base_uri": "https://localhost:8080/"
        },
        "id": "MwGfXSvyR5nq",
        "outputId": "8ba9188d-8d15-45fa-81da-d9b5429f57b5"
      },
      "execution_count": 19,
      "outputs": [
        {
          "output_type": "stream",
          "name": "stdout",
          "text": [
            "This is a.\n"
          ]
        }
      ]
    },
    {
      "cell_type": "code",
      "source": [
        "# LOOPS\n",
        "\n",
        "# For loops / while loops\n",
        "\n",
        "# Range function range(N)\n",
        "\n",
        "range(3) # [0,1,2]\n"
      ],
      "metadata": {
        "colab": {
          "base_uri": "https://localhost:8080/"
        },
        "id": "Me2O45cgSDGe",
        "outputId": "398c531c-c550-4e02-eefa-169a47ddf124"
      },
      "execution_count": 20,
      "outputs": [
        {
          "output_type": "execute_result",
          "data": {
            "text/plain": [
              "range(0, 3)"
            ]
          },
          "metadata": {},
          "execution_count": 20
        }
      ]
    },
    {
      "cell_type": "code",
      "source": [
        "range(10,15) # [10,11,12,13,14]"
      ],
      "metadata": {
        "colab": {
          "base_uri": "https://localhost:8080/"
        },
        "id": "A7dthNeVSQhD",
        "outputId": "5d176497-9f52-4cf9-84a6-597bfc027422"
      },
      "execution_count": 21,
      "outputs": [
        {
          "output_type": "execute_result",
          "data": {
            "text/plain": [
              "range(10, 15)"
            ]
          },
          "metadata": {},
          "execution_count": 21
        }
      ]
    },
    {
      "cell_type": "code",
      "source": [
        "# FOR LOOPS\n",
        "squares = [\"red\",\"yellow\",\"green\",\"pruple\",\"blue\", \"orange\"]\n",
        "\n",
        "for i in range(0,5):\n",
        "  print(squares[i] == \"white\")\n"
      ],
      "metadata": {
        "colab": {
          "base_uri": "https://localhost:8080/"
        },
        "id": "I02Zh7kISR-L",
        "outputId": "a45d8511-011c-40aa-87e1-e01fe066f493"
      },
      "execution_count": 32,
      "outputs": [
        {
          "output_type": "stream",
          "name": "stdout",
          "text": [
            "False\n",
            "False\n",
            "False\n",
            "False\n",
            "False\n"
          ]
        }
      ]
    },
    {
      "cell_type": "code",
      "source": [
        "# ennumerate (obtain index and element in a list)\n",
        "\n",
        "for i, square in enumerate(squares):\n",
        "  print(square)\n",
        "  print(i)"
      ],
      "metadata": {
        "colab": {
          "base_uri": "https://localhost:8080/"
        },
        "id": "pz_Bm2JMTBC1",
        "outputId": "fd08f4ce-136c-499e-a045-14a77a062560"
      },
      "execution_count": 33,
      "outputs": [
        {
          "output_type": "stream",
          "name": "stdout",
          "text": [
            "red\n",
            "0\n",
            "yellow\n",
            "1\n",
            "green\n",
            "2\n",
            "pruple\n",
            "3\n",
            "blue\n",
            "4\n",
            "orange\n",
            "5\n"
          ]
        }
      ]
    },
    {
      "cell_type": "code",
      "source": [
        "# WHILE LOOPS\n",
        "\n",
        "squares = [\"orange\",\"orange\",\"purple\",\"blue\"]\n",
        "newsquares = []\n",
        "\n",
        "i = 0 \n",
        "\n",
        "while(squares[i] == \"orange\"):\n",
        "  newsquares.append(squares[i])\n",
        "  i = i + 1\n",
        "\n",
        "newsquares"
      ],
      "metadata": {
        "colab": {
          "base_uri": "https://localhost:8080/"
        },
        "id": "qwTeh5GvTgiI",
        "outputId": "a4e1c07b-e71b-43ae-98ad-996c6eb6c38e"
      },
      "execution_count": 40,
      "outputs": [
        {
          "output_type": "execute_result",
          "data": {
            "text/plain": [
              "['orange', 'orange']"
            ]
          },
          "metadata": {},
          "execution_count": 40
        }
      ]
    },
    {
      "cell_type": "code",
      "source": [
        "# Question 1\n",
        "\n",
        "A=[3,4,5]\n",
        "\n",
        "for a in A:\n",
        "  print(a)"
      ],
      "metadata": {
        "colab": {
          "base_uri": "https://localhost:8080/"
        },
        "id": "dXV1HFmOUznA",
        "outputId": "f13c920d-ea86-488c-ee3e-e1e6e13b2c06"
      },
      "execution_count": 42,
      "outputs": [
        {
          "output_type": "stream",
          "name": "stdout",
          "text": [
            "3\n",
            "4\n",
            "5\n"
          ]
        }
      ]
    },
    {
      "cell_type": "code",
      "source": [
        "# Question 2\n",
        "x=3\n",
        "y=1\n",
        "\n",
        "while(y!=x):\n",
        "  print(y)\n",
        "  y=y+1"
      ],
      "metadata": {
        "colab": {
          "base_uri": "https://localhost:8080/"
        },
        "id": "T-0bxnHSU659",
        "outputId": "a6ac7ae9-09d9-45c7-f9cb-e45eb9bffd83"
      },
      "execution_count": 43,
      "outputs": [
        {
          "output_type": "stream",
          "name": "stdout",
          "text": [
            "1\n",
            "2\n"
          ]
        }
      ]
    },
    {
      "cell_type": "code",
      "source": [
        "# Functions\n",
        "\n",
        "# built-in functions\n",
        "# create own functions\n",
        "\n",
        "# input  > function > output\n",
        "# output > function > output\n",
        "\n",
        "# python builtin fuctions\n",
        "\n",
        "# len(string/typecollection) returns the lenght of that sequence\n",
        "# sorted vs sort\n",
        "# sorted returns the sorted list\n",
        "\n",
        "album_ratings = [10,7,5,4,4,566,1]\n",
        "sorted_album_rating = sorted(album_ratings)\n",
        "sorted_album_rating # new variable was created here\n",
        "# nothin happens to the album_ratings\n"
      ],
      "metadata": {
        "colab": {
          "base_uri": "https://localhost:8080/"
        },
        "id": "RgIYuVSdVIi7",
        "outputId": "782291b1-ead0-4e08-9adf-d3be303c0851"
      },
      "execution_count": 48,
      "outputs": [
        {
          "output_type": "execute_result",
          "data": {
            "text/plain": [
              "[1, 4, 4, 5, 7, 10, 566]"
            ]
          },
          "metadata": {},
          "execution_count": 48
        }
      ]
    },
    {
      "cell_type": "code",
      "source": [
        "album_ratings.sort()  # the list album rating gets sorted\n",
        "album_ratings\n"
      ],
      "metadata": {
        "colab": {
          "base_uri": "https://localhost:8080/"
        },
        "id": "Sb5k8fF2d0nG",
        "outputId": "bab21390-8efe-4e39-d288-acb1642c001d"
      },
      "execution_count": 49,
      "outputs": [
        {
          "output_type": "execute_result",
          "data": {
            "text/plain": [
              "[1, 4, 4, 5, 7, 10, 566]"
            ]
          },
          "metadata": {},
          "execution_count": 49
        }
      ]
    },
    {
      "cell_type": "code",
      "source": [
        "# Making functions\n",
        "\n",
        "def add1(a):\n",
        "  \"\"\"\n",
        "  add 1 to a\n",
        "  \"\"\"\n",
        "  b = a + 1\n",
        "  return b\n",
        "\n",
        "b = add1(5)\n",
        "b"
      ],
      "metadata": {
        "colab": {
          "base_uri": "https://localhost:8080/"
        },
        "id": "YXVxWPzLc5nt",
        "outputId": "a1cf54c3-aff2-416b-edad-5a8b28be753f"
      },
      "execution_count": 51,
      "outputs": [
        {
          "output_type": "execute_result",
          "data": {
            "text/plain": [
              "6"
            ]
          },
          "metadata": {},
          "execution_count": 51
        }
      ]
    },
    {
      "cell_type": "code",
      "source": [
        "help(add1) # comment gets printed through help command once function was created"
      ],
      "metadata": {
        "colab": {
          "base_uri": "https://localhost:8080/"
        },
        "id": "bwlZRDnDemLl",
        "outputId": "44fa8ad5-ece5-46f5-b873-c879104d8ca7"
      },
      "execution_count": 52,
      "outputs": [
        {
          "output_type": "stream",
          "name": "stdout",
          "text": [
            "Help on function add1 in module __main__:\n",
            "\n",
            "add1(a)\n",
            "\n"
          ]
        }
      ]
    },
    {
      "cell_type": "code",
      "source": [
        "def Mult(a,b):\n",
        "  c = a * b\n",
        "  return c\n",
        "\n",
        "mymult = Mult(4,2)\n",
        "mymult\n"
      ],
      "metadata": {
        "colab": {
          "base_uri": "https://localhost:8080/"
        },
        "id": "fQ4p4CzyeuDC",
        "outputId": "8297d782-26e7-4e5e-d07c-063457557141"
      },
      "execution_count": 54,
      "outputs": [
        {
          "output_type": "execute_result",
          "data": {
            "text/plain": [
              "8"
            ]
          },
          "metadata": {},
          "execution_count": 54
        }
      ]
    },
    {
      "cell_type": "code",
      "source": [
        "def MJ():\n",
        "  print(\"Michael Jackson\") #returns non object \n",
        "\n",
        "MJ()"
      ],
      "metadata": {
        "colab": {
          "base_uri": "https://localhost:8080/"
        },
        "id": "a5f6mZ63e6zw",
        "outputId": "5f1bd75c-881a-4317-d014-6ad0b5145bf7"
      },
      "execution_count": 56,
      "outputs": [
        {
          "output_type": "stream",
          "name": "stdout",
          "text": [
            "Michael Jackson\n"
          ]
        }
      ]
    },
    {
      "cell_type": "code",
      "source": [
        "def NoWork():\n",
        "  pass\n",
        "print(NoWork())"
      ],
      "metadata": {
        "colab": {
          "base_uri": "https://localhost:8080/"
        },
        "id": "X-_wRqEyfDG5",
        "outputId": "888d3e46-f57b-47a6-dfae-f2e5b00afdef"
      },
      "execution_count": 57,
      "outputs": [
        {
          "output_type": "stream",
          "name": "stdout",
          "text": [
            "None\n"
          ]
        }
      ]
    },
    {
      "cell_type": "code",
      "source": [
        "# LOOPS IN FUNCTIONS\n",
        "def printstuff(stuff):\n",
        "  for i,s in enumerate(stuff):\n",
        "    print(\"album\",i,\"rating is\",s)\n",
        "\n",
        "printstuff(album_ratings)"
      ],
      "metadata": {
        "colab": {
          "base_uri": "https://localhost:8080/"
        },
        "id": "XdkO4IXWfQFX",
        "outputId": "883cc290-c797-4358-cfbe-567c3867a2a3"
      },
      "execution_count": 59,
      "outputs": [
        {
          "output_type": "stream",
          "name": "stdout",
          "text": [
            "album 0 rating is 1\n",
            "album 1 rating is 4\n",
            "album 2 rating is 4\n",
            "album 3 rating is 5\n",
            "album 4 rating is 7\n",
            "album 5 rating is 10\n",
            "album 6 rating is 566\n"
          ]
        }
      ]
    },
    {
      "cell_type": "code",
      "source": [
        "def artistnames(*names): \n",
        "  for name in names:\n",
        "    print(name)\n",
        "\n",
        "artistnames(\"michaeljackson\",\"acdc\",\"pink\")"
      ],
      "metadata": {
        "colab": {
          "base_uri": "https://localhost:8080/"
        },
        "id": "fFiKVNdmflWE",
        "outputId": "532be6ec-b5da-4c30-e3b1-f6e003fd40a3"
      },
      "execution_count": 60,
      "outputs": [
        {
          "output_type": "stream",
          "name": "stdout",
          "text": [
            "michaeljackson\n",
            "acdc\n",
            "pink\n"
          ]
        }
      ]
    },
    {
      "cell_type": "code",
      "source": [
        "# SCOPE, part of the program where the variable is accesible\n",
        "\n",
        "# local vs global scope\n",
        "\n",
        "# function runs first on local scope, if not found it goes to global scope\n",
        "\n",
        "# local scope\n",
        "def addc (x):\n",
        "  x = x +\"DC\"\n",
        "  print(x)\n",
        "  return(x)\n",
        "\n",
        "x = \"AC\"\n",
        "z = addc(x)\n",
        "z\n"
      ],
      "metadata": {
        "colab": {
          "base_uri": "https://localhost:8080/",
          "height": 53
        },
        "id": "_YESyDYugB9T",
        "outputId": "1921773f-cb96-44b9-d9da-c043e48792e1"
      },
      "execution_count": 62,
      "outputs": [
        {
          "output_type": "stream",
          "name": "stdout",
          "text": [
            "ACDC\n"
          ]
        },
        {
          "output_type": "execute_result",
          "data": {
            "text/plain": [
              "'ACDC'"
            ],
            "application/vnd.google.colaboratory.intrinsic+json": {
              "type": "string"
            }
          },
          "metadata": {},
          "execution_count": 62
        }
      ]
    },
    {
      "cell_type": "code",
      "source": [
        "x"
      ],
      "metadata": {
        "colab": {
          "base_uri": "https://localhost:8080/",
          "height": 35
        },
        "id": "8R3gtotMfklB",
        "outputId": "255fb7b2-0fbd-4a5d-ea33-2326c0fe48ab"
      },
      "execution_count": 63,
      "outputs": [
        {
          "output_type": "execute_result",
          "data": {
            "text/plain": [
              "'AC'"
            ],
            "application/vnd.google.colaboratory.intrinsic+json": {
              "type": "string"
            }
          },
          "metadata": {},
          "execution_count": 63
        }
      ]
    },
    {
      "cell_type": "code",
      "source": [
        "# Question 1\n",
        "a=1\n",
        "\n",
        "def add(b):\n",
        "  return a+b\n",
        "c=add(10)\n",
        "c"
      ],
      "metadata": {
        "colab": {
          "base_uri": "https://localhost:8080/"
        },
        "id": "wRuIU410g4Rl",
        "outputId": "0a4ac62c-6afa-4a67-b03f-c294405f32d0"
      },
      "execution_count": 65,
      "outputs": [
        {
          "output_type": "execute_result",
          "data": {
            "text/plain": [
              "11"
            ]
          },
          "metadata": {},
          "execution_count": 65
        }
      ]
    },
    {
      "cell_type": "code",
      "source": [
        "# What is the value of c after the following block of code is run with proper numerical input?\n",
        "\n",
        "def f(*x):\n",
        "  return sum(x)\n",
        "\n",
        "f = f(c,c,c)\n",
        "f"
      ],
      "metadata": {
        "colab": {
          "base_uri": "https://localhost:8080/"
        },
        "id": "iKkK9ksWhUG_",
        "outputId": "4f77e2b3-9b5e-489b-9a55-ed7562f9ce09"
      },
      "execution_count": 66,
      "outputs": [
        {
          "output_type": "execute_result",
          "data": {
            "text/plain": [
              "33"
            ]
          },
          "metadata": {},
          "execution_count": 66
        }
      ]
    },
    {
      "cell_type": "code",
      "source": [
        "# OBJECTS AND CLASSES\n",
        "\n",
        "# every object has:\n",
        "# a type, internal data representation (blueprint), a set of procedures for interacting with the object (methods)\n",
        "# type, data, methods\n",
        "# an object is an instance of a particular type\n",
        "\n",
        "# type 1 has objects 1,2,3..to N\n",
        "# type 2 has objects 1,2,3..to N\n",
        "\n",
        "# type() command to find the bject type"
      ],
      "metadata": {
        "id": "f6TyGMr8hnJ-"
      },
      "execution_count": null,
      "outputs": []
    },
    {
      "cell_type": "code",
      "source": [
        "# creating class\n",
        "\n",
        "# circle, attributes: color, ratuids\n",
        "# rectangle, attributes: height, widht\n",
        "\n",
        "class circle():\n",
        "  def __init__(self,radius,color):\n",
        "    self.radius = radius  # values that will be passed to the object\n",
        "    self.color  = color  # values that will be passed to the object\n",
        "\n",
        "  def add_radius(self,r):\n",
        "    self.radius =self.radius + r\n",
        "    return(self.radius)\n",
        "\n",
        "class rectangle():\n",
        "  def __init__(self,height,width):\n",
        "    self.height = height  # values that will be passed to the object\n",
        "    self.width  = width  # values that will be passed to the object\n",
        "\n",
        "c1 = circle(10,\"red\")\n",
        "c1.color = \"blue\" # this will change the attribute of the object\n",
        "c1.add_radius(10) # this is hte updated radius 10 + 10\n"
      ],
      "metadata": {
        "colab": {
          "base_uri": "https://localhost:8080/"
        },
        "id": "11wDaVjwiiWP",
        "outputId": "88b46f1e-0ba4-4fba-f9c6-9248bfa4d65f"
      },
      "execution_count": 71,
      "outputs": [
        {
          "output_type": "execute_result",
          "data": {
            "text/plain": [
              "20"
            ]
          },
          "metadata": {},
          "execution_count": 71
        }
      ]
    },
    {
      "cell_type": "code",
      "source": [
        "c1.color"
      ],
      "metadata": {
        "colab": {
          "base_uri": "https://localhost:8080/",
          "height": 35
        },
        "id": "N1dszMIIkfN5",
        "outputId": "cafcb673-0ca9-47dd-9de9-40f1dd4f11e6"
      },
      "execution_count": 72,
      "outputs": [
        {
          "output_type": "execute_result",
          "data": {
            "text/plain": [
              "'blue'"
            ],
            "application/vnd.google.colaboratory.intrinsic+json": {
              "type": "string"
            }
          },
          "metadata": {},
          "execution_count": 72
        }
      ]
    },
    {
      "cell_type": "code",
      "source": [
        "c1.radius"
      ],
      "metadata": {
        "colab": {
          "base_uri": "https://localhost:8080/"
        },
        "id": "-cnnc9Z9kg7T",
        "outputId": "8786785e-9962-4278-d169-cc78f12452dd"
      },
      "execution_count": 73,
      "outputs": [
        {
          "output_type": "execute_result",
          "data": {
            "text/plain": [
              "20"
            ]
          },
          "metadata": {},
          "execution_count": 73
        }
      ]
    },
    {
      "cell_type": "markdown",
      "source": [
        "Review Questions module 1 - 3 "
      ],
      "metadata": {
        "id": "0834H4O5loJk"
      }
    },
    {
      "cell_type": "code",
      "source": [
        "# Question 1\n",
        "\n",
        "# What is the output of the following lines of code:\n",
        "\n",
        "x=1\n",
        "\n",
        "if(x!=1):\n",
        "  print('Hello')\n",
        "else:\n",
        "  print('Hi')\n",
        "print('Mike')"
      ],
      "metadata": {
        "colab": {
          "base_uri": "https://localhost:8080/"
        },
        "id": "76pPFVZ-luW5",
        "outputId": "ba34321a-d050-4548-f251-a7d88266bc2b"
      },
      "execution_count": 74,
      "outputs": [
        {
          "output_type": "stream",
          "name": "stdout",
          "text": [
            "Hi\n",
            "Mike\n"
          ]
        }
      ]
    },
    {
      "cell_type": "code",
      "source": [
        "# Question 2\n",
        "\n",
        "# What is the output of the following few lines of code?\n",
        "\n",
        "A = ['1','2','3']\n",
        "\n",
        "for a in A:\n",
        "  print(2*a)"
      ],
      "metadata": {
        "colab": {
          "base_uri": "https://localhost:8080/"
        },
        "id": "D6q9lMlGl6Wb",
        "outputId": "185bbc15-ade1-4b43-d048-cc0fb66c9c11"
      },
      "execution_count": 75,
      "outputs": [
        {
          "output_type": "stream",
          "name": "stdout",
          "text": [
            "11\n",
            "22\n",
            "33\n"
          ]
        }
      ]
    },
    {
      "cell_type": "code",
      "source": [
        "# Question 3\n",
        "\n",
        "# Consider the function Delta, when will the function return a value of 1\n",
        "\n",
        "def Delta(x):\n",
        "  if x==0:\n",
        "    y=1;\n",
        "  else:\n",
        "    y=0;\n",
        "  return(y)\n",
        "\n",
        "delta_result = Delta(0) \n",
        "delta_result "
      ],
      "metadata": {
        "colab": {
          "base_uri": "https://localhost:8080/"
        },
        "id": "BzzBoQaUmDDm",
        "outputId": "b33ae051-5644-4b97-f2e6-7703e0eb4c84"
      },
      "execution_count": 76,
      "outputs": [
        {
          "output_type": "execute_result",
          "data": {
            "text/plain": [
              "1"
            ]
          },
          "metadata": {},
          "execution_count": 76
        }
      ]
    },
    {
      "cell_type": "code",
      "source": [
        "# Question 4\n",
        "\n",
        "# What is the correct way to sort the list 'B' using a method? The result should not return a new list, just change the list 'B'.\n",
        "\n",
        "b = [10,7,5,4,4,566,1]\n",
        "sorted_b = sorted(b)\n",
        "sorted_b # new variable was created here\n",
        "# nothin happens to b"
      ],
      "metadata": {
        "colab": {
          "base_uri": "https://localhost:8080/"
        },
        "id": "ENkPRxKNmVqN",
        "outputId": "fab7d80a-85e3-4d6a-ce4a-181752265085"
      },
      "execution_count": 77,
      "outputs": [
        {
          "output_type": "execute_result",
          "data": {
            "text/plain": [
              "[1, 4, 4, 5, 7, 10, 566]"
            ]
          },
          "metadata": {},
          "execution_count": 77
        }
      ]
    },
    {
      "cell_type": "code",
      "source": [
        "b"
      ],
      "metadata": {
        "colab": {
          "base_uri": "https://localhost:8080/"
        },
        "id": "LDjANeCKmsjY",
        "outputId": "83d200b1-99b7-4759-d8b4-24ac25c9d459"
      },
      "execution_count": 78,
      "outputs": [
        {
          "output_type": "execute_result",
          "data": {
            "text/plain": [
              "[10, 7, 5, 4, 4, 566, 1]"
            ]
          },
          "metadata": {},
          "execution_count": 78
        }
      ]
    },
    {
      "cell_type": "code",
      "source": [
        "b.sort()  # the list album rating gets sorted\n",
        "b"
      ],
      "metadata": {
        "colab": {
          "base_uri": "https://localhost:8080/"
        },
        "id": "TMTMohT8mpb8",
        "outputId": "78fb54a8-b679-4aa2-f226-ca0731f3a05e"
      },
      "execution_count": 79,
      "outputs": [
        {
          "output_type": "execute_result",
          "data": {
            "text/plain": [
              "[1, 4, 4, 5, 7, 10, 566]"
            ]
          },
          "metadata": {},
          "execution_count": 79
        }
      ]
    },
    {
      "cell_type": "code",
      "source": [
        "# Question 5\n",
        "# What are the keys of the following dictionary: {'a':1,'b':2}?\n",
        "\n",
        "my_new_dict = {'a':1,'b':2}\n",
        "my_new_dict.keys()"
      ],
      "metadata": {
        "colab": {
          "base_uri": "https://localhost:8080/"
        },
        "id": "2w_VD4tJmxY1",
        "outputId": "b5141aeb-e812-44b8-92f1-c2af3f390bdf"
      },
      "execution_count": 80,
      "outputs": [
        {
          "output_type": "execute_result",
          "data": {
            "text/plain": [
              "dict_keys(['a', 'b'])"
            ]
          },
          "metadata": {},
          "execution_count": 80
        }
      ]
    }
  ]
}