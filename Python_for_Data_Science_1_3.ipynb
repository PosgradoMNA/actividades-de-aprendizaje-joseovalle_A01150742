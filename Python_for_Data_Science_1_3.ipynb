{
  "nbformat": 4,
  "nbformat_minor": 0,
  "metadata": {
    "colab": {
      "provenance": [],
      "collapsed_sections": [],
      "authorship_tag": "ABX9TyOf6d7aMTx/FnyH7AKYQ/Zd",
      "include_colab_link": true
    },
    "kernelspec": {
      "name": "python3",
      "display_name": "Python 3"
    },
    "language_info": {
      "name": "python"
    }
  },
  "cells": [
    {
      "cell_type": "markdown",
      "metadata": {
        "id": "view-in-github",
        "colab_type": "text"
      },
      "source": [
        "<a href=\"https://colab.research.google.com/github/PosgradoMNA/actividades-de-aprendizaje-joseovalletecmx/blob/main/Python_for_Data_Science_1_3.ipynb\" target=\"_parent\"><img src=\"https://colab.research.google.com/assets/colab-badge.svg\" alt=\"Open In Colab\"/></a>"
      ]
    },
    {
      "cell_type": "markdown",
      "source": [
        "Module 1 - Python Basics"
      ],
      "metadata": {
        "id": "DidNmtwrrSjj"
      }
    },
    {
      "cell_type": "code",
      "source": [
        "print (\"Hello Python 101\")"
      ],
      "metadata": {
        "colab": {
          "base_uri": "https://localhost:8080/"
        },
        "id": "v6p5fTdlq6Ss",
        "outputId": "6fe84d5e-674f-4bd8-b471-5fa8690c7d5f"
      },
      "execution_count": 1,
      "outputs": [
        {
          "output_type": "stream",
          "name": "stdout",
          "text": [
            "Hello Python 101\n"
          ]
        }
      ]
    },
    {
      "cell_type": "markdown",
      "source": [
        "Module 2 - Python Data Structures"
      ],
      "metadata": {
        "id": "GqWlCTELrgzL"
      }
    },
    {
      "cell_type": "markdown",
      "source": [
        "Module 3 - Python Programming Fundamentals\n",
        "\n"
      ],
      "metadata": {
        "id": "HJyQ49PNrn2K"
      }
    }
  ]
}