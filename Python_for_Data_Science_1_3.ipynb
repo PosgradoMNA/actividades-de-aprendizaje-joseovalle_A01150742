{
  "nbformat": 4,
  "nbformat_minor": 0,
  "metadata": {
    "colab": {
      "provenance": [],
      "collapsed_sections": [],
      "authorship_tag": "ABX9TyPAB6ObhjvRFXmD0V/IO/2R",
      "include_colab_link": true
    },
    "kernelspec": {
      "name": "python3",
      "display_name": "Python 3"
    },
    "language_info": {
      "name": "python"
    }
  },
  "cells": [
    {
      "cell_type": "markdown",
      "metadata": {
        "id": "view-in-github",
        "colab_type": "text"
      },
      "source": [
        "<a href=\"https://colab.research.google.com/github/PosgradoMNA/actividades-de-aprendizaje-joseovalletecmx/blob/main/Python_for_Data_Science_1_3.ipynb\" target=\"_parent\"><img src=\"https://colab.research.google.com/assets/colab-badge.svg\" alt=\"Open In Colab\"/></a>"
      ]
    },
    {
      "cell_type": "markdown",
      "source": [
        "Module 1 - Python Basics"
      ],
      "metadata": {
        "id": "DidNmtwrrSjj"
      }
    },
    {
      "cell_type": "code",
      "source": [
        "print (\"Hello Python 101\")"
      ],
      "metadata": {
        "colab": {
          "base_uri": "https://localhost:8080/"
        },
        "id": "v6p5fTdlq6Ss",
        "outputId": "6fe84d5e-674f-4bd8-b471-5fa8690c7d5f"
      },
      "execution_count": 1,
      "outputs": [
        {
          "output_type": "stream",
          "name": "stdout",
          "text": [
            "Hello Python 101\n"
          ]
        }
      ]
    },
    {
      "cell_type": "code",
      "source": [
        "print(\"Hello\\nWorld!\")"
      ],
      "metadata": {
        "colab": {
          "base_uri": "https://localhost:8080/"
        },
        "id": "by8M4_WMr9vL",
        "outputId": "85571106-516f-4b27-a1a4-1dd49e74a0d1"
      },
      "execution_count": 2,
      "outputs": [
        {
          "output_type": "stream",
          "name": "stdout",
          "text": [
            "Hello\n",
            "World!\n"
          ]
        }
      ]
    },
    {
      "cell_type": "code",
      "source": [
        "# print('Hello World!')?"
      ],
      "metadata": {
        "id": "mysyfzzFsDoH"
      },
      "execution_count": 3,
      "outputs": []
    },
    {
      "cell_type": "code",
      "source": [
        "# Types - int, real numbers, words (strings)\n",
        "# type(input) type function to display type of value"
      ],
      "metadata": {
        "id": "tW0OAayisPXw"
      },
      "execution_count": null,
      "outputs": []
    },
    {
      "cell_type": "code",
      "source": [
        "# What is the type of the following: int(1.0)?\n",
        "type(int(1.0))"
      ],
      "metadata": {
        "colab": {
          "base_uri": "https://localhost:8080/"
        },
        "id": "qD5V-q_sskwm",
        "outputId": "c410206c-0c9f-447c-8f53-c46119971363"
      },
      "execution_count": 7,
      "outputs": [
        {
          "output_type": "execute_result",
          "data": {
            "text/plain": [
              "int"
            ]
          },
          "metadata": {},
          "execution_count": 7
        }
      ]
    },
    {
      "cell_type": "code",
      "source": [
        "# Enter the code to convert the number 1 to a Boolean\n",
        "bool(1)"
      ],
      "metadata": {
        "colab": {
          "base_uri": "https://localhost:8080/"
        },
        "id": "Gds5-0XLtAVa",
        "outputId": "2921781c-c0c9-452a-fba3-069d0bc4fd7b"
      },
      "execution_count": 8,
      "outputs": [
        {
          "output_type": "execute_result",
          "data": {
            "text/plain": [
              "True"
            ]
          },
          "metadata": {},
          "execution_count": 8
        }
      ]
    },
    {
      "cell_type": "code",
      "source": [
        "# operands (numbers) and operators\n",
        "43+60+16+41\n",
        "50-60\n",
        "25/5\n"
      ],
      "metadata": {
        "colab": {
          "base_uri": "https://localhost:8080/"
        },
        "id": "Tkb2ULqstP0a",
        "outputId": "02598741-c61f-4264-e005-634abf6a9f14"
      },
      "execution_count": 12,
      "outputs": [
        {
          "output_type": "execute_result",
          "data": {
            "text/plain": [
              "5.0"
            ]
          },
          "metadata": {},
          "execution_count": 12
        }
      ]
    },
    {
      "cell_type": "code",
      "source": [
        "# double dash for integers division, result is rounded\n",
        "25 // 6"
      ],
      "metadata": {
        "colab": {
          "base_uri": "https://localhost:8080/"
        },
        "id": "loZZcGR3ti_Q",
        "outputId": "1e4d737f-4540-4dc6-f4eb-890c469b6d64"
      },
      "execution_count": 14,
      "outputs": [
        {
          "output_type": "execute_result",
          "data": {
            "text/plain": [
              "4"
            ]
          },
          "metadata": {},
          "execution_count": 14
        }
      ]
    },
    {
      "cell_type": "code",
      "source": [
        "# vs 1 dash \n",
        "25 / 6"
      ],
      "metadata": {
        "colab": {
          "base_uri": "https://localhost:8080/"
        },
        "id": "7LmNspkgty42",
        "outputId": "8e06f092-1ff3-4cc3-9b4d-e8a60fe954e9"
      },
      "execution_count": 15,
      "outputs": [
        {
          "output_type": "execute_result",
          "data": {
            "text/plain": [
              "4.166666666666667"
            ]
          },
          "metadata": {},
          "execution_count": 15
        }
      ]
    },
    {
      "cell_type": "code",
      "source": [
        "# Use of variable to store values\n",
        "\n",
        "my_variable = 1\n",
        "my_variable\n",
        "\n",
        "# Reassing value\n",
        "my_variable = 10\n",
        "my_variable\n",
        "\n",
        "# operations on variables\n",
        "x = 160\n",
        "x = x / 60\n",
        "x\n",
        "\n",
        "# example converting min to hours\n",
        "\n",
        "total_min = 43 +42 + 57\n",
        "total_hr = total_min / 60\n",
        "total_hr"
      ],
      "metadata": {
        "colab": {
          "base_uri": "https://localhost:8080/"
        },
        "id": "mQpR4UvPt5ds",
        "outputId": "01cc8ace-f6e2-43cb-a0d8-f682f3d9ff0c"
      },
      "execution_count": 20,
      "outputs": [
        {
          "output_type": "execute_result",
          "data": {
            "text/plain": [
              "2.3666666666666667"
            ]
          },
          "metadata": {},
          "execution_count": 20
        }
      ]
    },
    {
      "cell_type": "code",
      "source": [
        "# Check the python version\n",
        "import sys\n",
        "print (sys.version)"
      ],
      "metadata": {
        "colab": {
          "base_uri": "https://localhost:8080/"
        },
        "id": "f8TOtsRVu-MB",
        "outputId": "723b6a94-2e79-45b3-f883-2c04a94703f4"
      },
      "execution_count": 21,
      "outputs": [
        {
          "output_type": "stream",
          "name": "stdout",
          "text": [
            "3.7.14 (default, Sep  8 2022, 00:06:44) \n",
            "[GCC 7.5.0]\n"
          ]
        }
      ]
    },
    {
      "cell_type": "code",
      "source": [
        "# Error example, this will show a \"NameError\" message\n",
        "frint (\"This is an error\")"
      ],
      "metadata": {
        "colab": {
          "base_uri": "https://localhost:8080/",
          "height": 183
        },
        "id": "Vg2S7qsSvGHB",
        "outputId": "ac32265b-1e4f-4186-cc04-a87b9411bdfa"
      },
      "execution_count": 22,
      "outputs": [
        {
          "output_type": "error",
          "ename": "NameError",
          "evalue": "ignored",
          "traceback": [
            "\u001b[0;31m---------------------------------------------------------------------------\u001b[0m",
            "\u001b[0;31mNameError\u001b[0m                                 Traceback (most recent call last)",
            "\u001b[0;32m<ipython-input-22-c295bef8db8c>\u001b[0m in \u001b[0;36m<module>\u001b[0;34m\u001b[0m\n\u001b[1;32m      1\u001b[0m \u001b[0;31m# Print string as error message\u001b[0m\u001b[0;34m\u001b[0m\u001b[0;34m\u001b[0m\u001b[0;34m\u001b[0m\u001b[0m\n\u001b[0;32m----> 2\u001b[0;31m \u001b[0mfrint\u001b[0m \u001b[0;34m(\u001b[0m\u001b[0;34m\"This is an error\"\u001b[0m\u001b[0;34m)\u001b[0m\u001b[0;34m\u001b[0m\u001b[0;34m\u001b[0m\u001b[0m\n\u001b[0m",
            "\u001b[0;31mNameError\u001b[0m: name 'frint' is not defined"
          ]
        }
      ]
    },
    {
      "cell_type": "code",
      "source": [
        "# String operations"
      ],
      "metadata": {
        "id": "Q0zMJMgzvVeq"
      },
      "execution_count": null,
      "outputs": []
    },
    {
      "cell_type": "markdown",
      "source": [
        "Module 2 - Python Data Structures"
      ],
      "metadata": {
        "id": "GqWlCTELrgzL"
      }
    },
    {
      "cell_type": "markdown",
      "source": [
        "Module 3 - Python Programming Fundamentals\n",
        "\n"
      ],
      "metadata": {
        "id": "HJyQ49PNrn2K"
      }
    }
  ]
}