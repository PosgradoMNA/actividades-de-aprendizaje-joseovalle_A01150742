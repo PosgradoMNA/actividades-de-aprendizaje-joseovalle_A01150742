{
  "nbformat": 4,
  "nbformat_minor": 0,
  "metadata": {
    "colab": {
      "provenance": [],
      "collapsed_sections": [],
      "authorship_tag": "ABX9TyNpJevhuKZP6pNAN9QcsS/W",
      "include_colab_link": true
    },
    "kernelspec": {
      "name": "python3",
      "display_name": "Python 3"
    },
    "language_info": {
      "name": "python"
    }
  },
  "cells": [
    {
      "cell_type": "markdown",
      "metadata": {
        "id": "view-in-github",
        "colab_type": "text"
      },
      "source": [
        "<a href=\"https://colab.research.google.com/github/PosgradoMNA/actividades-de-aprendizaje-joseovalle_A01150742/blob/main/Python_for_Data_Science_2.ipynb\" target=\"_parent\"><img src=\"https://colab.research.google.com/assets/colab-badge.svg\" alt=\"Open In Colab\"/></a>"
      ]
    },
    {
      "cell_type": "markdown",
      "source": [
        "Alumno: José Ovalle Alvarado\n",
        "Matrícula: A01150742\n",
        "Actividad: semana 1 - Módulo 2"
      ],
      "metadata": {
        "id": "A2LwSRAjRuzh"
      }
    },
    {
      "cell_type": "markdown",
      "source": [
        "Module 2 - Python Data Structures"
      ],
      "metadata": {
        "id": "GqWlCTELrgzL"
      }
    },
    {
      "cell_type": "code",
      "source": [
        "# LISTS AND TUPLES\n",
        "\n",
        "# Compound data types, key stuctures\n",
        "# Tuples are ordered sequences example (10,9,6,5,10)  all types can be contained within a tuple\n",
        "# To acces use indexing\n",
        "# Tuples are immutable, # cannot be changed through indexes\n",
        "\n",
        "Tuple1 = (\"disco\",10,1.2)\n",
        "Tuple1[1]"
      ],
      "metadata": {
        "colab": {
          "base_uri": "https://localhost:8080/"
        },
        "id": "d4L5dlZQ7lD-",
        "outputId": "8b4da328-2519-4a3a-ea7a-65111aa8dd4a"
      },
      "execution_count": null,
      "outputs": [
        {
          "output_type": "execute_result",
          "data": {
            "text/plain": [
              "10"
            ]
          },
          "metadata": {},
          "execution_count": 3
        }
      ]
    },
    {
      "cell_type": "code",
      "source": [
        "Tuple1[0:3]"
      ],
      "metadata": {
        "colab": {
          "base_uri": "https://localhost:8080/"
        },
        "id": "or0uiYna8K34",
        "outputId": "1b6a0925-f27d-4ba6-c5d9-9deed7b3386b"
      },
      "execution_count": null,
      "outputs": [
        {
          "output_type": "execute_result",
          "data": {
            "text/plain": [
              "('disco', 10, 1.2)"
            ]
          },
          "metadata": {},
          "execution_count": 4
        }
      ]
    },
    {
      "cell_type": "code",
      "source": [
        "len(Tuple1[0:3])"
      ],
      "metadata": {
        "colab": {
          "base_uri": "https://localhost:8080/"
        },
        "id": "3wBKmTRL8NER",
        "outputId": "9280b1ae-ad61-4104-b723-b0fcf823b2f5"
      },
      "execution_count": null,
      "outputs": [
        {
          "output_type": "execute_result",
          "data": {
            "text/plain": [
              "3"
            ]
          },
          "metadata": {},
          "execution_count": 5
        }
      ]
    },
    {
      "cell_type": "code",
      "source": [
        "tuple1ssorted = sorted(Tuple1[1:3])\n",
        "tuple1ssorted"
      ],
      "metadata": {
        "colab": {
          "base_uri": "https://localhost:8080/"
        },
        "id": "1UaM_c8a8Pjk",
        "outputId": "db8c2c56-1db9-4048-ce94-38ca1c5b8d94"
      },
      "execution_count": null,
      "outputs": [
        {
          "output_type": "execute_result",
          "data": {
            "text/plain": [
              "[1.2, 10]"
            ]
          },
          "metadata": {},
          "execution_count": 8
        }
      ]
    },
    {
      "cell_type": "code",
      "source": [
        "# Tuples: nesting\n",
        "NT = (1,2,(\"pop\",\"rock\"),(3,4),(\"disco\",(1,2)))\n",
        "NT\n",
        "\n",
        "# accessing throuhg indexing std method\n",
        "NT[2]\n",
        "NT[2][1]\n",
        "NT[2][0]\n",
        "NT[2][0][1]"
      ],
      "metadata": {
        "colab": {
          "base_uri": "https://localhost:8080/",
          "height": 35
        },
        "id": "7b22cTlA8gsS",
        "outputId": "dcf48061-e33f-47bb-f825-32efb917c72d"
      },
      "execution_count": null,
      "outputs": [
        {
          "output_type": "execute_result",
          "data": {
            "text/plain": [
              "'o'"
            ],
            "application/vnd.google.colaboratory.intrinsic+json": {
              "type": "string"
            }
          },
          "metadata": {},
          "execution_count": 14
        }
      ]
    },
    {
      "cell_type": "code",
      "source": [
        "# Lists are also order sequences\n",
        "# Key differences, they are mutable\n",
        "\n",
        "mylist= [1,2,(\"pop\",\"rock\"),(3,4),(\"disco\",(1,2))]\n",
        "mylist\n",
        "\n",
        "# slicing can be performed\n",
        "# lists can be concatened\n",
        "L1 = mylist + [\"new element of the list\"]\n",
        "L1"
      ],
      "metadata": {
        "colab": {
          "base_uri": "https://localhost:8080/"
        },
        "id": "L__hhNXF9O2X",
        "outputId": "cffb6464-b532-4cf3-cfdf-5187384632d6"
      },
      "execution_count": null,
      "outputs": [
        {
          "output_type": "execute_result",
          "data": {
            "text/plain": [
              "[1, 2, ('pop', 'rock'), (3, 4), ('disco', (1, 2)), 'new element of the list']"
            ]
          },
          "metadata": {},
          "execution_count": 17
        }
      ]
    },
    {
      "cell_type": "code",
      "source": [
        "# extend method - more than 1 element\n",
        "L2 = mylist.extend([\"new element of the list\"])\n",
        "L2"
      ],
      "metadata": {
        "id": "3LxffvFr91xJ"
      },
      "execution_count": null,
      "outputs": []
    },
    {
      "cell_type": "code",
      "source": [
        "# append method , per element\n",
        "mylist.append(\"new element\")\n",
        "mylist"
      ],
      "metadata": {
        "colab": {
          "base_uri": "https://localhost:8080/"
        },
        "id": "WV2ILiWk996Y",
        "outputId": "00db53bb-18ce-4cc0-b742-8795dd139db7"
      },
      "execution_count": null,
      "outputs": [
        {
          "output_type": "execute_result",
          "data": {
            "text/plain": [
              "[1,\n",
              " 2,\n",
              " ('pop', 'rock'),\n",
              " (3, 4),\n",
              " ('disco', (1, 2)),\n",
              " 'new element of the list',\n",
              " 'new element',\n",
              " 'new element']"
            ]
          },
          "metadata": {},
          "execution_count": 21
        }
      ]
    },
    {
      "cell_type": "code",
      "source": [
        "# Convert string to list with split\n",
        "\"hard rock\".split()\n",
        "\"hard_rock\".split(\"_\") # adding a specific index to separate"
      ],
      "metadata": {
        "colab": {
          "base_uri": "https://localhost:8080/"
        },
        "id": "D5yR7LPc-jsd",
        "outputId": "934545e1-bf47-4e39-ba97-1e85441f7721"
      },
      "execution_count": null,
      "outputs": [
        {
          "output_type": "execute_result",
          "data": {
            "text/plain": [
              "['hard', 'rock']"
            ]
          },
          "metadata": {},
          "execution_count": 26
        }
      ]
    },
    {
      "cell_type": "code",
      "source": [
        "# Exercises\n",
        "\n",
        "# Question 1\n",
        "A=(0,1,2,3)\n",
        "A[3]"
      ],
      "metadata": {
        "colab": {
          "base_uri": "https://localhost:8080/"
        },
        "id": "SFOb1dwV-7SK",
        "outputId": "bc3f12e2-c58b-4882-b76a-e32871013ec5"
      },
      "execution_count": null,
      "outputs": [
        {
          "output_type": "execute_result",
          "data": {
            "text/plain": [
              "3"
            ]
          },
          "metadata": {},
          "execution_count": 28
        }
      ]
    },
    {
      "cell_type": "code",
      "source": [
        "# Question 2\n",
        "B=[\"a\",\"b\",\"c\"]\n",
        "B[1:]"
      ],
      "metadata": {
        "colab": {
          "base_uri": "https://localhost:8080/"
        },
        "id": "dtIk-hbw_JQd",
        "outputId": "70a6fc51-ac8e-48ba-df1e-0d91faed5ef5"
      },
      "execution_count": null,
      "outputs": [
        {
          "output_type": "execute_result",
          "data": {
            "text/plain": [
              "['b', 'c']"
            ]
          },
          "metadata": {},
          "execution_count": 29
        }
      ]
    },
    {
      "cell_type": "code",
      "source": [
        "B.append(['a','b'])\n",
        "B"
      ],
      "metadata": {
        "colab": {
          "base_uri": "https://localhost:8080/"
        },
        "id": "eKSalWkUC9XL",
        "outputId": "e050d805-7416-4418-cf40-2d3cdcef5c64"
      },
      "execution_count": null,
      "outputs": [
        {
          "output_type": "execute_result",
          "data": {
            "text/plain": [
              "['a', 'b', 'c', ['a', 'b'], ['a', 'b']]"
            ]
          },
          "metadata": {},
          "execution_count": 59
        }
      ]
    },
    {
      "cell_type": "code",
      "source": [
        "# SETS\n",
        "# Type of collection, input different python types, they are unordered\n",
        "# SETS have unique elements\n",
        "# to define use {}\n",
        "\n",
        "set1 = {1,1,2,3,4,5,6,7,8,8,9}\n",
        "set1\n",
        "\n",
        "# convert list to set - use set()\n",
        "\n",
        "myset = set(mylist)\n",
        "myset"
      ],
      "metadata": {
        "colab": {
          "base_uri": "https://localhost:8080/"
        },
        "id": "5NssZ1mI_UiJ",
        "outputId": "95668e65-5c33-4962-f1bc-31d49120637a"
      },
      "execution_count": null,
      "outputs": [
        {
          "output_type": "execute_result",
          "data": {
            "text/plain": [
              "{('disco', (1, 2)),\n",
              " ('pop', 'rock'),\n",
              " (3, 4),\n",
              " 1,\n",
              " 2,\n",
              " 'new element',\n",
              " 'new element of the list'}"
            ]
          },
          "metadata": {},
          "execution_count": 34
        }
      ]
    },
    {
      "cell_type": "code",
      "source": [
        "# Set operations\n",
        "# add method\n",
        "myset.add(\"hello world\")\n",
        "myset\n"
      ],
      "metadata": {
        "colab": {
          "base_uri": "https://localhost:8080/"
        },
        "id": "WgMFBJCCACp0",
        "outputId": "5ef88981-d357-4740-bd17-798ec280b047"
      },
      "execution_count": null,
      "outputs": [
        {
          "output_type": "execute_result",
          "data": {
            "text/plain": [
              "{('disco', (1, 2)),\n",
              " ('pop', 'rock'),\n",
              " (3, 4),\n",
              " 1,\n",
              " 2,\n",
              " 'hello world',\n",
              " 'new element',\n",
              " 'new element of the list'}"
            ]
          },
          "metadata": {},
          "execution_count": 35
        }
      ]
    },
    {
      "cell_type": "code",
      "source": [
        "# remove method\n",
        "myset.remove(\"hello world\")\n",
        "myset"
      ],
      "metadata": {
        "colab": {
          "base_uri": "https://localhost:8080/"
        },
        "id": "3xaz_yEEAFGo",
        "outputId": "6c4ff956-f27e-41b0-af63-66dff57580fb"
      },
      "execution_count": null,
      "outputs": [
        {
          "output_type": "execute_result",
          "data": {
            "text/plain": [
              "{('disco', (1, 2)),\n",
              " ('pop', 'rock'),\n",
              " (3, 4),\n",
              " 1,\n",
              " 2,\n",
              " 'new element',\n",
              " 'new element of the list'}"
            ]
          },
          "metadata": {},
          "execution_count": 36
        }
      ]
    },
    {
      "cell_type": "code",
      "source": [
        "# in command, checks if value is iwthin set\n",
        "('disco', (1, 2)) in myset"
      ],
      "metadata": {
        "colab": {
          "base_uri": "https://localhost:8080/"
        },
        "id": "KVLFMbTVAKdS",
        "outputId": "2d76a117-876f-4271-c869-6781af54779d"
      },
      "execution_count": null,
      "outputs": [
        {
          "output_type": "execute_result",
          "data": {
            "text/plain": [
              "True"
            ]
          },
          "metadata": {},
          "execution_count": 41
        }
      ]
    },
    {
      "cell_type": "code",
      "source": [
        "album_set_1 = {\"hello\",\"1\"}\n",
        "album_set_2 = {\"hello\",\"2\"}\n",
        "\n",
        "# join or ven diagram\n",
        "# intersection, elements in both sets\n",
        "\n",
        "# use & to find intersection\n",
        "album_set_1&album_set_2 # useful function\n"
      ],
      "metadata": {
        "colab": {
          "base_uri": "https://localhost:8080/"
        },
        "id": "7lb_MiokAdR3",
        "outputId": "7346d8ca-4d98-4325-a61f-2938705ea371"
      },
      "execution_count": null,
      "outputs": [
        {
          "output_type": "execute_result",
          "data": {
            "text/plain": [
              "{'hello'}"
            ]
          },
          "metadata": {},
          "execution_count": 43
        }
      ]
    },
    {
      "cell_type": "code",
      "source": [
        "# union of all values\n",
        "album_set_1.union(album_set_2)"
      ],
      "metadata": {
        "colab": {
          "base_uri": "https://localhost:8080/"
        },
        "id": "ixpgHL08BDcR",
        "outputId": "75855235-9267-4cdd-c394-802cb3f6ff12"
      },
      "execution_count": null,
      "outputs": [
        {
          "output_type": "execute_result",
          "data": {
            "text/plain": [
              "{'1', '2', 'hello'}"
            ]
          },
          "metadata": {},
          "execution_count": 44
        }
      ]
    },
    {
      "cell_type": "code",
      "source": [
        "# issubset method\n",
        "album_set_1.issubset(album_set_2)"
      ],
      "metadata": {
        "colab": {
          "base_uri": "https://localhost:8080/"
        },
        "id": "fkmsxggTBRcB",
        "outputId": "f4389f2f-27d9-45a3-b00a-e36369f939b1"
      },
      "execution_count": null,
      "outputs": [
        {
          "output_type": "execute_result",
          "data": {
            "text/plain": [
              "False"
            ]
          },
          "metadata": {},
          "execution_count": 45
        }
      ]
    },
    {
      "cell_type": "code",
      "source": [
        "# Excercsies\n",
        "# What is the result of the following lines of code:\n",
        "S={'A','B','C'}\n",
        "\n",
        "U={'A','Z','C'}\n",
        "\n",
        "U.union(S)"
      ],
      "metadata": {
        "colab": {
          "base_uri": "https://localhost:8080/"
        },
        "id": "MvV31Ae2Bbs4",
        "outputId": "a31b34e0-0102-4e74-92fd-c2619a39d64b"
      },
      "execution_count": null,
      "outputs": [
        {
          "output_type": "execute_result",
          "data": {
            "text/plain": [
              "{'A', 'B', 'C', 'Z'}"
            ]
          },
          "metadata": {},
          "execution_count": 46
        }
      ]
    },
    {
      "cell_type": "code",
      "source": [
        "# What is the intersection of set S and U?\n",
        "\n",
        "S={'A','B','C'}\n",
        "\n",
        "U={'A','Z','C'}\n",
        "\n",
        "S&U"
      ],
      "metadata": {
        "colab": {
          "base_uri": "https://localhost:8080/"
        },
        "id": "SgUewbueBjai",
        "outputId": "e2655e0d-661f-4433-b38b-2e0b33fb2459"
      },
      "execution_count": null,
      "outputs": [
        {
          "output_type": "execute_result",
          "data": {
            "text/plain": [
              "{'A', 'C'}"
            ]
          },
          "metadata": {},
          "execution_count": 47
        }
      ]
    },
    {
      "cell_type": "code",
      "source": [
        "# DICTIONARIES - key value pairs\n",
        "# acces through key, not through indexes\n",
        "# keys cannot be repeated\n",
        "\n",
        "mydictionary = {\"key1\":1,\"key2\":2,\"key3\":3} \n",
        "mydictionary"
      ],
      "metadata": {
        "colab": {
          "base_uri": "https://localhost:8080/"
        },
        "id": "Ajn-QO_RBtnZ",
        "outputId": "e0f6db01-b250-40a0-c756-362aa1a94d68"
      },
      "execution_count": null,
      "outputs": [
        {
          "output_type": "execute_result",
          "data": {
            "text/plain": [
              "{'key1': 1, 'key2': 2, 'key3': 3}"
            ]
          },
          "metadata": {},
          "execution_count": 49
        }
      ]
    },
    {
      "cell_type": "code",
      "source": [
        "mydictionary[\"key1\"]"
      ],
      "metadata": {
        "colab": {
          "base_uri": "https://localhost:8080/"
        },
        "id": "yK3fqkPfCHqE",
        "outputId": "742400f5-fdff-47d3-98bb-b1fede48811f"
      },
      "execution_count": null,
      "outputs": [
        {
          "output_type": "execute_result",
          "data": {
            "text/plain": [
              "1"
            ]
          },
          "metadata": {},
          "execution_count": 50
        }
      ]
    },
    {
      "cell_type": "code",
      "source": [
        "#delete key\n",
        "del(mydictionary[\"key3\"]) #deletes key as well as value\n",
        "mydictionary"
      ],
      "metadata": {
        "colab": {
          "base_uri": "https://localhost:8080/"
        },
        "id": "Lpv86yMgCNdG",
        "outputId": "e5c14ff9-fb55-4ec8-eac2-53910e11eb4e"
      },
      "execution_count": null,
      "outputs": [
        {
          "output_type": "execute_result",
          "data": {
            "text/plain": [
              "{'key1': 1, 'key2': 2}"
            ]
          },
          "metadata": {},
          "execution_count": 51
        }
      ]
    },
    {
      "cell_type": "code",
      "source": [
        "#keys method to show all the keys\n",
        "mydictionary.keys()"
      ],
      "metadata": {
        "colab": {
          "base_uri": "https://localhost:8080/"
        },
        "id": "cDQjxu8sCao7",
        "outputId": "d716039c-6361-432a-818f-e1244d36893c"
      },
      "execution_count": null,
      "outputs": [
        {
          "output_type": "execute_result",
          "data": {
            "text/plain": [
              "dict_keys(['key1', 'key2'])"
            ]
          },
          "metadata": {},
          "execution_count": 53
        }
      ]
    },
    {
      "cell_type": "code",
      "source": [
        "#keys method to show all the values\n",
        "mydictionary.values()"
      ],
      "metadata": {
        "colab": {
          "base_uri": "https://localhost:8080/"
        },
        "id": "Rk381nQkCiVW",
        "outputId": "4674a07c-fd14-4302-f8fc-29abf00a7b61"
      },
      "execution_count": null,
      "outputs": [
        {
          "output_type": "execute_result",
          "data": {
            "text/plain": [
              "dict_values([1, 2])"
            ]
          },
          "metadata": {},
          "execution_count": 54
        }
      ]
    },
    {
      "cell_type": "code",
      "source": [
        "# excercises\n",
        "\n",
        "# Question 1\n",
        "D = {'a':0,'b':1,'c':2}\n",
        "D.values()\n"
      ],
      "metadata": {
        "colab": {
          "base_uri": "https://localhost:8080/"
        },
        "id": "Uq5TjbPOCmRN",
        "outputId": "5ab40004-a074-42c4-a23e-07c589f95840"
      },
      "execution_count": null,
      "outputs": [
        {
          "output_type": "execute_result",
          "data": {
            "text/plain": [
              "dict_values([0, 1, 2])"
            ]
          },
          "metadata": {},
          "execution_count": 55
        }
      ]
    },
    {
      "cell_type": "code",
      "source": [
        "# Question 2\n",
        "D = {'a':0,'b':1,'c':2}\n",
        "D['b']"
      ],
      "metadata": {
        "colab": {
          "base_uri": "https://localhost:8080/"
        },
        "id": "9JRY5K6kCs_t",
        "outputId": "6dc7938e-216a-4dfd-bdc3-57891014ccf0"
      },
      "execution_count": null,
      "outputs": [
        {
          "output_type": "execute_result",
          "data": {
            "text/plain": [
              "1"
            ]
          },
          "metadata": {},
          "execution_count": 56
        }
      ]
    }
  ]
}
