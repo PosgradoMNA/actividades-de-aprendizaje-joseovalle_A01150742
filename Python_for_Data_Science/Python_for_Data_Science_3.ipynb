{
  "nbformat": 4,
  "nbformat_minor": 0,
  "metadata": {
    "colab": {
      "provenance": [],
      "collapsed_sections": [],
      "authorship_tag": "ABX9TyP3uMMheTGnCfGmhDRNcHMn",
      "include_colab_link": true
    },
    "kernelspec": {
      "name": "python3",
      "display_name": "Python 3"
    },
    "language_info": {
      "name": "python"
    }
  },
  "cells": [
    {
      "cell_type": "markdown",
      "metadata": {
        "id": "view-in-github",
        "colab_type": "text"
      },
      "source": [
        "<a href=\"https://colab.research.google.com/github/PosgradoMNA/actividades-de-aprendizaje-joseovalle_A01150742/blob/main/Python_for_Data_Science_3.ipynb\" target=\"_parent\"><img src=\"https://colab.research.google.com/assets/colab-badge.svg\" alt=\"Open In Colab\"/></a>"
      ]
    },
    {
      "cell_type": "markdown",
      "source": [
        "Alumno: José Ovalle Alvarado\n",
        "Matrícula: A01150742\n",
        "Actividad: semana 1 - Módulo 3"
      ],
      "metadata": {
        "id": "Wn2r5NPBSJfY"
      }
    },
    {
      "cell_type": "markdown",
      "source": [
        "Module 3 - Python Programming Fundamentals\n",
        "\n"
      ],
      "metadata": {
        "id": "HJyQ49PNrn2K"
      }
    },
    {
      "cell_type": "code",
      "source": [
        "# Conditions \n",
        "\n",
        "# Comparison operators\n",
        "\n",
        "# a = 6 !=  a == 6\n"
      ],
      "metadata": {
        "id": "ZGzJzHA5N7db"
      },
      "execution_count": null,
      "outputs": []
    },
    {
      "cell_type": "code",
      "source": [
        "a = 6\n",
        "a == 6"
      ],
      "metadata": {
        "colab": {
          "base_uri": "https://localhost:8080/"
        },
        "id": "fL_1TqcOON4H",
        "outputId": "b0d49514-c0fa-43b2-cbb6-786473d4a7b0"
      },
      "execution_count": null,
      "outputs": [
        {
          "output_type": "execute_result",
          "data": {
            "text/plain": [
              "True"
            ]
          },
          "metadata": {},
          "execution_count": 1
        }
      ]
    },
    {
      "cell_type": "code",
      "source": [
        "i = 2\n",
        "i > 5"
      ],
      "metadata": {
        "colab": {
          "base_uri": "https://localhost:8080/"
        },
        "id": "V4UQa-j3OPOm",
        "outputId": "9ef502f0-ab9d-4263-8643-8bbb62d95a81"
      },
      "execution_count": null,
      "outputs": [
        {
          "output_type": "execute_result",
          "data": {
            "text/plain": [
              "False"
            ]
          },
          "metadata": {},
          "execution_count": 2
        }
      ]
    },
    {
      "cell_type": "code",
      "source": [
        "\"ac/dc\" == \"AC/DC\""
      ],
      "metadata": {
        "colab": {
          "base_uri": "https://localhost:8080/"
        },
        "id": "3dCI8lZ4Oi5E",
        "outputId": "1b92aeed-2ccc-4e2f-bf7b-fefc4d75dae2"
      },
      "execution_count": null,
      "outputs": [
        {
          "output_type": "execute_result",
          "data": {
            "text/plain": [
              "False"
            ]
          },
          "metadata": {},
          "execution_count": 3
        }
      ]
    },
    {
      "cell_type": "code",
      "source": [
        "# Branching, run different statements for different input\n",
        "# if statement\n",
        "age = 18\n",
        "\n",
        "if (age > 18):\n",
        "  print(\"you can enter\")\n",
        "else:\n",
        "  print(\"go see Meat Loaf\")\n",
        "print(\"move on\")"
      ],
      "metadata": {
        "colab": {
          "base_uri": "https://localhost:8080/"
        },
        "id": "lUmyF8FROvm8",
        "outputId": "b38ab182-4dde-4f50-9b6d-c9f693f92315"
      },
      "execution_count": null,
      "outputs": [
        {
          "output_type": "stream",
          "name": "stdout",
          "text": [
            "go see Meat Loaf\n",
            "move on\n"
          ]
        }
      ]
    },
    {
      "cell_type": "code",
      "source": [
        "# elif statement #additional condition\n",
        "age = 18\n",
        "\n",
        "if (age > 18):\n",
        "  print(\"you can enter\")\n",
        "elif (age == 18):\n",
        "   print(\"go see pink floyd\") \n",
        "else:\n",
        "  print(\"go see Meat Loaf\")\n",
        "print(\"move on\")"
      ],
      "metadata": {
        "colab": {
          "base_uri": "https://localhost:8080/"
        },
        "id": "oFp9sPbgPwA_",
        "outputId": "c0f2c287-1c26-4aaa-d4a5-3896a07be2ae"
      },
      "execution_count": null,
      "outputs": [
        {
          "output_type": "stream",
          "name": "stdout",
          "text": [
            "go see pink floyd\n",
            "move on\n"
          ]
        }
      ]
    },
    {
      "cell_type": "code",
      "source": [
        "# Logic oprators\n",
        "\n",
        "# NOT\n",
        "#   if input is true , result is false\n",
        "#   if input is false, result is true\n"
      ],
      "metadata": {
        "id": "YFi48ZjjPBZz"
      },
      "execution_count": null,
      "outputs": []
    },
    {
      "cell_type": "code",
      "source": [
        "# OR\n",
        "# result is false if all values are false\n",
        "\n",
        "album_year = 1990\n",
        "\n",
        "if(album_year < 1980) or (album_year > 1989):\n",
        "  print(\"The album was made in the 70's or  90's\")\n",
        "else:\n",
        "  print(\"The album was made in the 80's\")"
      ],
      "metadata": {
        "colab": {
          "base_uri": "https://localhost:8080/"
        },
        "id": "aAOT_sRqQgqG",
        "outputId": "91f04572-5b00-44f2-fd35-1d4c6b394271"
      },
      "execution_count": null,
      "outputs": [
        {
          "output_type": "stream",
          "name": "stdout",
          "text": [
            "The album was made in the 70's or  90's\n"
          ]
        }
      ]
    },
    {
      "cell_type": "code",
      "source": [
        "# AND\n",
        "# only produces true if all values are true\n",
        "\n",
        "album_year = 1983\n",
        "\n",
        "if(album_year > 1979) and (album_year < 1990):\n",
        "  print(\"The album was made in the 80's\")"
      ],
      "metadata": {
        "colab": {
          "base_uri": "https://localhost:8080/"
        },
        "id": "yrMP9pMERFKs",
        "outputId": "0e127872-c8ec-4545-e442-ff2721366127"
      },
      "execution_count": null,
      "outputs": [
        {
          "output_type": "stream",
          "name": "stdout",
          "text": [
            "The album was made in the 80's\n"
          ]
        }
      ]
    },
    {
      "cell_type": "code",
      "source": [
        "# Question 1\n",
        "\n",
        "# i = 1 True\n",
        "# i = 0 False\n",
        "# i = -1 True\n",
        "# i = 10000000 True\n",
        "i!=0"
      ],
      "metadata": {
        "colab": {
          "base_uri": "https://localhost:8080/"
        },
        "id": "etK_ewWkRhWL",
        "outputId": "f5bb582e-ae52-470a-b20d-bff6ac9204b3"
      },
      "execution_count": null,
      "outputs": [
        {
          "output_type": "execute_result",
          "data": {
            "text/plain": [
              "False"
            ]
          },
          "metadata": {},
          "execution_count": 18
        }
      ]
    },
    {
      "cell_type": "code",
      "source": [
        "# Question 2\n",
        "\n",
        "x='a'\n",
        "\n",
        "if(x!='a'):\n",
        "  print(\"This is not a.\")\n",
        "else:\n",
        "  print(\"This is a.\")"
      ],
      "metadata": {
        "colab": {
          "base_uri": "https://localhost:8080/"
        },
        "id": "MwGfXSvyR5nq",
        "outputId": "8ba9188d-8d15-45fa-81da-d9b5429f57b5"
      },
      "execution_count": null,
      "outputs": [
        {
          "output_type": "stream",
          "name": "stdout",
          "text": [
            "This is a.\n"
          ]
        }
      ]
    },
    {
      "cell_type": "code",
      "source": [
        "# LOOPS\n",
        "\n",
        "# For loops / while loops\n",
        "\n",
        "# Range function range(N)\n",
        "\n",
        "range(3) # [0,1,2]\n"
      ],
      "metadata": {
        "colab": {
          "base_uri": "https://localhost:8080/"
        },
        "id": "Me2O45cgSDGe",
        "outputId": "398c531c-c550-4e02-eefa-169a47ddf124"
      },
      "execution_count": null,
      "outputs": [
        {
          "output_type": "execute_result",
          "data": {
            "text/plain": [
              "range(0, 3)"
            ]
          },
          "metadata": {},
          "execution_count": 20
        }
      ]
    },
    {
      "cell_type": "code",
      "source": [
        "range(10,15) # [10,11,12,13,14]"
      ],
      "metadata": {
        "colab": {
          "base_uri": "https://localhost:8080/"
        },
        "id": "A7dthNeVSQhD",
        "outputId": "5d176497-9f52-4cf9-84a6-597bfc027422"
      },
      "execution_count": null,
      "outputs": [
        {
          "output_type": "execute_result",
          "data": {
            "text/plain": [
              "range(10, 15)"
            ]
          },
          "metadata": {},
          "execution_count": 21
        }
      ]
    },
    {
      "cell_type": "code",
      "source": [
        "# FOR LOOPS\n",
        "squares = [\"red\",\"yellow\",\"green\",\"pruple\",\"blue\", \"orange\"]\n",
        "\n",
        "for i in range(0,5):\n",
        "  print(squares[i] == \"white\")\n"
      ],
      "metadata": {
        "colab": {
          "base_uri": "https://localhost:8080/"
        },
        "id": "I02Zh7kISR-L",
        "outputId": "a45d8511-011c-40aa-87e1-e01fe066f493"
      },
      "execution_count": null,
      "outputs": [
        {
          "output_type": "stream",
          "name": "stdout",
          "text": [
            "False\n",
            "False\n",
            "False\n",
            "False\n",
            "False\n"
          ]
        }
      ]
    },
    {
      "cell_type": "code",
      "source": [
        "# ennumerate (obtain index and element in a list)\n",
        "\n",
        "for i, square in enumerate(squares):\n",
        "  print(square)\n",
        "  print(i)"
      ],
      "metadata": {
        "colab": {
          "base_uri": "https://localhost:8080/"
        },
        "id": "pz_Bm2JMTBC1",
        "outputId": "fd08f4ce-136c-499e-a045-14a77a062560"
      },
      "execution_count": null,
      "outputs": [
        {
          "output_type": "stream",
          "name": "stdout",
          "text": [
            "red\n",
            "0\n",
            "yellow\n",
            "1\n",
            "green\n",
            "2\n",
            "pruple\n",
            "3\n",
            "blue\n",
            "4\n",
            "orange\n",
            "5\n"
          ]
        }
      ]
    },
    {
      "cell_type": "code",
      "source": [
        "# WHILE LOOPS\n",
        "\n",
        "squares = [\"orange\",\"orange\",\"purple\",\"blue\"]\n",
        "newsquares = []\n",
        "\n",
        "i = 0 \n",
        "\n",
        "while(squares[i] == \"orange\"):\n",
        "  newsquares.append(squares[i])\n",
        "  i = i + 1\n",
        "\n",
        "newsquares"
      ],
      "metadata": {
        "colab": {
          "base_uri": "https://localhost:8080/"
        },
        "id": "qwTeh5GvTgiI",
        "outputId": "a4e1c07b-e71b-43ae-98ad-996c6eb6c38e"
      },
      "execution_count": null,
      "outputs": [
        {
          "output_type": "execute_result",
          "data": {
            "text/plain": [
              "['orange', 'orange']"
            ]
          },
          "metadata": {},
          "execution_count": 40
        }
      ]
    },
    {
      "cell_type": "code",
      "source": [
        "# Question 1\n",
        "\n",
        "A=[3,4,5]\n",
        "\n",
        "for a in A:\n",
        "  print(a)"
      ],
      "metadata": {
        "colab": {
          "base_uri": "https://localhost:8080/"
        },
        "id": "dXV1HFmOUznA",
        "outputId": "f13c920d-ea86-488c-ee3e-e1e6e13b2c06"
      },
      "execution_count": null,
      "outputs": [
        {
          "output_type": "stream",
          "name": "stdout",
          "text": [
            "3\n",
            "4\n",
            "5\n"
          ]
        }
      ]
    },
    {
      "cell_type": "code",
      "source": [
        "# Question 2\n",
        "x=3\n",
        "y=1\n",
        "\n",
        "while(y!=x):\n",
        "  print(y)\n",
        "  y=y+1"
      ],
      "metadata": {
        "colab": {
          "base_uri": "https://localhost:8080/"
        },
        "id": "T-0bxnHSU659",
        "outputId": "a6ac7ae9-09d9-45c7-f9cb-e45eb9bffd83"
      },
      "execution_count": null,
      "outputs": [
        {
          "output_type": "stream",
          "name": "stdout",
          "text": [
            "1\n",
            "2\n"
          ]
        }
      ]
    },
    {
      "cell_type": "code",
      "source": [
        "# Functions\n",
        "\n",
        "# built-in functions\n",
        "# create own functions\n",
        "\n",
        "# input  > function > output\n",
        "# output > function > output\n",
        "\n",
        "# python builtin fuctions\n",
        "\n",
        "# len(string/typecollection) returns the lenght of that sequence\n",
        "# sorted vs sort\n",
        "# sorted returns the sorted list\n",
        "\n",
        "album_ratings = [10,7,5,4,4,566,1]\n",
        "sorted_album_rating = sorted(album_ratings)\n",
        "sorted_album_rating # new variable was created here\n",
        "# nothin happens to the album_ratings\n"
      ],
      "metadata": {
        "colab": {
          "base_uri": "https://localhost:8080/"
        },
        "id": "RgIYuVSdVIi7",
        "outputId": "782291b1-ead0-4e08-9adf-d3be303c0851"
      },
      "execution_count": null,
      "outputs": [
        {
          "output_type": "execute_result",
          "data": {
            "text/plain": [
              "[1, 4, 4, 5, 7, 10, 566]"
            ]
          },
          "metadata": {},
          "execution_count": 48
        }
      ]
    },
    {
      "cell_type": "code",
      "source": [
        "album_ratings.sort()  # the list album rating gets sorted\n",
        "album_ratings\n"
      ],
      "metadata": {
        "colab": {
          "base_uri": "https://localhost:8080/"
        },
        "id": "Sb5k8fF2d0nG",
        "outputId": "bab21390-8efe-4e39-d288-acb1642c001d"
      },
      "execution_count": null,
      "outputs": [
        {
          "output_type": "execute_result",
          "data": {
            "text/plain": [
              "[1, 4, 4, 5, 7, 10, 566]"
            ]
          },
          "metadata": {},
          "execution_count": 49
        }
      ]
    },
    {
      "cell_type": "code",
      "source": [
        "# Making functions\n",
        "\n",
        "def add1(a):\n",
        "  \"\"\"\n",
        "  add 1 to a\n",
        "  \"\"\"\n",
        "  b = a + 1\n",
        "  return b\n",
        "\n",
        "b = add1(5)\n",
        "b"
      ],
      "metadata": {
        "colab": {
          "base_uri": "https://localhost:8080/"
        },
        "id": "YXVxWPzLc5nt",
        "outputId": "a1cf54c3-aff2-416b-edad-5a8b28be753f"
      },
      "execution_count": null,
      "outputs": [
        {
          "output_type": "execute_result",
          "data": {
            "text/plain": [
              "6"
            ]
          },
          "metadata": {},
          "execution_count": 51
        }
      ]
    },
    {
      "cell_type": "code",
      "source": [
        "help(add1) # comment gets printed through help command once function was created"
      ],
      "metadata": {
        "colab": {
          "base_uri": "https://localhost:8080/"
        },
        "id": "bwlZRDnDemLl",
        "outputId": "44fa8ad5-ece5-46f5-b873-c879104d8ca7"
      },
      "execution_count": null,
      "outputs": [
        {
          "output_type": "stream",
          "name": "stdout",
          "text": [
            "Help on function add1 in module __main__:\n",
            "\n",
            "add1(a)\n",
            "\n"
          ]
        }
      ]
    },
    {
      "cell_type": "code",
      "source": [
        "def Mult(a,b):\n",
        "  c = a * b\n",
        "  return c\n",
        "\n",
        "mymult = Mult(4,2)\n",
        "mymult\n"
      ],
      "metadata": {
        "colab": {
          "base_uri": "https://localhost:8080/"
        },
        "id": "fQ4p4CzyeuDC",
        "outputId": "8297d782-26e7-4e5e-d07c-063457557141"
      },
      "execution_count": null,
      "outputs": [
        {
          "output_type": "execute_result",
          "data": {
            "text/plain": [
              "8"
            ]
          },
          "metadata": {},
          "execution_count": 54
        }
      ]
    },
    {
      "cell_type": "code",
      "source": [
        "def MJ():\n",
        "  print(\"Michael Jackson\") #returns non object \n",
        "\n",
        "MJ()"
      ],
      "metadata": {
        "colab": {
          "base_uri": "https://localhost:8080/"
        },
        "id": "a5f6mZ63e6zw",
        "outputId": "5f1bd75c-881a-4317-d014-6ad0b5145bf7"
      },
      "execution_count": null,
      "outputs": [
        {
          "output_type": "stream",
          "name": "stdout",
          "text": [
            "Michael Jackson\n"
          ]
        }
      ]
    },
    {
      "cell_type": "code",
      "source": [
        "def NoWork():\n",
        "  pass\n",
        "print(NoWork())"
      ],
      "metadata": {
        "colab": {
          "base_uri": "https://localhost:8080/"
        },
        "id": "X-_wRqEyfDG5",
        "outputId": "888d3e46-f57b-47a6-dfae-f2e5b00afdef"
      },
      "execution_count": null,
      "outputs": [
        {
          "output_type": "stream",
          "name": "stdout",
          "text": [
            "None\n"
          ]
        }
      ]
    },
    {
      "cell_type": "code",
      "source": [
        "# LOOPS IN FUNCTIONS\n",
        "def printstuff(stuff):\n",
        "  for i,s in enumerate(stuff):\n",
        "    print(\"album\",i,\"rating is\",s)\n",
        "\n",
        "printstuff(album_ratings)"
      ],
      "metadata": {
        "colab": {
          "base_uri": "https://localhost:8080/"
        },
        "id": "XdkO4IXWfQFX",
        "outputId": "883cc290-c797-4358-cfbe-567c3867a2a3"
      },
      "execution_count": null,
      "outputs": [
        {
          "output_type": "stream",
          "name": "stdout",
          "text": [
            "album 0 rating is 1\n",
            "album 1 rating is 4\n",
            "album 2 rating is 4\n",
            "album 3 rating is 5\n",
            "album 4 rating is 7\n",
            "album 5 rating is 10\n",
            "album 6 rating is 566\n"
          ]
        }
      ]
    },
    {
      "cell_type": "code",
      "source": [
        "def artistnames(*names): \n",
        "  for name in names:\n",
        "    print(name)\n",
        "\n",
        "artistnames(\"michaeljackson\",\"acdc\",\"pink\")"
      ],
      "metadata": {
        "colab": {
          "base_uri": "https://localhost:8080/"
        },
        "id": "fFiKVNdmflWE",
        "outputId": "532be6ec-b5da-4c30-e3b1-f6e003fd40a3"
      },
      "execution_count": null,
      "outputs": [
        {
          "output_type": "stream",
          "name": "stdout",
          "text": [
            "michaeljackson\n",
            "acdc\n",
            "pink\n"
          ]
        }
      ]
    },
    {
      "cell_type": "code",
      "source": [
        "# SCOPE, part of the program where the variable is accesible\n",
        "\n",
        "# local vs global scope\n",
        "\n",
        "# function runs first on local scope, if not found it goes to global scope\n",
        "\n",
        "# local scope\n",
        "def addc (x):\n",
        "  x = x +\"DC\"\n",
        "  print(x)\n",
        "  return(x)\n",
        "\n",
        "x = \"AC\"\n",
        "z = addc(x)\n",
        "z\n"
      ],
      "metadata": {
        "colab": {
          "base_uri": "https://localhost:8080/",
          "height": 53
        },
        "id": "_YESyDYugB9T",
        "outputId": "1921773f-cb96-44b9-d9da-c043e48792e1"
      },
      "execution_count": null,
      "outputs": [
        {
          "output_type": "stream",
          "name": "stdout",
          "text": [
            "ACDC\n"
          ]
        },
        {
          "output_type": "execute_result",
          "data": {
            "text/plain": [
              "'ACDC'"
            ],
            "application/vnd.google.colaboratory.intrinsic+json": {
              "type": "string"
            }
          },
          "metadata": {},
          "execution_count": 62
        }
      ]
    },
    {
      "cell_type": "code",
      "source": [
        "x"
      ],
      "metadata": {
        "colab": {
          "base_uri": "https://localhost:8080/",
          "height": 35
        },
        "id": "8R3gtotMfklB",
        "outputId": "255fb7b2-0fbd-4a5d-ea33-2326c0fe48ab"
      },
      "execution_count": null,
      "outputs": [
        {
          "output_type": "execute_result",
          "data": {
            "text/plain": [
              "'AC'"
            ],
            "application/vnd.google.colaboratory.intrinsic+json": {
              "type": "string"
            }
          },
          "metadata": {},
          "execution_count": 63
        }
      ]
    },
    {
      "cell_type": "code",
      "source": [
        "# Question 1\n",
        "a=1\n",
        "\n",
        "def add(b):\n",
        "  return a+b\n",
        "c=add(10)\n",
        "c"
      ],
      "metadata": {
        "colab": {
          "base_uri": "https://localhost:8080/"
        },
        "id": "wRuIU410g4Rl",
        "outputId": "0a4ac62c-6afa-4a67-b03f-c294405f32d0"
      },
      "execution_count": null,
      "outputs": [
        {
          "output_type": "execute_result",
          "data": {
            "text/plain": [
              "11"
            ]
          },
          "metadata": {},
          "execution_count": 65
        }
      ]
    },
    {
      "cell_type": "code",
      "source": [
        "# What is the value of c after the following block of code is run with proper numerical input?\n",
        "\n",
        "def f(*x):\n",
        "  return sum(x)\n",
        "\n",
        "f = f(c,c,c)\n",
        "f"
      ],
      "metadata": {
        "colab": {
          "base_uri": "https://localhost:8080/"
        },
        "id": "iKkK9ksWhUG_",
        "outputId": "4f77e2b3-9b5e-489b-9a55-ed7562f9ce09"
      },
      "execution_count": null,
      "outputs": [
        {
          "output_type": "execute_result",
          "data": {
            "text/plain": [
              "33"
            ]
          },
          "metadata": {},
          "execution_count": 66
        }
      ]
    },
    {
      "cell_type": "code",
      "source": [
        "# OBJECTS AND CLASSES\n",
        "\n",
        "# every object has:\n",
        "# a type, internal data representation (blueprint), a set of procedures for interacting with the object (methods)\n",
        "# type, data, methods\n",
        "# an object is an instance of a particular type\n",
        "\n",
        "# type 1 has objects 1,2,3..to N\n",
        "# type 2 has objects 1,2,3..to N\n",
        "\n",
        "# type() command to find the bject type"
      ],
      "metadata": {
        "id": "f6TyGMr8hnJ-"
      },
      "execution_count": null,
      "outputs": []
    },
    {
      "cell_type": "code",
      "source": [
        "# creating class\n",
        "\n",
        "# circle, attributes: color, ratuids\n",
        "# rectangle, attributes: height, widht\n",
        "\n",
        "class circle():\n",
        "  def __init__(self,radius,color):\n",
        "    self.radius = radius  # values that will be passed to the object\n",
        "    self.color  = color  # values that will be passed to the object\n",
        "\n",
        "  def add_radius(self,r):\n",
        "    self.radius =self.radius + r\n",
        "    return(self.radius)\n",
        "\n",
        "class rectangle():\n",
        "  def __init__(self,height,width):\n",
        "    self.height = height  # values that will be passed to the object\n",
        "    self.width  = width  # values that will be passed to the object\n",
        "\n",
        "c1 = circle(10,\"red\")\n",
        "c1.color = \"blue\" # this will change the attribute of the object\n",
        "c1.add_radius(10) # this is hte updated radius 10 + 10\n"
      ],
      "metadata": {
        "colab": {
          "base_uri": "https://localhost:8080/"
        },
        "id": "11wDaVjwiiWP",
        "outputId": "88b46f1e-0ba4-4fba-f9c6-9248bfa4d65f"
      },
      "execution_count": null,
      "outputs": [
        {
          "output_type": "execute_result",
          "data": {
            "text/plain": [
              "20"
            ]
          },
          "metadata": {},
          "execution_count": 71
        }
      ]
    },
    {
      "cell_type": "code",
      "source": [
        "c1.color"
      ],
      "metadata": {
        "colab": {
          "base_uri": "https://localhost:8080/",
          "height": 35
        },
        "id": "N1dszMIIkfN5",
        "outputId": "cafcb673-0ca9-47dd-9de9-40f1dd4f11e6"
      },
      "execution_count": null,
      "outputs": [
        {
          "output_type": "execute_result",
          "data": {
            "text/plain": [
              "'blue'"
            ],
            "application/vnd.google.colaboratory.intrinsic+json": {
              "type": "string"
            }
          },
          "metadata": {},
          "execution_count": 72
        }
      ]
    },
    {
      "cell_type": "code",
      "source": [
        "c1.radius"
      ],
      "metadata": {
        "colab": {
          "base_uri": "https://localhost:8080/"
        },
        "id": "-cnnc9Z9kg7T",
        "outputId": "8786785e-9962-4278-d169-cc78f12452dd"
      },
      "execution_count": null,
      "outputs": [
        {
          "output_type": "execute_result",
          "data": {
            "text/plain": [
              "20"
            ]
          },
          "metadata": {},
          "execution_count": 73
        }
      ]
    },
    {
      "cell_type": "markdown",
      "source": [
        "Review Questions module 1 - 3 "
      ],
      "metadata": {
        "id": "0834H4O5loJk"
      }
    },
    {
      "cell_type": "code",
      "source": [
        "# Question 1\n",
        "\n",
        "# What is the output of the following lines of code:\n",
        "\n",
        "x=1\n",
        "\n",
        "if(x!=1):\n",
        "  print('Hello')\n",
        "else:\n",
        "  print('Hi')\n",
        "print('Mike')"
      ],
      "metadata": {
        "colab": {
          "base_uri": "https://localhost:8080/"
        },
        "id": "76pPFVZ-luW5",
        "outputId": "ba34321a-d050-4548-f251-a7d88266bc2b"
      },
      "execution_count": null,
      "outputs": [
        {
          "output_type": "stream",
          "name": "stdout",
          "text": [
            "Hi\n",
            "Mike\n"
          ]
        }
      ]
    },
    {
      "cell_type": "code",
      "source": [
        "# Question 2\n",
        "\n",
        "# What is the output of the following few lines of code?\n",
        "\n",
        "A = ['1','2','3']\n",
        "\n",
        "for a in A:\n",
        "  print(2*a)"
      ],
      "metadata": {
        "colab": {
          "base_uri": "https://localhost:8080/"
        },
        "id": "D6q9lMlGl6Wb",
        "outputId": "185bbc15-ade1-4b43-d048-cc0fb66c9c11"
      },
      "execution_count": null,
      "outputs": [
        {
          "output_type": "stream",
          "name": "stdout",
          "text": [
            "11\n",
            "22\n",
            "33\n"
          ]
        }
      ]
    },
    {
      "cell_type": "code",
      "source": [
        "# Question 3\n",
        "\n",
        "# Consider the function Delta, when will the function return a value of 1\n",
        "\n",
        "def Delta(x):\n",
        "  if x==0:\n",
        "    y=1;\n",
        "  else:\n",
        "    y=0;\n",
        "  return(y)\n",
        "\n",
        "delta_result = Delta(0) \n",
        "delta_result "
      ],
      "metadata": {
        "colab": {
          "base_uri": "https://localhost:8080/"
        },
        "id": "BzzBoQaUmDDm",
        "outputId": "b33ae051-5644-4b97-f2e6-7703e0eb4c84"
      },
      "execution_count": null,
      "outputs": [
        {
          "output_type": "execute_result",
          "data": {
            "text/plain": [
              "1"
            ]
          },
          "metadata": {},
          "execution_count": 76
        }
      ]
    },
    {
      "cell_type": "code",
      "source": [
        "# Question 4\n",
        "\n",
        "# What is the correct way to sort the list 'B' using a method? The result should not return a new list, just change the list 'B'.\n",
        "\n",
        "b = [10,7,5,4,4,566,1]\n",
        "sorted_b = sorted(b)\n",
        "sorted_b # new variable was created here\n",
        "# nothin happens to b"
      ],
      "metadata": {
        "colab": {
          "base_uri": "https://localhost:8080/"
        },
        "id": "ENkPRxKNmVqN",
        "outputId": "fab7d80a-85e3-4d6a-ce4a-181752265085"
      },
      "execution_count": null,
      "outputs": [
        {
          "output_type": "execute_result",
          "data": {
            "text/plain": [
              "[1, 4, 4, 5, 7, 10, 566]"
            ]
          },
          "metadata": {},
          "execution_count": 77
        }
      ]
    },
    {
      "cell_type": "code",
      "source": [
        "b"
      ],
      "metadata": {
        "colab": {
          "base_uri": "https://localhost:8080/"
        },
        "id": "LDjANeCKmsjY",
        "outputId": "83d200b1-99b7-4759-d8b4-24ac25c9d459"
      },
      "execution_count": null,
      "outputs": [
        {
          "output_type": "execute_result",
          "data": {
            "text/plain": [
              "[10, 7, 5, 4, 4, 566, 1]"
            ]
          },
          "metadata": {},
          "execution_count": 78
        }
      ]
    },
    {
      "cell_type": "code",
      "source": [
        "b.sort()  # the list album rating gets sorted\n",
        "b"
      ],
      "metadata": {
        "colab": {
          "base_uri": "https://localhost:8080/"
        },
        "id": "TMTMohT8mpb8",
        "outputId": "78fb54a8-b679-4aa2-f226-ca0731f3a05e"
      },
      "execution_count": null,
      "outputs": [
        {
          "output_type": "execute_result",
          "data": {
            "text/plain": [
              "[1, 4, 4, 5, 7, 10, 566]"
            ]
          },
          "metadata": {},
          "execution_count": 79
        }
      ]
    },
    {
      "cell_type": "code",
      "source": [
        "# Question 5\n",
        "# What are the keys of the following dictionary: {'a':1,'b':2}?\n",
        "\n",
        "my_new_dict = {'a':1,'b':2}\n",
        "my_new_dict.keys()"
      ],
      "metadata": {
        "colab": {
          "base_uri": "https://localhost:8080/"
        },
        "id": "2w_VD4tJmxY1",
        "outputId": "b5141aeb-e812-44b8-92f1-c2af3f390bdf"
      },
      "execution_count": null,
      "outputs": [
        {
          "output_type": "execute_result",
          "data": {
            "text/plain": [
              "dict_keys(['a', 'b'])"
            ]
          },
          "metadata": {},
          "execution_count": 80
        }
      ]
    }
  ]
}
