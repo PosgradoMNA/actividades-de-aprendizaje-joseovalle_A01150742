{
  "nbformat": 4,
  "nbformat_minor": 0,
  "metadata": {
    "colab": {
      "provenance": [],
      "collapsed_sections": [],
      "authorship_tag": "ABX9TyP2eBzw5fSskV26rjVqdF2z",
      "include_colab_link": true
    },
    "kernelspec": {
      "name": "python3",
      "display_name": "Python 3"
    },
    "language_info": {
      "name": "python"
    }
  },
  "cells": [
    {
      "cell_type": "markdown",
      "metadata": {
        "id": "view-in-github",
        "colab_type": "text"
      },
      "source": [
        "<a href=\"https://colab.research.google.com/github/PosgradoMNA/actividades-de-aprendizaje-joseovalle_A01150742/blob/main/Python_for_Data_Science_4.ipynb\" target=\"_parent\"><img src=\"https://colab.research.google.com/assets/colab-badge.svg\" alt=\"Open In Colab\"/></a>"
      ]
    },
    {
      "cell_type": "markdown",
      "source": [
        "<b>Alumno: José Ovalle Alvarado\n",
        "Matrícula: A01150742\n",
        "Actividad: semana 2 - Módulo 4"
      ],
      "metadata": {
        "id": "X8fl5lZEaKeg"
      }
    },
    {
      "cell_type": "markdown",
      "source": [
        "<b> Module 4 - Working with Data in Python"
      ],
      "metadata": {
        "id": "-3Clz6Lgabtm"
      }
    },
    {
      "cell_type": "markdown",
      "source": [
        "Reading Files with open statement"
      ],
      "metadata": {
        "id": "0p9F2d-Grjxe"
      }
    },
    {
      "cell_type": "code",
      "execution_count": 21,
      "metadata": {
        "id": "ZGxXtyUhTDkW"
      },
      "outputs": [],
      "source": [
        "# Goals\n",
        "\n",
        "# Reading files with open\n",
        "# Writing files with open\n",
        "# Loading data with Pndas\n",
        "# Working with Data and Saving Data with Pandas"
      ]
    },
    {
      "cell_type": "code",
      "source": [
        "# File1 = open(\"/resources/data/Example2.txt\",\"w\")\n",
        "\n",
        "# r = read\n",
        "# w = write\n",
        "# .mode, this methods will prin the permissions on the object\n",
        "# example File1.mode will print \"w\" if it has writing permissions, if it has reading permissions it will print \"r\"\n",
        "# .close() this method will close the object \"File1\" in this case"
      ],
      "metadata": {
        "id": "X7ODNZB0a3jl"
      },
      "execution_count": 22,
      "outputs": []
    },
    {
      "cell_type": "code",
      "source": [
        "# different method was required to open a file from collab\n",
        "\n",
        "from google.colab import files\n",
        "uploaded = files.upload()"
      ],
      "metadata": {
        "colab": {
          "base_uri": "https://localhost:8080/",
          "height": 74
        },
        "id": "z9WDz9Wsgknn",
        "outputId": "556a905b-d188-4c08-d913-3fdd9ddc67af"
      },
      "execution_count": 23,
      "outputs": [
        {
          "output_type": "display_data",
          "data": {
            "text/plain": [
              "<IPython.core.display.HTML object>"
            ],
            "text/html": [
              "\n",
              "     <input type=\"file\" id=\"files-49e6b71b-ed72-4872-95e6-3c3092150495\" name=\"files[]\" multiple disabled\n",
              "        style=\"border:none\" />\n",
              "     <output id=\"result-49e6b71b-ed72-4872-95e6-3c3092150495\">\n",
              "      Upload widget is only available when the cell has been executed in the\n",
              "      current browser session. Please rerun this cell to enable.\n",
              "      </output>\n",
              "      <script>// Copyright 2017 Google LLC\n",
              "//\n",
              "// Licensed under the Apache License, Version 2.0 (the \"License\");\n",
              "// you may not use this file except in compliance with the License.\n",
              "// You may obtain a copy of the License at\n",
              "//\n",
              "//      http://www.apache.org/licenses/LICENSE-2.0\n",
              "//\n",
              "// Unless required by applicable law or agreed to in writing, software\n",
              "// distributed under the License is distributed on an \"AS IS\" BASIS,\n",
              "// WITHOUT WARRANTIES OR CONDITIONS OF ANY KIND, either express or implied.\n",
              "// See the License for the specific language governing permissions and\n",
              "// limitations under the License.\n",
              "\n",
              "/**\n",
              " * @fileoverview Helpers for google.colab Python module.\n",
              " */\n",
              "(function(scope) {\n",
              "function span(text, styleAttributes = {}) {\n",
              "  const element = document.createElement('span');\n",
              "  element.textContent = text;\n",
              "  for (const key of Object.keys(styleAttributes)) {\n",
              "    element.style[key] = styleAttributes[key];\n",
              "  }\n",
              "  return element;\n",
              "}\n",
              "\n",
              "// Max number of bytes which will be uploaded at a time.\n",
              "const MAX_PAYLOAD_SIZE = 100 * 1024;\n",
              "\n",
              "function _uploadFiles(inputId, outputId) {\n",
              "  const steps = uploadFilesStep(inputId, outputId);\n",
              "  const outputElement = document.getElementById(outputId);\n",
              "  // Cache steps on the outputElement to make it available for the next call\n",
              "  // to uploadFilesContinue from Python.\n",
              "  outputElement.steps = steps;\n",
              "\n",
              "  return _uploadFilesContinue(outputId);\n",
              "}\n",
              "\n",
              "// This is roughly an async generator (not supported in the browser yet),\n",
              "// where there are multiple asynchronous steps and the Python side is going\n",
              "// to poll for completion of each step.\n",
              "// This uses a Promise to block the python side on completion of each step,\n",
              "// then passes the result of the previous step as the input to the next step.\n",
              "function _uploadFilesContinue(outputId) {\n",
              "  const outputElement = document.getElementById(outputId);\n",
              "  const steps = outputElement.steps;\n",
              "\n",
              "  const next = steps.next(outputElement.lastPromiseValue);\n",
              "  return Promise.resolve(next.value.promise).then((value) => {\n",
              "    // Cache the last promise value to make it available to the next\n",
              "    // step of the generator.\n",
              "    outputElement.lastPromiseValue = value;\n",
              "    return next.value.response;\n",
              "  });\n",
              "}\n",
              "\n",
              "/**\n",
              " * Generator function which is called between each async step of the upload\n",
              " * process.\n",
              " * @param {string} inputId Element ID of the input file picker element.\n",
              " * @param {string} outputId Element ID of the output display.\n",
              " * @return {!Iterable<!Object>} Iterable of next steps.\n",
              " */\n",
              "function* uploadFilesStep(inputId, outputId) {\n",
              "  const inputElement = document.getElementById(inputId);\n",
              "  inputElement.disabled = false;\n",
              "\n",
              "  const outputElement = document.getElementById(outputId);\n",
              "  outputElement.innerHTML = '';\n",
              "\n",
              "  const pickedPromise = new Promise((resolve) => {\n",
              "    inputElement.addEventListener('change', (e) => {\n",
              "      resolve(e.target.files);\n",
              "    });\n",
              "  });\n",
              "\n",
              "  const cancel = document.createElement('button');\n",
              "  inputElement.parentElement.appendChild(cancel);\n",
              "  cancel.textContent = 'Cancel upload';\n",
              "  const cancelPromise = new Promise((resolve) => {\n",
              "    cancel.onclick = () => {\n",
              "      resolve(null);\n",
              "    };\n",
              "  });\n",
              "\n",
              "  // Wait for the user to pick the files.\n",
              "  const files = yield {\n",
              "    promise: Promise.race([pickedPromise, cancelPromise]),\n",
              "    response: {\n",
              "      action: 'starting',\n",
              "    }\n",
              "  };\n",
              "\n",
              "  cancel.remove();\n",
              "\n",
              "  // Disable the input element since further picks are not allowed.\n",
              "  inputElement.disabled = true;\n",
              "\n",
              "  if (!files) {\n",
              "    return {\n",
              "      response: {\n",
              "        action: 'complete',\n",
              "      }\n",
              "    };\n",
              "  }\n",
              "\n",
              "  for (const file of files) {\n",
              "    const li = document.createElement('li');\n",
              "    li.append(span(file.name, {fontWeight: 'bold'}));\n",
              "    li.append(span(\n",
              "        `(${file.type || 'n/a'}) - ${file.size} bytes, ` +\n",
              "        `last modified: ${\n",
              "            file.lastModifiedDate ? file.lastModifiedDate.toLocaleDateString() :\n",
              "                                    'n/a'} - `));\n",
              "    const percent = span('0% done');\n",
              "    li.appendChild(percent);\n",
              "\n",
              "    outputElement.appendChild(li);\n",
              "\n",
              "    const fileDataPromise = new Promise((resolve) => {\n",
              "      const reader = new FileReader();\n",
              "      reader.onload = (e) => {\n",
              "        resolve(e.target.result);\n",
              "      };\n",
              "      reader.readAsArrayBuffer(file);\n",
              "    });\n",
              "    // Wait for the data to be ready.\n",
              "    let fileData = yield {\n",
              "      promise: fileDataPromise,\n",
              "      response: {\n",
              "        action: 'continue',\n",
              "      }\n",
              "    };\n",
              "\n",
              "    // Use a chunked sending to avoid message size limits. See b/62115660.\n",
              "    let position = 0;\n",
              "    do {\n",
              "      const length = Math.min(fileData.byteLength - position, MAX_PAYLOAD_SIZE);\n",
              "      const chunk = new Uint8Array(fileData, position, length);\n",
              "      position += length;\n",
              "\n",
              "      const base64 = btoa(String.fromCharCode.apply(null, chunk));\n",
              "      yield {\n",
              "        response: {\n",
              "          action: 'append',\n",
              "          file: file.name,\n",
              "          data: base64,\n",
              "        },\n",
              "      };\n",
              "\n",
              "      let percentDone = fileData.byteLength === 0 ?\n",
              "          100 :\n",
              "          Math.round((position / fileData.byteLength) * 100);\n",
              "      percent.textContent = `${percentDone}% done`;\n",
              "\n",
              "    } while (position < fileData.byteLength);\n",
              "  }\n",
              "\n",
              "  // All done.\n",
              "  yield {\n",
              "    response: {\n",
              "      action: 'complete',\n",
              "    }\n",
              "  };\n",
              "}\n",
              "\n",
              "scope.google = scope.google || {};\n",
              "scope.google.colab = scope.google.colab || {};\n",
              "scope.google.colab._files = {\n",
              "  _uploadFiles,\n",
              "  _uploadFilesContinue,\n",
              "};\n",
              "})(self);\n",
              "</script> "
            ]
          },
          "metadata": {}
        },
        {
          "output_type": "stream",
          "name": "stdout",
          "text": [
            "Saving ex4.csv to ex4 (11).csv\n"
          ]
        }
      ]
    },
    {
      "cell_type": "code",
      "source": [
        "example = \"ex4 (11).csv\"\n",
        "myfile = open(example, \"r\")\n",
        "myfile"
      ],
      "metadata": {
        "colab": {
          "base_uri": "https://localhost:8080/"
        },
        "id": "XPvU-Utamc2Z",
        "outputId": "e8259b50-4efe-4724-d8ee-07922d3149e0"
      },
      "execution_count": 41,
      "outputs": [
        {
          "output_type": "execute_result",
          "data": {
            "text/plain": [
              "<_io.TextIOWrapper name='ex4 (11).csv' mode='r' encoding='UTF-8'>"
            ]
          },
          "metadata": {},
          "execution_count": 41
        }
      ]
    },
    {
      "cell_type": "code",
      "source": [
        "# print the path of file\n",
        "myfile.name"
      ],
      "metadata": {
        "colab": {
          "base_uri": "https://localhost:8080/",
          "height": 36
        },
        "id": "YEVZy_1Tmpxv",
        "outputId": "6566e77e-311e-4aa3-b42f-84a6ec08ef81"
      },
      "execution_count": 42,
      "outputs": [
        {
          "output_type": "execute_result",
          "data": {
            "text/plain": [
              "'ex4 (11).csv'"
            ],
            "application/vnd.google.colaboratory.intrinsic+json": {
              "type": "string"
            }
          },
          "metadata": {},
          "execution_count": 42
        }
      ]
    },
    {
      "cell_type": "code",
      "source": [
        "# print the mode of file, r or w\n",
        "myfile.mode"
      ],
      "metadata": {
        "colab": {
          "base_uri": "https://localhost:8080/",
          "height": 36
        },
        "id": "gdZxmPnwmtCy",
        "outputId": "e513dbae-c9db-43e3-c968-5d1326265ee0"
      },
      "execution_count": 43,
      "outputs": [
        {
          "output_type": "execute_result",
          "data": {
            "text/plain": [
              "'r'"
            ],
            "application/vnd.google.colaboratory.intrinsic+json": {
              "type": "string"
            }
          },
          "metadata": {},
          "execution_count": 43
        }
      ]
    },
    {
      "cell_type": "code",
      "source": [
        "# read the file \n",
        "# read() method displays the content within this file\n",
        "myfilecontent = myfile.read()\n",
        "myfilecontent"
      ],
      "metadata": {
        "colab": {
          "base_uri": "https://localhost:8080/",
          "height": 105
        },
        "id": "G-SF4SZcnlB_",
        "outputId": "a22bba7e-a6e6-42cf-c5e5-33cc65a5bafb"
      },
      "execution_count": 44,
      "outputs": [
        {
          "output_type": "execute_result",
          "data": {
            "text/plain": [
              "'Day,ONE_DAY_PRECIPITATION\\n2020-06-01 0:00:00,1\\n2020-06-02 0:00:00,5.6\\n2020-06-03 0:00:00,4.1\\n2020-06-04 0:00:00,4\\n2020-06-05 0:00:00,6.2\\n2020-06-06 0:00:00,4\\n2020-06-07 0:00:00,3.4\\n2020-06-08 0:00:00,6\\n2020-06-09 0:00:00,7.8\\n2020-06-10 0:00:00,8\\n2020-06-11 0:00:00,9\\n2020-06-12 0:00:00,3\\n2020-06-13 0:00:00,5.9\\n2020-06-14 0:00:00,1.4\\n2020-06-15 0:00:00,1.6\\n2020-06-16 0:00:00,1.8\\n2020-06-17 0:00:00,1.9\\n2020-06-18 0:00:00,3.4\\n2020-06-19 0:00:00,2.1\\n2020-06-20 0:00:00,4.9\\n2020-06-21 0:00:00,2.3\\n2020-06-22 0:00:00,9.1\\n2020-06-23 0:00:00,5.3\\n2020-06-24 0:00:00,4\\n2020-06-25 0:00:00,6\\n2020-06-26 0:00:00,7.6\\n2020-06-27 0:00:00,9.9\\n2020-06-28 0:00:00,3\\n2020-06-29 0:00:00,2.2\\n2020-06-30 0:00:00,5.4\\n2020-07-01 0:00:00,0.8'"
            ],
            "application/vnd.google.colaboratory.intrinsic+json": {
              "type": "string"
            }
          },
          "metadata": {},
          "execution_count": 44
        }
      ]
    },
    {
      "cell_type": "code",
      "source": [
        "# Print the file with '\\n' as a new line\n",
        "# Print seems to do the trick already\n",
        "print(myfilecontent)"
      ],
      "metadata": {
        "colab": {
          "base_uri": "https://localhost:8080/"
        },
        "id": "6inI1AP7oGth",
        "outputId": "b18ddc15-0888-4089-cb29-2d7fad1b8259"
      },
      "execution_count": 45,
      "outputs": [
        {
          "output_type": "stream",
          "name": "stdout",
          "text": [
            "Day,ONE_DAY_PRECIPITATION\n",
            "2020-06-01 0:00:00,1\n",
            "2020-06-02 0:00:00,5.6\n",
            "2020-06-03 0:00:00,4.1\n",
            "2020-06-04 0:00:00,4\n",
            "2020-06-05 0:00:00,6.2\n",
            "2020-06-06 0:00:00,4\n",
            "2020-06-07 0:00:00,3.4\n",
            "2020-06-08 0:00:00,6\n",
            "2020-06-09 0:00:00,7.8\n",
            "2020-06-10 0:00:00,8\n",
            "2020-06-11 0:00:00,9\n",
            "2020-06-12 0:00:00,3\n",
            "2020-06-13 0:00:00,5.9\n",
            "2020-06-14 0:00:00,1.4\n",
            "2020-06-15 0:00:00,1.6\n",
            "2020-06-16 0:00:00,1.8\n",
            "2020-06-17 0:00:00,1.9\n",
            "2020-06-18 0:00:00,3.4\n",
            "2020-06-19 0:00:00,2.1\n",
            "2020-06-20 0:00:00,4.9\n",
            "2020-06-21 0:00:00,2.3\n",
            "2020-06-22 0:00:00,9.1\n",
            "2020-06-23 0:00:00,5.3\n",
            "2020-06-24 0:00:00,4\n",
            "2020-06-25 0:00:00,6\n",
            "2020-06-26 0:00:00,7.6\n",
            "2020-06-27 0:00:00,9.9\n",
            "2020-06-28 0:00:00,3\n",
            "2020-06-29 0:00:00,2.2\n",
            "2020-06-30 0:00:00,5.4\n",
            "2020-07-01 0:00:00,0.8\n"
          ]
        }
      ]
    },
    {
      "cell_type": "code",
      "source": [
        "# Type of file content\n",
        "type(myfilecontent)"
      ],
      "metadata": {
        "colab": {
          "base_uri": "https://localhost:8080/"
        },
        "id": "leQtxymLoS3C",
        "outputId": "9298d5d2-edfd-49fa-f823-4585b0071e1f"
      },
      "execution_count": 46,
      "outputs": [
        {
          "output_type": "execute_result",
          "data": {
            "text/plain": [
              "str"
            ]
          },
          "metadata": {},
          "execution_count": 46
        }
      ]
    },
    {
      "cell_type": "code",
      "source": [
        "# Close file after finish\n",
        "myfile.close()"
      ],
      "metadata": {
        "id": "BIMnqQxAoXPe"
      },
      "execution_count": 47,
      "outputs": []
    },
    {
      "cell_type": "code",
      "source": [
        "# BETTER WAY TO OPEN A FILE"
      ],
      "metadata": {
        "id": "ilWCSKD2ocqf"
      },
      "execution_count": 48,
      "outputs": []
    },
    {
      "cell_type": "code",
      "source": [
        "# Open file using with prrocess\n",
        "\n",
        "# with process closes the object after running the code\n",
        "\n",
        "# Using with statement is better practice, it automatically closes the file even if the code encounters an exception.\n",
        "# The code will run everything in the indent block then close the file object.\n",
        "\n",
        "with open(example, \"r\") as myfileagain:\n",
        "    myfilecontentagain = myfileagain.read()\n",
        "    print(myfilecontentagain)"
      ],
      "metadata": {
        "id": "Lne35T-nok_w"
      },
      "execution_count": null,
      "outputs": []
    },
    {
      "cell_type": "code",
      "source": [
        "# Verify if the file is closed\n",
        "myfileagain.closed"
      ],
      "metadata": {
        "colab": {
          "base_uri": "https://localhost:8080/"
        },
        "id": "JRXEQCvgo29X",
        "outputId": "a904b28a-bc19-4aad-b3e4-73c4aafdb954"
      },
      "execution_count": 50,
      "outputs": [
        {
          "output_type": "execute_result",
          "data": {
            "text/plain": [
              "True"
            ]
          },
          "metadata": {},
          "execution_count": 50
        }
      ]
    },
    {
      "cell_type": "code",
      "source": [
        "# See the content of the file\n",
        "print(myfilecontentagain)"
      ],
      "metadata": {
        "colab": {
          "base_uri": "https://localhost:8080/"
        },
        "id": "X0UVZskxpOdj",
        "outputId": "de658e1c-30b4-4dbd-be41-7b9f9db79341"
      },
      "execution_count": 51,
      "outputs": [
        {
          "output_type": "stream",
          "name": "stdout",
          "text": [
            "Day,ONE_DAY_PRECIPITATION\n",
            "2020-06-01 0:00:00,1\n",
            "2020-06-02 0:00:00,5.6\n",
            "2020-06-03 0:00:00,4.1\n",
            "2020-06-04 0:00:00,4\n",
            "2020-06-05 0:00:00,6.2\n",
            "2020-06-06 0:00:00,4\n",
            "2020-06-07 0:00:00,3.4\n",
            "2020-06-08 0:00:00,6\n",
            "2020-06-09 0:00:00,7.8\n",
            "2020-06-10 0:00:00,8\n",
            "2020-06-11 0:00:00,9\n",
            "2020-06-12 0:00:00,3\n",
            "2020-06-13 0:00:00,5.9\n",
            "2020-06-14 0:00:00,1.4\n",
            "2020-06-15 0:00:00,1.6\n",
            "2020-06-16 0:00:00,1.8\n",
            "2020-06-17 0:00:00,1.9\n",
            "2020-06-18 0:00:00,3.4\n",
            "2020-06-19 0:00:00,2.1\n",
            "2020-06-20 0:00:00,4.9\n",
            "2020-06-21 0:00:00,2.3\n",
            "2020-06-22 0:00:00,9.1\n",
            "2020-06-23 0:00:00,5.3\n",
            "2020-06-24 0:00:00,4\n",
            "2020-06-25 0:00:00,6\n",
            "2020-06-26 0:00:00,7.6\n",
            "2020-06-27 0:00:00,9.9\n",
            "2020-06-28 0:00:00,3\n",
            "2020-06-29 0:00:00,2.2\n",
            "2020-06-30 0:00:00,5.4\n",
            "2020-07-01 0:00:00,0.8\n"
          ]
        }
      ]
    },
    {
      "cell_type": "code",
      "source": [
        "# Read specifically four characters\n",
        "with open(example, \"r\") as myfileagain:\n",
        "    print(myfileagain.read(4))"
      ],
      "metadata": {
        "colab": {
          "base_uri": "https://localhost:8080/"
        },
        "id": "PFeBHPQOpQcE",
        "outputId": "91d7eebf-022e-4091-d59b-b28a2cfee8b6"
      },
      "execution_count": 35,
      "outputs": [
        {
          "output_type": "stream",
          "name": "stdout",
          "text": [
            "\n"
          ]
        }
      ]
    },
    {
      "cell_type": "code",
      "source": [
        "# Read certain amount of character multiple times\n",
        "with open(example, \"r\") as myfileagain:\n",
        "    print(myfileagain.read(16))\n",
        "    print(myfileagain.read(5))\n",
        "    print(myfileagain.read(9))"
      ],
      "metadata": {
        "colab": {
          "base_uri": "https://localhost:8080/"
        },
        "id": "hMsnOgsWpuTy",
        "outputId": "d02bc7ef-0002-46ae-8377-a4144ab1dc88"
      },
      "execution_count": 52,
      "outputs": [
        {
          "output_type": "stream",
          "name": "stdout",
          "text": [
            "Day,ONE_DAY_PREC\n",
            "IPITA\n",
            "TION\n",
            "2020\n"
          ]
        }
      ]
    },
    {
      "cell_type": "code",
      "source": [
        "# Iterate through the lines\n",
        "\n",
        "with open(example,\"r\") as file:\n",
        "        i = 0;\n",
        "        for line in file:\n",
        "            print(\"Iteración\", str(i), \": \", line)  #convert each line to string\n",
        "            i = i + 1"
      ],
      "metadata": {
        "id": "9aayQXPyp6Z4",
        "colab": {
          "base_uri": "https://localhost:8080/"
        },
        "outputId": "4cc3b998-1894-42cd-acc0-f4b668acfa00"
      },
      "execution_count": 53,
      "outputs": [
        {
          "output_type": "stream",
          "name": "stdout",
          "text": [
            "Iteración 0 :  Day,ONE_DAY_PRECIPITATION\n",
            "\n",
            "Iteración 1 :  2020-06-01 0:00:00,1\n",
            "\n",
            "Iteración 2 :  2020-06-02 0:00:00,5.6\n",
            "\n",
            "Iteración 3 :  2020-06-03 0:00:00,4.1\n",
            "\n",
            "Iteración 4 :  2020-06-04 0:00:00,4\n",
            "\n",
            "Iteración 5 :  2020-06-05 0:00:00,6.2\n",
            "\n",
            "Iteración 6 :  2020-06-06 0:00:00,4\n",
            "\n",
            "Iteración 7 :  2020-06-07 0:00:00,3.4\n",
            "\n",
            "Iteración 8 :  2020-06-08 0:00:00,6\n",
            "\n",
            "Iteración 9 :  2020-06-09 0:00:00,7.8\n",
            "\n",
            "Iteración 10 :  2020-06-10 0:00:00,8\n",
            "\n",
            "Iteración 11 :  2020-06-11 0:00:00,9\n",
            "\n",
            "Iteración 12 :  2020-06-12 0:00:00,3\n",
            "\n",
            "Iteración 13 :  2020-06-13 0:00:00,5.9\n",
            "\n",
            "Iteración 14 :  2020-06-14 0:00:00,1.4\n",
            "\n",
            "Iteración 15 :  2020-06-15 0:00:00,1.6\n",
            "\n",
            "Iteración 16 :  2020-06-16 0:00:00,1.8\n",
            "\n",
            "Iteración 17 :  2020-06-17 0:00:00,1.9\n",
            "\n",
            "Iteración 18 :  2020-06-18 0:00:00,3.4\n",
            "\n",
            "Iteración 19 :  2020-06-19 0:00:00,2.1\n",
            "\n",
            "Iteración 20 :  2020-06-20 0:00:00,4.9\n",
            "\n",
            "Iteración 21 :  2020-06-21 0:00:00,2.3\n",
            "\n",
            "Iteración 22 :  2020-06-22 0:00:00,9.1\n",
            "\n",
            "Iteración 23 :  2020-06-23 0:00:00,5.3\n",
            "\n",
            "Iteración 24 :  2020-06-24 0:00:00,4\n",
            "\n",
            "Iteración 25 :  2020-06-25 0:00:00,6\n",
            "\n",
            "Iteración 26 :  2020-06-26 0:00:00,7.6\n",
            "\n",
            "Iteración 27 :  2020-06-27 0:00:00,9.9\n",
            "\n",
            "Iteración 28 :  2020-06-28 0:00:00,3\n",
            "\n",
            "Iteración 29 :  2020-06-29 0:00:00,2.2\n",
            "\n",
            "Iteración 30 :  2020-06-30 0:00:00,5.4\n",
            "\n",
            "Iteración 31 :  2020-07-01 0:00:00,0.8\n"
          ]
        }
      ]
    },
    {
      "cell_type": "code",
      "source": [
        "# Read all lines and save as a list\n",
        "\n",
        "with open(example, \"r\") as file:\n",
        "    FileasList = file.readlines()\n",
        "\n",
        "FileasList   #this method converted all line elements into elements of a list "
      ],
      "metadata": {
        "colab": {
          "base_uri": "https://localhost:8080/"
        },
        "id": "An1jke2IrFEK",
        "outputId": "98509063-764b-4d6c-d36a-554f5e0db72d"
      },
      "execution_count": 56,
      "outputs": [
        {
          "output_type": "execute_result",
          "data": {
            "text/plain": [
              "['Day,ONE_DAY_PRECIPITATION\\n',\n",
              " '2020-06-01 0:00:00,1\\n',\n",
              " '2020-06-02 0:00:00,5.6\\n',\n",
              " '2020-06-03 0:00:00,4.1\\n',\n",
              " '2020-06-04 0:00:00,4\\n',\n",
              " '2020-06-05 0:00:00,6.2\\n',\n",
              " '2020-06-06 0:00:00,4\\n',\n",
              " '2020-06-07 0:00:00,3.4\\n',\n",
              " '2020-06-08 0:00:00,6\\n',\n",
              " '2020-06-09 0:00:00,7.8\\n',\n",
              " '2020-06-10 0:00:00,8\\n',\n",
              " '2020-06-11 0:00:00,9\\n',\n",
              " '2020-06-12 0:00:00,3\\n',\n",
              " '2020-06-13 0:00:00,5.9\\n',\n",
              " '2020-06-14 0:00:00,1.4\\n',\n",
              " '2020-06-15 0:00:00,1.6\\n',\n",
              " '2020-06-16 0:00:00,1.8\\n',\n",
              " '2020-06-17 0:00:00,1.9\\n',\n",
              " '2020-06-18 0:00:00,3.4\\n',\n",
              " '2020-06-19 0:00:00,2.1\\n',\n",
              " '2020-06-20 0:00:00,4.9\\n',\n",
              " '2020-06-21 0:00:00,2.3\\n',\n",
              " '2020-06-22 0:00:00,9.1\\n',\n",
              " '2020-06-23 0:00:00,5.3\\n',\n",
              " '2020-06-24 0:00:00,4\\n',\n",
              " '2020-06-25 0:00:00,6\\n',\n",
              " '2020-06-26 0:00:00,7.6\\n',\n",
              " '2020-06-27 0:00:00,9.9\\n',\n",
              " '2020-06-28 0:00:00,3\\n',\n",
              " '2020-06-29 0:00:00,2.2\\n',\n",
              " '2020-06-30 0:00:00,5.4\\n',\n",
              " '2020-07-01 0:00:00,0.8']"
            ]
          },
          "metadata": {},
          "execution_count": 56
        }
      ]
    },
    {
      "cell_type": "code",
      "source": [
        "len(FileasList)"
      ],
      "metadata": {
        "colab": {
          "base_uri": "https://localhost:8080/"
        },
        "id": "WZFECw2ZrVRN",
        "outputId": "e8908eb4-1190-4d69-8aa2-ef0471795310"
      },
      "execution_count": 57,
      "outputs": [
        {
          "output_type": "execute_result",
          "data": {
            "text/plain": [
              "32"
            ]
          },
          "metadata": {},
          "execution_count": 57
        }
      ]
    },
    {
      "cell_type": "code",
      "source": [
        "# calling the 31th element of the list\n",
        "len(FileasList[31])"
      ],
      "metadata": {
        "colab": {
          "base_uri": "https://localhost:8080/"
        },
        "id": "RUNta60rrYG2",
        "outputId": "bcd06f53-ce1b-4eac-e6bb-a08c23959c98"
      },
      "execution_count": 58,
      "outputs": [
        {
          "output_type": "execute_result",
          "data": {
            "text/plain": [
              "22"
            ]
          },
          "metadata": {},
          "execution_count": 58
        }
      ]
    },
    {
      "cell_type": "markdown",
      "source": [
        "Writing Files with open statement"
      ],
      "metadata": {
        "id": "VOLtldyCsU6V"
      }
    },
    {
      "cell_type": "code",
      "source": [
        "# Write (\"w\") methods overwrites the content of the file but append method (\"a\") adds some text to the file\n",
        "# Write line to file\n",
        "myfile2 = example\n",
        "with open(myfile2, 'w') as writefile:\n",
        "    writefile.write(\"This is line A and has been recently created\")"
      ],
      "metadata": {
        "id": "qPOiTtoTreRz"
      },
      "execution_count": 59,
      "outputs": []
    },
    {
      "cell_type": "code",
      "source": [
        "# Read file\n",
        "with open(myfile2, 'r') as testwritefile:\n",
        "    print(testwritefile.read())"
      ],
      "metadata": {
        "id": "-03tz9UrwQnX",
        "colab": {
          "base_uri": "https://localhost:8080/"
        },
        "outputId": "6d5c7bf6-e02c-465b-cb00-890544b526c3"
      },
      "execution_count": 60,
      "outputs": [
        {
          "output_type": "stream",
          "name": "stdout",
          "text": [
            "This is line A and has been recently created\n"
          ]
        }
      ]
    },
    {
      "cell_type": "code",
      "source": [
        "# Writing multiple lines\n",
        "with open(myfile2, 'w') as writefile:\n",
        "    writefile.write(\"This is line A\\n\")\n",
        "    writefile.write(\"This is line B\\n\")"
      ],
      "metadata": {
        "id": "IKoAofDcwRc8"
      },
      "execution_count": 61,
      "outputs": []
    },
    {
      "cell_type": "code",
      "source": [
        "# Test again\n",
        "with open(myfile2, 'r') as testwritefile:\n",
        "    print(testwritefile.read())"
      ],
      "metadata": {
        "id": "cQmZtPW8xiZi",
        "colab": {
          "base_uri": "https://localhost:8080/"
        },
        "outputId": "c24d9034-e657-48d1-bc4d-0010859d1826"
      },
      "execution_count": 62,
      "outputs": [
        {
          "output_type": "stream",
          "name": "stdout",
          "text": [
            "This is line A\n",
            "This is line B\n",
            "\n"
          ]
        }
      ]
    },
    {
      "cell_type": "code",
      "source": [
        "with open(example, \"r\") as file:\n",
        "    FileasList = file.readlines()\n",
        "FileasList    "
      ],
      "metadata": {
        "id": "e9smRUqzxqkf",
        "colab": {
          "base_uri": "https://localhost:8080/"
        },
        "outputId": "5c1c50de-e0b0-4e44-b2ea-5e890b588a4b"
      },
      "execution_count": 63,
      "outputs": [
        {
          "output_type": "execute_result",
          "data": {
            "text/plain": [
              "['This is line A\\n', 'This is line B\\n']"
            ]
          },
          "metadata": {},
          "execution_count": 63
        }
      ]
    },
    {
      "cell_type": "code",
      "source": [
        "# Write strings coming from a list to a text file\n",
        "lines = [\"This is line A\\n\", \"This is line B\\n\", \"This is line C\\n\"]\n",
        "lines"
      ],
      "metadata": {
        "id": "qfcoCTCiyQuN",
        "colab": {
          "base_uri": "https://localhost:8080/"
        },
        "outputId": "009a75ac-6ca3-440b-9a6d-30746a27120f"
      },
      "execution_count": 64,
      "outputs": [
        {
          "output_type": "execute_result",
          "data": {
            "text/plain": [
              "['This is line A\\n', 'This is line B\\n', 'This is line C\\n']"
            ]
          },
          "metadata": {},
          "execution_count": 64
        }
      ]
    },
    {
      "cell_type": "code",
      "source": [
        "with open(example,\"w\") as writefile:\n",
        "  for line in lines:\n",
        "    print(line)\n",
        "    writefile.write(line)"
      ],
      "metadata": {
        "id": "bo5jJnPIy5mH",
        "colab": {
          "base_uri": "https://localhost:8080/"
        },
        "outputId": "02ca7310-2c51-4799-8184-4e3cd2409958"
      },
      "execution_count": 65,
      "outputs": [
        {
          "output_type": "stream",
          "name": "stdout",
          "text": [
            "This is line A\n",
            "\n",
            "This is line B\n",
            "\n",
            "This is line C\n",
            "\n"
          ]
        }
      ]
    },
    {
      "cell_type": "code",
      "source": [
        "# Verify if writing to file is successfully executed\n",
        "with open(example,\"r\") as testwrite:\n",
        "  print(testwrite.read())"
      ],
      "metadata": {
        "id": "y5czO_6kzA22",
        "colab": {
          "base_uri": "https://localhost:8080/"
        },
        "outputId": "71cd95ab-21d2-4eca-ef9a-666a052030ad"
      },
      "execution_count": 66,
      "outputs": [
        {
          "output_type": "stream",
          "name": "stdout",
          "text": [
            "This is line A\n",
            "This is line B\n",
            "This is line C\n",
            "\n"
          ]
        }
      ]
    },
    {
      "cell_type": "markdown",
      "source": [
        "Appending Files: this won't overwrite the file, it will add new data"
      ],
      "metadata": {
        "id": "e3A_RFoSzgWV"
      }
    },
    {
      "cell_type": "code",
      "source": [
        "# Write a new line to text file\n",
        "with open(example, 'a') as testwritefile:\n",
        "    testwritefile.write(\"This is line D\\n\")\n",
        "    testwritefile.write(\"This is line E\\n\")\n",
        "    testwritefile.write(\"This is line F\\n\")"
      ],
      "metadata": {
        "id": "Qtl4j2ltzLbJ"
      },
      "execution_count": 67,
      "outputs": []
    },
    {
      "cell_type": "code",
      "source": [
        "with open(example,\"r\") as testwrite:\n",
        "  print(testwrite.read())"
      ],
      "metadata": {
        "id": "L4UjUo6lzyGe",
        "colab": {
          "base_uri": "https://localhost:8080/"
        },
        "outputId": "03588014-87a5-4395-907f-f6d6c2f280a8"
      },
      "execution_count": 68,
      "outputs": [
        {
          "output_type": "stream",
          "name": "stdout",
          "text": [
            "This is line A\n",
            "This is line B\n",
            "This is line C\n",
            "This is line D\n",
            "This is line E\n",
            "This is line F\n",
            "\n"
          ]
        }
      ]
    },
    {
      "cell_type": "markdown",
      "source": [
        "Additional modes\n",
        "It's fairly ineffecient to open the file in **a** or **w** and then reopening it in **r** to read any lines. Luckily we can access the file in the following modes:\n",
        "\n",
        "*   **r+** : Reading and writing. Cannot truncate the file.\n",
        "*   **w+** : Writing and reading. Truncates the file.\n",
        "*   **a+** : Appending and Reading. Creates a new file, if none exists.\n",
        "\n",
        "You dont have to dwell on the specifics of each mode for this lab."
      ],
      "metadata": {
        "id": "vDusYfOrz2J5"
      }
    },
    {
      "cell_type": "code",
      "source": [
        "with open(example, 'a+') as testwritefile:\n",
        "    testwritefile.write(\"This is line E\\n\")\n",
        "    print(testwritefile.read()) "
      ],
      "metadata": {
        "id": "IkWcKJdP0ohK",
        "colab": {
          "base_uri": "https://localhost:8080/"
        },
        "outputId": "370b228f-b51c-4c7e-9d18-6cef2bd3f1f2"
      },
      "execution_count": 69,
      "outputs": [
        {
          "output_type": "stream",
          "name": "stdout",
          "text": [
            "\n"
          ]
        }
      ]
    },
    {
      "cell_type": "code",
      "source": [
        "#.tell() and seek(offset,from)\n",
        "#.tell() return the current position in bytes\n",
        "#.seek(offset, from) changes the position by \"offset\" bytes with respect to \"from\", From can take the value of 0,1,2 corresponding to beginning, relative to current position and end\n"
      ],
      "metadata": {
        "id": "EbZ7v2E91ttI"
      },
      "execution_count": 70,
      "outputs": []
    },
    {
      "cell_type": "code",
      "source": [
        "with open(example, 'a+') as testwritefile:\n",
        "    print(\"Initial Location: {}\".format(testwritefile.tell()))\n",
        "    \n",
        "    data = testwritefile.read()\n",
        "    if (not data):  #empty strings return false in python\n",
        "            print('Read nothing') # read nothing because it was at the end of the file and there was nothing to read\n",
        "    else: \n",
        "            print(testwritefile.read())\n",
        "            \n",
        "    testwritefile.seek(0,0) # move 0 bytes from beginning. #went back to the beginning of the file and there was data to be read\n",
        "    \n",
        "    print(\"\\nNew Location : {}\".format(testwritefile.tell()))\n",
        "    data = testwritefile.read()\n",
        "    if (not data): \n",
        "            print('Read nothing') \n",
        "    else: \n",
        "            print(data)\n",
        "    \n",
        "    print(\"Location after read: {}\".format(testwritefile.tell()) )"
      ],
      "metadata": {
        "id": "GOkbMKX_2LU8",
        "colab": {
          "base_uri": "https://localhost:8080/"
        },
        "outputId": "d620eb24-4a44-4628-f661-d6332a074914"
      },
      "execution_count": 71,
      "outputs": [
        {
          "output_type": "stream",
          "name": "stdout",
          "text": [
            "Initial Location: 105\n",
            "Read nothing\n",
            "\n",
            "New Location : 0\n",
            "This is line A\n",
            "This is line B\n",
            "This is line C\n",
            "This is line D\n",
            "This is line E\n",
            "This is line F\n",
            "This is line E\n",
            "\n",
            "Location after read: 105\n"
          ]
        }
      ]
    },
    {
      "cell_type": "code",
      "source": [
        "with open(example, 'r+') as testwritefile:\n",
        "    data = testwritefile.readlines()\n",
        "    testwritefile.seek(0,0) #write at beginning of file\n",
        "   \n",
        "    testwritefile.write(\"Line 1\" + \"\\n\")\n",
        "    testwritefile.write(\"Line 2\" + \"\\n\")\n",
        "    testwritefile.write(\"Line 3\" + \"\\n\")\n",
        "    testwritefile.write(\"finished\\n\")\n",
        "    #Uncomment the line below\n",
        "    #testwritefile.truncate() #erased all the data, therefore the second time it runs it shows only line 1, line2 and line 3 that we added\n",
        "    testwritefile.seek(0,0)\n",
        "    print(testwritefile.read())\n",
        "    "
      ],
      "metadata": {
        "id": "w59jR0nZ34cV",
        "colab": {
          "base_uri": "https://localhost:8080/"
        },
        "outputId": "e17451ea-c849-4254-8db4-533782b2ac7f"
      },
      "execution_count": 72,
      "outputs": [
        {
          "output_type": "stream",
          "name": "stdout",
          "text": [
            "Line 1\n",
            "Line 2\n",
            "Line 3\n",
            "finished\n",
            "This is line C\n",
            "This is line D\n",
            "This is line E\n",
            "This is line F\n",
            "This is line E\n",
            "\n"
          ]
        }
      ]
    },
    {
      "cell_type": "markdown",
      "source": [
        "Copy a File"
      ],
      "metadata": {
        "id": "_QzeUfmb4ULZ"
      }
    },
    {
      "cell_type": "code",
      "source": [
        "example2 = \"ex4 (10).csv\"\n",
        "myfile = open(example, \"r\")\n",
        "myfile"
      ],
      "metadata": {
        "id": "NtKpDKCr5VnJ",
        "colab": {
          "base_uri": "https://localhost:8080/"
        },
        "outputId": "e015f773-ebfb-4a54-d1c7-d2d070979d42"
      },
      "execution_count": 74,
      "outputs": [
        {
          "output_type": "execute_result",
          "data": {
            "text/plain": [
              "<_io.TextIOWrapper name='ex4 (11).csv' mode='r' encoding='UTF-8'>"
            ]
          },
          "metadata": {},
          "execution_count": 74
        }
      ]
    },
    {
      "cell_type": "code",
      "source": [
        "# Copy file to another\n",
        "\n",
        "with open(example,'r') as readfile:\n",
        "    with open(example2,'w') as writefile:\n",
        "          for line in readfile:\n",
        "                writefile.write(line)"
      ],
      "metadata": {
        "id": "jwsmivJE4TLe"
      },
      "execution_count": 75,
      "outputs": []
    },
    {
      "cell_type": "code",
      "source": [
        "with open(example2,'r') as testwritefile:\n",
        "    print(testwritefile.read())"
      ],
      "metadata": {
        "id": "NR45fTD_5grU",
        "colab": {
          "base_uri": "https://localhost:8080/"
        },
        "outputId": "4b60fd93-97bb-4f10-bf8a-08a62b4b07ce"
      },
      "execution_count": 76,
      "outputs": [
        {
          "output_type": "stream",
          "name": "stdout",
          "text": [
            "Line 1\n",
            "Line 2\n",
            "Line 3\n",
            "finished\n",
            "This is line C\n",
            "This is line D\n",
            "This is line E\n",
            "This is line F\n",
            "This is line E\n",
            "\n"
          ]
        }
      ]
    },
    {
      "cell_type": "markdown",
      "source": [
        "Lab Exercise"
      ],
      "metadata": {
        "id": "kYizaKecAANd"
      }
    },
    {
      "cell_type": "code",
      "source": [
        "#Run this prior to starting the exercise\n",
        "from random import randint as rnd\n",
        "\n",
        "memReg = 'members.txt'\n",
        "exReg = 'inactive.txt'\n",
        "fee =('yes','no')\n",
        "\n",
        "def genFiles(current,old):\n",
        "    with open(current,'w+') as writefile: \n",
        "        writefile.write('Membership No  Date Joined  Active  \\n')\n",
        "        data = \"{:^13}  {:<11}  {:<6}\\n\"\n",
        "\n",
        "        for rowno in range(20):\n",
        "            date = str(rnd(2015,2020))+ '-' + str(rnd(1,12))+'-'+str(rnd(1,25))\n",
        "            writefile.write(data.format(rnd(10000,99999),date,fee[rnd(0,1)]))\n",
        "\n",
        "\n",
        "    with open(old,'w+') as writefile: \n",
        "        writefile.write('Membership No  Date Joined  Active  \\n')\n",
        "        data = \"{:^13}  {:<11}  {:<6}\\n\"\n",
        "        for rowno in range(3):\n",
        "            date = str(rnd(2015,2020))+ '-' + str(rnd(1,12))+'-'+str(rnd(1,25))\n",
        "            writefile.write(data.format(rnd(10000,99999),date,fee[1]))\n",
        "\n",
        "\n",
        "genFiles(memReg,exReg)"
      ],
      "metadata": {
        "id": "oAMpjfFV_-kW"
      },
      "execution_count": 77,
      "outputs": []
    },
    {
      "cell_type": "code",
      "source": [
        "def cleanFiles(currentMem,exMem):\n",
        "    with open(currentMem,'r+') as writeFile: \n",
        "        with open(exMem,'a+') as appendFile:\n",
        "            #get the data\n",
        "            writeFile.seek(0)\n",
        "            members = writeFile.readlines()\n",
        "            #remove header\n",
        "            header = members[0]\n",
        "            members.pop(0)\n",
        "                \n",
        "            inactive = [member for member in members if ('no' in member)]\n",
        "            '''\n",
        "            The above is the same as \n",
        "\n",
        "            for member in members:\n",
        "            if 'no' in member:\n",
        "                inactive.append(member)\n",
        "            '''\n",
        "            #go to the beginning of the write file\n",
        "            writeFile.seek(0) \n",
        "            writeFile.write(header)\n",
        "            for member in members:\n",
        "                if (member in inactive):\n",
        "                    appendFile.write(member)\n",
        "                else:\n",
        "                    writeFile.write(member)      \n",
        "            writeFile.truncate()\n",
        "                \n",
        "memReg = 'members.txt'\n",
        "exReg = 'inactive.txt'\n",
        "cleanFiles(memReg,exReg)\n",
        "\n",
        "# code to help you see the files\n",
        "\n",
        "headers = \"Membership No  Date Joined  Active  \\n\"\n",
        "\n",
        "with open(memReg,'r') as readFile:\n",
        "    print(\"Active Members: \\n\\n\")\n",
        "    print(readFile.read())\n",
        "    \n",
        "with open(exReg,'r') as readFile:\n",
        "    print(\"Inactive Members: \\n\\n\")\n",
        "    print(readFile.read())"
      ],
      "metadata": {
        "colab": {
          "base_uri": "https://localhost:8080/"
        },
        "id": "3Yf5ERUaAO5K",
        "outputId": "0c71f7a3-f9ef-49b1-cb60-5de994687b42"
      },
      "execution_count": 78,
      "outputs": [
        {
          "output_type": "stream",
          "name": "stdout",
          "text": [
            "Active Members: \n",
            "\n",
            "\n",
            "Membership No  Date Joined  Active  \n",
            "    60132      2017-2-23    yes   \n",
            "    18234      2017-12-4    yes   \n",
            "    92575      2017-1-5     yes   \n",
            "    79800      2017-2-14    yes   \n",
            "    95026      2018-7-9     yes   \n",
            "    47051      2019-5-4     yes   \n",
            "    89064      2019-5-7     yes   \n",
            "    38713      2016-12-18   yes   \n",
            "    52636      2019-1-21    yes   \n",
            "\n",
            "Inactive Members: \n",
            "\n",
            "\n",
            "Membership No  Date Joined  Active  \n",
            "    36205      2018-9-17    no    \n",
            "    80205      2015-2-5     no    \n",
            "    55288      2015-3-16    no    \n",
            "    94360      2015-2-23    no    \n",
            "    43874      2015-6-21    no    \n",
            "    24837      2020-4-9     no    \n",
            "    72397      2020-10-10   no    \n",
            "    85137      2017-2-9     no    \n",
            "    93923      2020-4-18    no    \n",
            "    66730      2017-4-5     no    \n",
            "    83515      2019-8-7     no    \n",
            "    97567      2015-9-6     no    \n",
            "    13175      2020-8-22    no    \n",
            "    36192      2016-2-18    no    \n",
            "\n"
          ]
        }
      ]
    },
    {
      "cell_type": "code",
      "source": [
        "def testMsg(passed):\n",
        "    if passed:\n",
        "       return 'Test Passed'\n",
        "    else :\n",
        "       return 'Test Failed'\n",
        "\n",
        "testWrite = \"testWrite.txt\"\n",
        "testAppend = \"testAppend.txt\" \n",
        "passed = True\n",
        "\n",
        "genFiles(testWrite,testAppend)\n",
        "\n",
        "with open(testWrite,'r') as file:\n",
        "    ogWrite = file.readlines()\n",
        "\n",
        "with open(testAppend,'r') as file:\n",
        "    ogAppend = file.readlines()\n",
        "\n",
        "try:\n",
        "    cleanFiles(testWrite,testAppend)\n",
        "except:\n",
        "    print('Error')\n",
        "\n",
        "with open(testWrite,'r') as file:\n",
        "    clWrite = file.readlines()\n",
        "\n",
        "with open(testAppend,'r') as file:\n",
        "    clAppend = file.readlines()\n",
        "        \n",
        "# checking if total no of rows is same, including headers\n",
        "\n",
        "if (len(ogWrite) + len(ogAppend) != len(clWrite) + len(clAppend)):\n",
        "    print(\"The number of rows do not add up. Make sure your final files have the same header and format.\")\n",
        "    passed = False\n",
        "    \n",
        "for line in clWrite:\n",
        "    if  'no' in line:\n",
        "        passed = False\n",
        "        print(\"Inactive members in file\")\n",
        "        break\n",
        "    else:\n",
        "        if line not in ogWrite:\n",
        "            print(\"Data in file does not match original file\")\n",
        "            passed = False\n",
        "print (\"{}\".format(testMsg(passed)))\n",
        "    "
      ],
      "metadata": {
        "colab": {
          "base_uri": "https://localhost:8080/"
        },
        "id": "a6s_vSmdAXC-",
        "outputId": "0255c1f1-a773-433f-ff50-ccf0d483932a"
      },
      "execution_count": 79,
      "outputs": [
        {
          "output_type": "stream",
          "name": "stdout",
          "text": [
            "Test Passed\n"
          ]
        }
      ]
    },
    {
      "cell_type": "markdown",
      "source": [
        "Loading Data with Pandas"
      ],
      "metadata": {
        "id": "vA4dcPspA0PL"
      }
    },
    {
      "cell_type": "code",
      "source": [
        "import pandas as pd\n",
        "\n",
        "# creating data frame from dictionary\n",
        "songs = {\"album\":['album1','album2'],\"song\":[\"song1\",\"songs2\"]}\n",
        "songs"
      ],
      "metadata": {
        "colab": {
          "base_uri": "https://localhost:8080/"
        },
        "id": "iYBwf4OgAzoR",
        "outputId": "2a3fb30f-39cd-4307-e74e-4c4cd514ebc9"
      },
      "execution_count": 84,
      "outputs": [
        {
          "output_type": "execute_result",
          "data": {
            "text/plain": [
              "{'album': ['album1', 'album2'], 'song': ['song1', 'songs2']}"
            ]
          },
          "metadata": {},
          "execution_count": 84
        }
      ]
    },
    {
      "cell_type": "code",
      "source": [
        "songs_dataframe = pd.DataFrame(songs)\n",
        "songs_dataframe"
      ],
      "metadata": {
        "colab": {
          "base_uri": "https://localhost:8080/",
          "height": 112
        },
        "id": "4ln91kHzAvAp",
        "outputId": "a7088f1d-3d61-44d8-8f7a-cd8248111e8f"
      },
      "execution_count": 85,
      "outputs": [
        {
          "output_type": "execute_result",
          "data": {
            "text/plain": [
              "    album    song\n",
              "0  album1   song1\n",
              "1  album2  songs2"
            ],
            "text/html": [
              "\n",
              "  <div id=\"df-93cf4257-9f3b-4f75-b36c-aa39caa6e0a9\">\n",
              "    <div class=\"colab-df-container\">\n",
              "      <div>\n",
              "<style scoped>\n",
              "    .dataframe tbody tr th:only-of-type {\n",
              "        vertical-align: middle;\n",
              "    }\n",
              "\n",
              "    .dataframe tbody tr th {\n",
              "        vertical-align: top;\n",
              "    }\n",
              "\n",
              "    .dataframe thead th {\n",
              "        text-align: right;\n",
              "    }\n",
              "</style>\n",
              "<table border=\"1\" class=\"dataframe\">\n",
              "  <thead>\n",
              "    <tr style=\"text-align: right;\">\n",
              "      <th></th>\n",
              "      <th>album</th>\n",
              "      <th>song</th>\n",
              "    </tr>\n",
              "  </thead>\n",
              "  <tbody>\n",
              "    <tr>\n",
              "      <th>0</th>\n",
              "      <td>album1</td>\n",
              "      <td>song1</td>\n",
              "    </tr>\n",
              "    <tr>\n",
              "      <th>1</th>\n",
              "      <td>album2</td>\n",
              "      <td>songs2</td>\n",
              "    </tr>\n",
              "  </tbody>\n",
              "</table>\n",
              "</div>\n",
              "      <button class=\"colab-df-convert\" onclick=\"convertToInteractive('df-93cf4257-9f3b-4f75-b36c-aa39caa6e0a9')\"\n",
              "              title=\"Convert this dataframe to an interactive table.\"\n",
              "              style=\"display:none;\">\n",
              "        \n",
              "  <svg xmlns=\"http://www.w3.org/2000/svg\" height=\"24px\"viewBox=\"0 0 24 24\"\n",
              "       width=\"24px\">\n",
              "    <path d=\"M0 0h24v24H0V0z\" fill=\"none\"/>\n",
              "    <path d=\"M18.56 5.44l.94 2.06.94-2.06 2.06-.94-2.06-.94-.94-2.06-.94 2.06-2.06.94zm-11 1L8.5 8.5l.94-2.06 2.06-.94-2.06-.94L8.5 2.5l-.94 2.06-2.06.94zm10 10l.94 2.06.94-2.06 2.06-.94-2.06-.94-.94-2.06-.94 2.06-2.06.94z\"/><path d=\"M17.41 7.96l-1.37-1.37c-.4-.4-.92-.59-1.43-.59-.52 0-1.04.2-1.43.59L10.3 9.45l-7.72 7.72c-.78.78-.78 2.05 0 2.83L4 21.41c.39.39.9.59 1.41.59.51 0 1.02-.2 1.41-.59l7.78-7.78 2.81-2.81c.8-.78.8-2.07 0-2.86zM5.41 20L4 18.59l7.72-7.72 1.47 1.35L5.41 20z\"/>\n",
              "  </svg>\n",
              "      </button>\n",
              "      \n",
              "  <style>\n",
              "    .colab-df-container {\n",
              "      display:flex;\n",
              "      flex-wrap:wrap;\n",
              "      gap: 12px;\n",
              "    }\n",
              "\n",
              "    .colab-df-convert {\n",
              "      background-color: #E8F0FE;\n",
              "      border: none;\n",
              "      border-radius: 50%;\n",
              "      cursor: pointer;\n",
              "      display: none;\n",
              "      fill: #1967D2;\n",
              "      height: 32px;\n",
              "      padding: 0 0 0 0;\n",
              "      width: 32px;\n",
              "    }\n",
              "\n",
              "    .colab-df-convert:hover {\n",
              "      background-color: #E2EBFA;\n",
              "      box-shadow: 0px 1px 2px rgba(60, 64, 67, 0.3), 0px 1px 3px 1px rgba(60, 64, 67, 0.15);\n",
              "      fill: #174EA6;\n",
              "    }\n",
              "\n",
              "    [theme=dark] .colab-df-convert {\n",
              "      background-color: #3B4455;\n",
              "      fill: #D2E3FC;\n",
              "    }\n",
              "\n",
              "    [theme=dark] .colab-df-convert:hover {\n",
              "      background-color: #434B5C;\n",
              "      box-shadow: 0px 1px 3px 1px rgba(0, 0, 0, 0.15);\n",
              "      filter: drop-shadow(0px 1px 2px rgba(0, 0, 0, 0.3));\n",
              "      fill: #FFFFFF;\n",
              "    }\n",
              "  </style>\n",
              "\n",
              "      <script>\n",
              "        const buttonEl =\n",
              "          document.querySelector('#df-93cf4257-9f3b-4f75-b36c-aa39caa6e0a9 button.colab-df-convert');\n",
              "        buttonEl.style.display =\n",
              "          google.colab.kernel.accessAllowed ? 'block' : 'none';\n",
              "\n",
              "        async function convertToInteractive(key) {\n",
              "          const element = document.querySelector('#df-93cf4257-9f3b-4f75-b36c-aa39caa6e0a9');\n",
              "          const dataTable =\n",
              "            await google.colab.kernel.invokeFunction('convertToInteractive',\n",
              "                                                     [key], {});\n",
              "          if (!dataTable) return;\n",
              "\n",
              "          const docLinkHtml = 'Like what you see? Visit the ' +\n",
              "            '<a target=\"_blank\" href=https://colab.research.google.com/notebooks/data_table.ipynb>data table notebook</a>'\n",
              "            + ' to learn more about interactive tables.';\n",
              "          element.innerHTML = '';\n",
              "          dataTable['output_type'] = 'display_data';\n",
              "          await google.colab.output.renderOutput(dataTable, element);\n",
              "          const docLink = document.createElement('div');\n",
              "          docLink.innerHTML = docLinkHtml;\n",
              "          element.appendChild(docLink);\n",
              "        }\n",
              "      </script>\n",
              "    </div>\n",
              "  </div>\n",
              "  "
            ]
          },
          "metadata": {},
          "execution_count": 85
        }
      ]
    },
    {
      "cell_type": "code",
      "source": [
        "#ix method\n",
        "# df.ix[0,0] = first row, first column record\n",
        "# df.ix[1,0] = second row, fist column record\n",
        "# df.ix[n,n] = n row, n column record\n",
        "# df.ix[0,\"album\"] first row, column algum"
      ],
      "metadata": {
        "id": "DklLRbk0CFG5"
      },
      "execution_count": 87,
      "outputs": []
    },
    {
      "cell_type": "code",
      "source": [
        "# slicing\n",
        "# d.ix[0:2,\"album\":\"song\"]"
      ],
      "metadata": {
        "id": "ut6EyyeeDE-3"
      },
      "execution_count": null,
      "outputs": []
    },
    {
      "cell_type": "markdown",
      "source": [
        "Working with and Saving Data"
      ],
      "metadata": {
        "id": "UIA1AityDxt_"
      }
    },
    {
      "cell_type": "code",
      "source": [
        "#df[\"column.name\"].unique() #\n",
        "songs_dataframe[\"album\"].unique()"
      ],
      "metadata": {
        "colab": {
          "base_uri": "https://localhost:8080/"
        },
        "id": "UpysmGvoDwl_",
        "outputId": "c6caa871-741b-407c-98df-d5d54667b11d"
      },
      "execution_count": 90,
      "outputs": [
        {
          "output_type": "execute_result",
          "data": {
            "text/plain": [
              "array(['album1', 'album2'], dtype=object)"
            ]
          },
          "metadata": {},
          "execution_count": 90
        }
      ]
    },
    {
      "cell_type": "code",
      "source": [
        "\n",
        "songs_dataframe[\"album\"] == \"album1\" #comparison of all values to string \"album1\""
      ],
      "metadata": {
        "colab": {
          "base_uri": "https://localhost:8080/"
        },
        "id": "7JNAklgVE4Rx",
        "outputId": "0b388236-a481-4861-fa2b-67247dbdd91b"
      },
      "execution_count": 91,
      "outputs": [
        {
          "output_type": "execute_result",
          "data": {
            "text/plain": [
              "0     True\n",
              "1    False\n",
              "Name: album, dtype: bool"
            ]
          },
          "metadata": {},
          "execution_count": 91
        }
      ]
    },
    {
      "cell_type": "code",
      "source": [
        "df=pd.DataFrame({'a':[1,2,1],'b':[1,1,1]})\n",
        "df"
      ],
      "metadata": {
        "colab": {
          "base_uri": "https://localhost:8080/",
          "height": 143
        },
        "id": "WIREavlNFpDl",
        "outputId": "db68da42-86a4-4dec-bdc9-b7c63d1954eb"
      },
      "execution_count": 93,
      "outputs": [
        {
          "output_type": "execute_result",
          "data": {
            "text/plain": [
              "   a  b\n",
              "0  1  1\n",
              "1  2  1\n",
              "2  1  1"
            ],
            "text/html": [
              "\n",
              "  <div id=\"df-5425b99d-0943-42c2-9612-a78ea792ba42\">\n",
              "    <div class=\"colab-df-container\">\n",
              "      <div>\n",
              "<style scoped>\n",
              "    .dataframe tbody tr th:only-of-type {\n",
              "        vertical-align: middle;\n",
              "    }\n",
              "\n",
              "    .dataframe tbody tr th {\n",
              "        vertical-align: top;\n",
              "    }\n",
              "\n",
              "    .dataframe thead th {\n",
              "        text-align: right;\n",
              "    }\n",
              "</style>\n",
              "<table border=\"1\" class=\"dataframe\">\n",
              "  <thead>\n",
              "    <tr style=\"text-align: right;\">\n",
              "      <th></th>\n",
              "      <th>a</th>\n",
              "      <th>b</th>\n",
              "    </tr>\n",
              "  </thead>\n",
              "  <tbody>\n",
              "    <tr>\n",
              "      <th>0</th>\n",
              "      <td>1</td>\n",
              "      <td>1</td>\n",
              "    </tr>\n",
              "    <tr>\n",
              "      <th>1</th>\n",
              "      <td>2</td>\n",
              "      <td>1</td>\n",
              "    </tr>\n",
              "    <tr>\n",
              "      <th>2</th>\n",
              "      <td>1</td>\n",
              "      <td>1</td>\n",
              "    </tr>\n",
              "  </tbody>\n",
              "</table>\n",
              "</div>\n",
              "      <button class=\"colab-df-convert\" onclick=\"convertToInteractive('df-5425b99d-0943-42c2-9612-a78ea792ba42')\"\n",
              "              title=\"Convert this dataframe to an interactive table.\"\n",
              "              style=\"display:none;\">\n",
              "        \n",
              "  <svg xmlns=\"http://www.w3.org/2000/svg\" height=\"24px\"viewBox=\"0 0 24 24\"\n",
              "       width=\"24px\">\n",
              "    <path d=\"M0 0h24v24H0V0z\" fill=\"none\"/>\n",
              "    <path d=\"M18.56 5.44l.94 2.06.94-2.06 2.06-.94-2.06-.94-.94-2.06-.94 2.06-2.06.94zm-11 1L8.5 8.5l.94-2.06 2.06-.94-2.06-.94L8.5 2.5l-.94 2.06-2.06.94zm10 10l.94 2.06.94-2.06 2.06-.94-2.06-.94-.94-2.06-.94 2.06-2.06.94z\"/><path d=\"M17.41 7.96l-1.37-1.37c-.4-.4-.92-.59-1.43-.59-.52 0-1.04.2-1.43.59L10.3 9.45l-7.72 7.72c-.78.78-.78 2.05 0 2.83L4 21.41c.39.39.9.59 1.41.59.51 0 1.02-.2 1.41-.59l7.78-7.78 2.81-2.81c.8-.78.8-2.07 0-2.86zM5.41 20L4 18.59l7.72-7.72 1.47 1.35L5.41 20z\"/>\n",
              "  </svg>\n",
              "      </button>\n",
              "      \n",
              "  <style>\n",
              "    .colab-df-container {\n",
              "      display:flex;\n",
              "      flex-wrap:wrap;\n",
              "      gap: 12px;\n",
              "    }\n",
              "\n",
              "    .colab-df-convert {\n",
              "      background-color: #E8F0FE;\n",
              "      border: none;\n",
              "      border-radius: 50%;\n",
              "      cursor: pointer;\n",
              "      display: none;\n",
              "      fill: #1967D2;\n",
              "      height: 32px;\n",
              "      padding: 0 0 0 0;\n",
              "      width: 32px;\n",
              "    }\n",
              "\n",
              "    .colab-df-convert:hover {\n",
              "      background-color: #E2EBFA;\n",
              "      box-shadow: 0px 1px 2px rgba(60, 64, 67, 0.3), 0px 1px 3px 1px rgba(60, 64, 67, 0.15);\n",
              "      fill: #174EA6;\n",
              "    }\n",
              "\n",
              "    [theme=dark] .colab-df-convert {\n",
              "      background-color: #3B4455;\n",
              "      fill: #D2E3FC;\n",
              "    }\n",
              "\n",
              "    [theme=dark] .colab-df-convert:hover {\n",
              "      background-color: #434B5C;\n",
              "      box-shadow: 0px 1px 3px 1px rgba(0, 0, 0, 0.15);\n",
              "      filter: drop-shadow(0px 1px 2px rgba(0, 0, 0, 0.3));\n",
              "      fill: #FFFFFF;\n",
              "    }\n",
              "  </style>\n",
              "\n",
              "      <script>\n",
              "        const buttonEl =\n",
              "          document.querySelector('#df-5425b99d-0943-42c2-9612-a78ea792ba42 button.colab-df-convert');\n",
              "        buttonEl.style.display =\n",
              "          google.colab.kernel.accessAllowed ? 'block' : 'none';\n",
              "\n",
              "        async function convertToInteractive(key) {\n",
              "          const element = document.querySelector('#df-5425b99d-0943-42c2-9612-a78ea792ba42');\n",
              "          const dataTable =\n",
              "            await google.colab.kernel.invokeFunction('convertToInteractive',\n",
              "                                                     [key], {});\n",
              "          if (!dataTable) return;\n",
              "\n",
              "          const docLinkHtml = 'Like what you see? Visit the ' +\n",
              "            '<a target=\"_blank\" href=https://colab.research.google.com/notebooks/data_table.ipynb>data table notebook</a>'\n",
              "            + ' to learn more about interactive tables.';\n",
              "          element.innerHTML = '';\n",
              "          dataTable['output_type'] = 'display_data';\n",
              "          await google.colab.output.renderOutput(dataTable, element);\n",
              "          const docLink = document.createElement('div');\n",
              "          docLink.innerHTML = docLinkHtml;\n",
              "          element.appendChild(docLink);\n",
              "        }\n",
              "      </script>\n",
              "    </div>\n",
              "  </div>\n",
              "  "
            ]
          },
          "metadata": {},
          "execution_count": 93
        }
      ]
    },
    {
      "cell_type": "code",
      "source": [
        "df['a']==1 "
      ],
      "metadata": {
        "colab": {
          "base_uri": "https://localhost:8080/"
        },
        "id": "e2GSk1m1Fu6X",
        "outputId": "4c7a6fb5-2baf-49f5-d1b5-62cfc2b725df"
      },
      "execution_count": 94,
      "outputs": [
        {
          "output_type": "execute_result",
          "data": {
            "text/plain": [
              "0     True\n",
              "1    False\n",
              "2     True\n",
              "Name: a, dtype: bool"
            ]
          },
          "metadata": {},
          "execution_count": 94
        }
      ]
    }
  ]
}