{
  "nbformat": 4,
  "nbformat_minor": 0,
  "metadata": {
    "colab": {
      "provenance": [],
      "collapsed_sections": [],
      "authorship_tag": "ABX9TyOY8wwM1YNU1Aa38zVKJk7Y",
      "include_colab_link": true
    },
    "kernelspec": {
      "name": "python3",
      "display_name": "Python 3"
    },
    "language_info": {
      "name": "python"
    }
  },
  "cells": [
    {
      "cell_type": "markdown",
      "metadata": {
        "id": "view-in-github",
        "colab_type": "text"
      },
      "source": [
        "<a href=\"https://colab.research.google.com/github/PosgradoMNA/actividades-de-aprendizaje-joseovalle_A01150742/blob/main/Python_for_Data_Science_4.ipynb\" target=\"_parent\"><img src=\"https://colab.research.google.com/assets/colab-badge.svg\" alt=\"Open In Colab\"/></a>"
      ]
    },
    {
      "cell_type": "markdown",
      "source": [
        "<b>Alumno: José Ovalle Alvarado\n",
        "Matrícula: A01150742\n",
        "Actividad: semana 2 - Módulo 4"
      ],
      "metadata": {
        "id": "X8fl5lZEaKeg"
      }
    },
    {
      "cell_type": "markdown",
      "source": [
        "<b> Module 4 - Working with Data in Python"
      ],
      "metadata": {
        "id": "-3Clz6Lgabtm"
      }
    },
    {
      "cell_type": "markdown",
      "source": [
        "Reading Files with open statement"
      ],
      "metadata": {
        "id": "0p9F2d-Grjxe"
      }
    },
    {
      "cell_type": "code",
      "execution_count": 36,
      "metadata": {
        "id": "ZGxXtyUhTDkW"
      },
      "outputs": [],
      "source": [
        "# Goals\n",
        "\n",
        "# Reading files with open\n",
        "# Writing files with open\n",
        "# Loading data with Pndas\n",
        "# Working with Data and Saving Data with Pandas"
      ]
    },
    {
      "cell_type": "code",
      "source": [
        "# File1 = open(\"/resources/data/Example2.txt\",\"w\")\n",
        "\n",
        "# r = read\n",
        "# w = write\n",
        "# .mode, this methods will prin the permissions on the object\n",
        "# example File1.mode will print \"w\" if it has writing permissions, if it has reading permissions it will print \"r\"\n",
        "# .close() this method will close the object \"File1\" in this case"
      ],
      "metadata": {
        "id": "X7ODNZB0a3jl"
      },
      "execution_count": 37,
      "outputs": []
    },
    {
      "cell_type": "code",
      "source": [
        "# different method was required to open a file from collab\n",
        "\n",
        "from google.colab import files\n",
        "uploaded = files.upload()"
      ],
      "metadata": {
        "colab": {
          "base_uri": "https://localhost:8080/",
          "height": 74
        },
        "id": "z9WDz9Wsgknn",
        "outputId": "906dbc84-68f7-44b8-8c56-2a44f990ffdf"
      },
      "execution_count": 38,
      "outputs": [
        {
          "output_type": "display_data",
          "data": {
            "text/plain": [
              "<IPython.core.display.HTML object>"
            ],
            "text/html": [
              "\n",
              "     <input type=\"file\" id=\"files-1c3e7dff-994e-4cb3-afc7-ef503cdcacc3\" name=\"files[]\" multiple disabled\n",
              "        style=\"border:none\" />\n",
              "     <output id=\"result-1c3e7dff-994e-4cb3-afc7-ef503cdcacc3\">\n",
              "      Upload widget is only available when the cell has been executed in the\n",
              "      current browser session. Please rerun this cell to enable.\n",
              "      </output>\n",
              "      <script>// Copyright 2017 Google LLC\n",
              "//\n",
              "// Licensed under the Apache License, Version 2.0 (the \"License\");\n",
              "// you may not use this file except in compliance with the License.\n",
              "// You may obtain a copy of the License at\n",
              "//\n",
              "//      http://www.apache.org/licenses/LICENSE-2.0\n",
              "//\n",
              "// Unless required by applicable law or agreed to in writing, software\n",
              "// distributed under the License is distributed on an \"AS IS\" BASIS,\n",
              "// WITHOUT WARRANTIES OR CONDITIONS OF ANY KIND, either express or implied.\n",
              "// See the License for the specific language governing permissions and\n",
              "// limitations under the License.\n",
              "\n",
              "/**\n",
              " * @fileoverview Helpers for google.colab Python module.\n",
              " */\n",
              "(function(scope) {\n",
              "function span(text, styleAttributes = {}) {\n",
              "  const element = document.createElement('span');\n",
              "  element.textContent = text;\n",
              "  for (const key of Object.keys(styleAttributes)) {\n",
              "    element.style[key] = styleAttributes[key];\n",
              "  }\n",
              "  return element;\n",
              "}\n",
              "\n",
              "// Max number of bytes which will be uploaded at a time.\n",
              "const MAX_PAYLOAD_SIZE = 100 * 1024;\n",
              "\n",
              "function _uploadFiles(inputId, outputId) {\n",
              "  const steps = uploadFilesStep(inputId, outputId);\n",
              "  const outputElement = document.getElementById(outputId);\n",
              "  // Cache steps on the outputElement to make it available for the next call\n",
              "  // to uploadFilesContinue from Python.\n",
              "  outputElement.steps = steps;\n",
              "\n",
              "  return _uploadFilesContinue(outputId);\n",
              "}\n",
              "\n",
              "// This is roughly an async generator (not supported in the browser yet),\n",
              "// where there are multiple asynchronous steps and the Python side is going\n",
              "// to poll for completion of each step.\n",
              "// This uses a Promise to block the python side on completion of each step,\n",
              "// then passes the result of the previous step as the input to the next step.\n",
              "function _uploadFilesContinue(outputId) {\n",
              "  const outputElement = document.getElementById(outputId);\n",
              "  const steps = outputElement.steps;\n",
              "\n",
              "  const next = steps.next(outputElement.lastPromiseValue);\n",
              "  return Promise.resolve(next.value.promise).then((value) => {\n",
              "    // Cache the last promise value to make it available to the next\n",
              "    // step of the generator.\n",
              "    outputElement.lastPromiseValue = value;\n",
              "    return next.value.response;\n",
              "  });\n",
              "}\n",
              "\n",
              "/**\n",
              " * Generator function which is called between each async step of the upload\n",
              " * process.\n",
              " * @param {string} inputId Element ID of the input file picker element.\n",
              " * @param {string} outputId Element ID of the output display.\n",
              " * @return {!Iterable<!Object>} Iterable of next steps.\n",
              " */\n",
              "function* uploadFilesStep(inputId, outputId) {\n",
              "  const inputElement = document.getElementById(inputId);\n",
              "  inputElement.disabled = false;\n",
              "\n",
              "  const outputElement = document.getElementById(outputId);\n",
              "  outputElement.innerHTML = '';\n",
              "\n",
              "  const pickedPromise = new Promise((resolve) => {\n",
              "    inputElement.addEventListener('change', (e) => {\n",
              "      resolve(e.target.files);\n",
              "    });\n",
              "  });\n",
              "\n",
              "  const cancel = document.createElement('button');\n",
              "  inputElement.parentElement.appendChild(cancel);\n",
              "  cancel.textContent = 'Cancel upload';\n",
              "  const cancelPromise = new Promise((resolve) => {\n",
              "    cancel.onclick = () => {\n",
              "      resolve(null);\n",
              "    };\n",
              "  });\n",
              "\n",
              "  // Wait for the user to pick the files.\n",
              "  const files = yield {\n",
              "    promise: Promise.race([pickedPromise, cancelPromise]),\n",
              "    response: {\n",
              "      action: 'starting',\n",
              "    }\n",
              "  };\n",
              "\n",
              "  cancel.remove();\n",
              "\n",
              "  // Disable the input element since further picks are not allowed.\n",
              "  inputElement.disabled = true;\n",
              "\n",
              "  if (!files) {\n",
              "    return {\n",
              "      response: {\n",
              "        action: 'complete',\n",
              "      }\n",
              "    };\n",
              "  }\n",
              "\n",
              "  for (const file of files) {\n",
              "    const li = document.createElement('li');\n",
              "    li.append(span(file.name, {fontWeight: 'bold'}));\n",
              "    li.append(span(\n",
              "        `(${file.type || 'n/a'}) - ${file.size} bytes, ` +\n",
              "        `last modified: ${\n",
              "            file.lastModifiedDate ? file.lastModifiedDate.toLocaleDateString() :\n",
              "                                    'n/a'} - `));\n",
              "    const percent = span('0% done');\n",
              "    li.appendChild(percent);\n",
              "\n",
              "    outputElement.appendChild(li);\n",
              "\n",
              "    const fileDataPromise = new Promise((resolve) => {\n",
              "      const reader = new FileReader();\n",
              "      reader.onload = (e) => {\n",
              "        resolve(e.target.result);\n",
              "      };\n",
              "      reader.readAsArrayBuffer(file);\n",
              "    });\n",
              "    // Wait for the data to be ready.\n",
              "    let fileData = yield {\n",
              "      promise: fileDataPromise,\n",
              "      response: {\n",
              "        action: 'continue',\n",
              "      }\n",
              "    };\n",
              "\n",
              "    // Use a chunked sending to avoid message size limits. See b/62115660.\n",
              "    let position = 0;\n",
              "    do {\n",
              "      const length = Math.min(fileData.byteLength - position, MAX_PAYLOAD_SIZE);\n",
              "      const chunk = new Uint8Array(fileData, position, length);\n",
              "      position += length;\n",
              "\n",
              "      const base64 = btoa(String.fromCharCode.apply(null, chunk));\n",
              "      yield {\n",
              "        response: {\n",
              "          action: 'append',\n",
              "          file: file.name,\n",
              "          data: base64,\n",
              "        },\n",
              "      };\n",
              "\n",
              "      let percentDone = fileData.byteLength === 0 ?\n",
              "          100 :\n",
              "          Math.round((position / fileData.byteLength) * 100);\n",
              "      percent.textContent = `${percentDone}% done`;\n",
              "\n",
              "    } while (position < fileData.byteLength);\n",
              "  }\n",
              "\n",
              "  // All done.\n",
              "  yield {\n",
              "    response: {\n",
              "      action: 'complete',\n",
              "    }\n",
              "  };\n",
              "}\n",
              "\n",
              "scope.google = scope.google || {};\n",
              "scope.google.colab = scope.google.colab || {};\n",
              "scope.google.colab._files = {\n",
              "  _uploadFiles,\n",
              "  _uploadFilesContinue,\n",
              "};\n",
              "})(self);\n",
              "</script> "
            ]
          },
          "metadata": {}
        },
        {
          "output_type": "stream",
          "name": "stdout",
          "text": [
            "Saving ex4.csv to ex4 (1).csv\n"
          ]
        }
      ]
    },
    {
      "cell_type": "code",
      "source": [
        "example = \"ex4.csv\"\n",
        "myfile = open(example, \"r\")\n",
        "myfile"
      ],
      "metadata": {
        "colab": {
          "base_uri": "https://localhost:8080/"
        },
        "id": "XPvU-Utamc2Z",
        "outputId": "e4d5d8e4-64c7-448d-b6a0-4262a98720ca"
      },
      "execution_count": 39,
      "outputs": [
        {
          "output_type": "execute_result",
          "data": {
            "text/plain": [
              "<_io.TextIOWrapper name='ex4.csv' mode='r' encoding='UTF-8'>"
            ]
          },
          "metadata": {},
          "execution_count": 39
        }
      ]
    },
    {
      "cell_type": "code",
      "source": [
        "# print the path of file\n",
        "myfile.name"
      ],
      "metadata": {
        "colab": {
          "base_uri": "https://localhost:8080/",
          "height": 36
        },
        "id": "YEVZy_1Tmpxv",
        "outputId": "ce1e2fac-fd5b-43f9-c675-abc4ad97c33f"
      },
      "execution_count": 40,
      "outputs": [
        {
          "output_type": "execute_result",
          "data": {
            "text/plain": [
              "'ex4.csv'"
            ],
            "application/vnd.google.colaboratory.intrinsic+json": {
              "type": "string"
            }
          },
          "metadata": {},
          "execution_count": 40
        }
      ]
    },
    {
      "cell_type": "code",
      "source": [
        "# print the mode of file, r or w\n",
        "myfile.mode"
      ],
      "metadata": {
        "colab": {
          "base_uri": "https://localhost:8080/",
          "height": 36
        },
        "id": "gdZxmPnwmtCy",
        "outputId": "5295fcd7-d384-4785-c7c2-226a3531752c"
      },
      "execution_count": 41,
      "outputs": [
        {
          "output_type": "execute_result",
          "data": {
            "text/plain": [
              "'r'"
            ],
            "application/vnd.google.colaboratory.intrinsic+json": {
              "type": "string"
            }
          },
          "metadata": {},
          "execution_count": 41
        }
      ]
    },
    {
      "cell_type": "code",
      "source": [
        "# read the file \n",
        "# read() method displays the content within this file\n",
        "myfilecontent = myfile.read()\n",
        "myfilecontent"
      ],
      "metadata": {
        "colab": {
          "base_uri": "https://localhost:8080/",
          "height": 105
        },
        "id": "G-SF4SZcnlB_",
        "outputId": "b2fe49f5-6b44-4dc1-c0c2-f191548d3f55"
      },
      "execution_count": 42,
      "outputs": [
        {
          "output_type": "execute_result",
          "data": {
            "text/plain": [
              "'Day,ONE_DAY_PRECIPITATION\\n2020-06-01 0:00:00,1\\n2020-06-02 0:00:00,5.6\\n2020-06-03 0:00:00,4.1\\n2020-06-04 0:00:00,4\\n2020-06-05 0:00:00,6.2\\n2020-06-06 0:00:00,4\\n2020-06-07 0:00:00,3.4\\n2020-06-08 0:00:00,6\\n2020-06-09 0:00:00,7.8\\n2020-06-10 0:00:00,8\\n2020-06-11 0:00:00,9\\n2020-06-12 0:00:00,3\\n2020-06-13 0:00:00,5.9\\n2020-06-14 0:00:00,1.4\\n2020-06-15 0:00:00,1.6\\n2020-06-16 0:00:00,1.8\\n2020-06-17 0:00:00,1.9\\n2020-06-18 0:00:00,3.4\\n2020-06-19 0:00:00,2.1\\n2020-06-20 0:00:00,4.9\\n2020-06-21 0:00:00,2.3\\n2020-06-22 0:00:00,9.1\\n2020-06-23 0:00:00,5.3\\n2020-06-24 0:00:00,4\\n2020-06-25 0:00:00,6\\n2020-06-26 0:00:00,7.6\\n2020-06-27 0:00:00,9.9\\n2020-06-28 0:00:00,3\\n2020-06-29 0:00:00,2.2\\n2020-06-30 0:00:00,5.4\\n2020-07-01 0:00:00,0.8'"
            ],
            "application/vnd.google.colaboratory.intrinsic+json": {
              "type": "string"
            }
          },
          "metadata": {},
          "execution_count": 42
        }
      ]
    },
    {
      "cell_type": "code",
      "source": [
        "# Print the file with '\\n' as a new line\n",
        "# Print seems to do the trick already\n",
        "print(myfilecontent)"
      ],
      "metadata": {
        "colab": {
          "base_uri": "https://localhost:8080/"
        },
        "id": "6inI1AP7oGth",
        "outputId": "77f2eb05-8e40-4865-8f8c-c3fdd6654ffd"
      },
      "execution_count": 43,
      "outputs": [
        {
          "output_type": "stream",
          "name": "stdout",
          "text": [
            "Day,ONE_DAY_PRECIPITATION\n",
            "2020-06-01 0:00:00,1\n",
            "2020-06-02 0:00:00,5.6\n",
            "2020-06-03 0:00:00,4.1\n",
            "2020-06-04 0:00:00,4\n",
            "2020-06-05 0:00:00,6.2\n",
            "2020-06-06 0:00:00,4\n",
            "2020-06-07 0:00:00,3.4\n",
            "2020-06-08 0:00:00,6\n",
            "2020-06-09 0:00:00,7.8\n",
            "2020-06-10 0:00:00,8\n",
            "2020-06-11 0:00:00,9\n",
            "2020-06-12 0:00:00,3\n",
            "2020-06-13 0:00:00,5.9\n",
            "2020-06-14 0:00:00,1.4\n",
            "2020-06-15 0:00:00,1.6\n",
            "2020-06-16 0:00:00,1.8\n",
            "2020-06-17 0:00:00,1.9\n",
            "2020-06-18 0:00:00,3.4\n",
            "2020-06-19 0:00:00,2.1\n",
            "2020-06-20 0:00:00,4.9\n",
            "2020-06-21 0:00:00,2.3\n",
            "2020-06-22 0:00:00,9.1\n",
            "2020-06-23 0:00:00,5.3\n",
            "2020-06-24 0:00:00,4\n",
            "2020-06-25 0:00:00,6\n",
            "2020-06-26 0:00:00,7.6\n",
            "2020-06-27 0:00:00,9.9\n",
            "2020-06-28 0:00:00,3\n",
            "2020-06-29 0:00:00,2.2\n",
            "2020-06-30 0:00:00,5.4\n",
            "2020-07-01 0:00:00,0.8\n"
          ]
        }
      ]
    },
    {
      "cell_type": "code",
      "source": [
        "# Type of file content\n",
        "type(myfilecontent)"
      ],
      "metadata": {
        "colab": {
          "base_uri": "https://localhost:8080/"
        },
        "id": "leQtxymLoS3C",
        "outputId": "d7e50227-42d9-4606-9db1-3cce33f9a8ec"
      },
      "execution_count": 44,
      "outputs": [
        {
          "output_type": "execute_result",
          "data": {
            "text/plain": [
              "str"
            ]
          },
          "metadata": {},
          "execution_count": 44
        }
      ]
    },
    {
      "cell_type": "code",
      "source": [
        "# Close file after finish\n",
        "myfile.close()"
      ],
      "metadata": {
        "id": "BIMnqQxAoXPe"
      },
      "execution_count": 45,
      "outputs": []
    },
    {
      "cell_type": "code",
      "source": [
        "# BETTER WAY TO OPEN A FILE"
      ],
      "metadata": {
        "id": "ilWCSKD2ocqf"
      },
      "execution_count": null,
      "outputs": []
    },
    {
      "cell_type": "code",
      "source": [
        "# Open file using with prrocess\n",
        "\n",
        "# with process closes the object after running the code\n",
        "\n",
        "# Using with statement is better practice, it automatically closes the file even if the code encounters an exception.\n",
        "# The code will run everything in the indent block then close the file object.\n",
        "\n",
        "with open(example, \"r\") as myfileagain:\n",
        "    myfilecontentagain = myfileagain.read()\n",
        "    print(myfilecontentagain)"
      ],
      "metadata": {
        "colab": {
          "base_uri": "https://localhost:8080/"
        },
        "id": "Lne35T-nok_w",
        "outputId": "b4fa3864-df1e-4d83-fb9b-8de8098323f4"
      },
      "execution_count": 46,
      "outputs": [
        {
          "output_type": "stream",
          "name": "stdout",
          "text": [
            "Day,ONE_DAY_PRECIPITATION\n",
            "2020-06-01 0:00:00,1\n",
            "2020-06-02 0:00:00,5.6\n",
            "2020-06-03 0:00:00,4.1\n",
            "2020-06-04 0:00:00,4\n",
            "2020-06-05 0:00:00,6.2\n",
            "2020-06-06 0:00:00,4\n",
            "2020-06-07 0:00:00,3.4\n",
            "2020-06-08 0:00:00,6\n",
            "2020-06-09 0:00:00,7.8\n",
            "2020-06-10 0:00:00,8\n",
            "2020-06-11 0:00:00,9\n",
            "2020-06-12 0:00:00,3\n",
            "2020-06-13 0:00:00,5.9\n",
            "2020-06-14 0:00:00,1.4\n",
            "2020-06-15 0:00:00,1.6\n",
            "2020-06-16 0:00:00,1.8\n",
            "2020-06-17 0:00:00,1.9\n",
            "2020-06-18 0:00:00,3.4\n",
            "2020-06-19 0:00:00,2.1\n",
            "2020-06-20 0:00:00,4.9\n",
            "2020-06-21 0:00:00,2.3\n",
            "2020-06-22 0:00:00,9.1\n",
            "2020-06-23 0:00:00,5.3\n",
            "2020-06-24 0:00:00,4\n",
            "2020-06-25 0:00:00,6\n",
            "2020-06-26 0:00:00,7.6\n",
            "2020-06-27 0:00:00,9.9\n",
            "2020-06-28 0:00:00,3\n",
            "2020-06-29 0:00:00,2.2\n",
            "2020-06-30 0:00:00,5.4\n",
            "2020-07-01 0:00:00,0.8\n"
          ]
        }
      ]
    },
    {
      "cell_type": "code",
      "source": [
        "# Verify if the file is closed\n",
        "myfileagain.closed"
      ],
      "metadata": {
        "colab": {
          "base_uri": "https://localhost:8080/"
        },
        "id": "JRXEQCvgo29X",
        "outputId": "ece1bfc6-fbac-41c7-d13d-5a8ce7ca5cbd"
      },
      "execution_count": 47,
      "outputs": [
        {
          "output_type": "execute_result",
          "data": {
            "text/plain": [
              "True"
            ]
          },
          "metadata": {},
          "execution_count": 47
        }
      ]
    },
    {
      "cell_type": "code",
      "source": [
        "# See the content of the file\n",
        "print(myfilecontentagain)"
      ],
      "metadata": {
        "colab": {
          "base_uri": "https://localhost:8080/"
        },
        "id": "X0UVZskxpOdj",
        "outputId": "0be81a26-2476-4b4a-a525-c7d61f13b0c6"
      },
      "execution_count": 49,
      "outputs": [
        {
          "output_type": "stream",
          "name": "stdout",
          "text": [
            "Day,ONE_DAY_PRECIPITATION\n",
            "2020-06-01 0:00:00,1\n",
            "2020-06-02 0:00:00,5.6\n",
            "2020-06-03 0:00:00,4.1\n",
            "2020-06-04 0:00:00,4\n",
            "2020-06-05 0:00:00,6.2\n",
            "2020-06-06 0:00:00,4\n",
            "2020-06-07 0:00:00,3.4\n",
            "2020-06-08 0:00:00,6\n",
            "2020-06-09 0:00:00,7.8\n",
            "2020-06-10 0:00:00,8\n",
            "2020-06-11 0:00:00,9\n",
            "2020-06-12 0:00:00,3\n",
            "2020-06-13 0:00:00,5.9\n",
            "2020-06-14 0:00:00,1.4\n",
            "2020-06-15 0:00:00,1.6\n",
            "2020-06-16 0:00:00,1.8\n",
            "2020-06-17 0:00:00,1.9\n",
            "2020-06-18 0:00:00,3.4\n",
            "2020-06-19 0:00:00,2.1\n",
            "2020-06-20 0:00:00,4.9\n",
            "2020-06-21 0:00:00,2.3\n",
            "2020-06-22 0:00:00,9.1\n",
            "2020-06-23 0:00:00,5.3\n",
            "2020-06-24 0:00:00,4\n",
            "2020-06-25 0:00:00,6\n",
            "2020-06-26 0:00:00,7.6\n",
            "2020-06-27 0:00:00,9.9\n",
            "2020-06-28 0:00:00,3\n",
            "2020-06-29 0:00:00,2.2\n",
            "2020-06-30 0:00:00,5.4\n",
            "2020-07-01 0:00:00,0.8\n"
          ]
        }
      ]
    },
    {
      "cell_type": "code",
      "source": [
        "# Read specifically four characters\n",
        "with open(example, \"r\") as myfileagain:\n",
        "    print(myfileagain.read(4))"
      ],
      "metadata": {
        "colab": {
          "base_uri": "https://localhost:8080/"
        },
        "id": "PFeBHPQOpQcE",
        "outputId": "4c664d44-9ee6-4879-dcc5-02eb0bca05dd"
      },
      "execution_count": 51,
      "outputs": [
        {
          "output_type": "stream",
          "name": "stdout",
          "text": [
            "Day,\n"
          ]
        }
      ]
    },
    {
      "cell_type": "code",
      "source": [
        "# Read certain amount of character multiple times\n",
        "with open(example, \"r\") as myfileagain:\n",
        "    print(myfileagain.read(16))\n",
        "    print(myfileagain.read(5))\n",
        "    print(myfileagain.read(9))"
      ],
      "metadata": {
        "colab": {
          "base_uri": "https://localhost:8080/"
        },
        "id": "hMsnOgsWpuTy",
        "outputId": "60c9e39c-3b58-4de3-b086-4625129f1e26"
      },
      "execution_count": 52,
      "outputs": [
        {
          "output_type": "stream",
          "name": "stdout",
          "text": [
            "Day,ONE_DAY_PREC\n",
            "IPITA\n",
            "TION\n",
            "2020\n"
          ]
        }
      ]
    },
    {
      "cell_type": "code",
      "source": [
        "# Iterate through the lines\n",
        "\n",
        "with open(example,\"r\") as file:\n",
        "        i = 0;\n",
        "        for line in file:\n",
        "            print(\"Iteración\", str(i), \": \", line)  #convert each line to string\n",
        "            i = i + 1"
      ],
      "metadata": {
        "colab": {
          "base_uri": "https://localhost:8080/"
        },
        "id": "9aayQXPyp6Z4",
        "outputId": "d96f7be6-5f41-40de-8116-9e9b9a0f7400"
      },
      "execution_count": 54,
      "outputs": [
        {
          "output_type": "stream",
          "name": "stdout",
          "text": [
            "Iteración 0 :  Day,ONE_DAY_PRECIPITATION\n",
            "\n",
            "Iteración 1 :  2020-06-01 0:00:00,1\n",
            "\n",
            "Iteración 2 :  2020-06-02 0:00:00,5.6\n",
            "\n",
            "Iteración 3 :  2020-06-03 0:00:00,4.1\n",
            "\n",
            "Iteración 4 :  2020-06-04 0:00:00,4\n",
            "\n",
            "Iteración 5 :  2020-06-05 0:00:00,6.2\n",
            "\n",
            "Iteración 6 :  2020-06-06 0:00:00,4\n",
            "\n",
            "Iteración 7 :  2020-06-07 0:00:00,3.4\n",
            "\n",
            "Iteración 8 :  2020-06-08 0:00:00,6\n",
            "\n",
            "Iteración 9 :  2020-06-09 0:00:00,7.8\n",
            "\n",
            "Iteración 10 :  2020-06-10 0:00:00,8\n",
            "\n",
            "Iteración 11 :  2020-06-11 0:00:00,9\n",
            "\n",
            "Iteración 12 :  2020-06-12 0:00:00,3\n",
            "\n",
            "Iteración 13 :  2020-06-13 0:00:00,5.9\n",
            "\n",
            "Iteración 14 :  2020-06-14 0:00:00,1.4\n",
            "\n",
            "Iteración 15 :  2020-06-15 0:00:00,1.6\n",
            "\n",
            "Iteración 16 :  2020-06-16 0:00:00,1.8\n",
            "\n",
            "Iteración 17 :  2020-06-17 0:00:00,1.9\n",
            "\n",
            "Iteración 18 :  2020-06-18 0:00:00,3.4\n",
            "\n",
            "Iteración 19 :  2020-06-19 0:00:00,2.1\n",
            "\n",
            "Iteración 20 :  2020-06-20 0:00:00,4.9\n",
            "\n",
            "Iteración 21 :  2020-06-21 0:00:00,2.3\n",
            "\n",
            "Iteración 22 :  2020-06-22 0:00:00,9.1\n",
            "\n",
            "Iteración 23 :  2020-06-23 0:00:00,5.3\n",
            "\n",
            "Iteración 24 :  2020-06-24 0:00:00,4\n",
            "\n",
            "Iteración 25 :  2020-06-25 0:00:00,6\n",
            "\n",
            "Iteración 26 :  2020-06-26 0:00:00,7.6\n",
            "\n",
            "Iteración 27 :  2020-06-27 0:00:00,9.9\n",
            "\n",
            "Iteración 28 :  2020-06-28 0:00:00,3\n",
            "\n",
            "Iteración 29 :  2020-06-29 0:00:00,2.2\n",
            "\n",
            "Iteración 30 :  2020-06-30 0:00:00,5.4\n",
            "\n",
            "Iteración 31 :  2020-07-01 0:00:00,0.8\n"
          ]
        }
      ]
    },
    {
      "cell_type": "code",
      "source": [
        "# Read all lines and save as a list\n",
        "\n",
        "with open(example, \"r\") as file:\n",
        "    FileasList = file.readlines()\n",
        "\n",
        "FileasList   #this method converted all line elements into elements of a list "
      ],
      "metadata": {
        "colab": {
          "base_uri": "https://localhost:8080/"
        },
        "id": "An1jke2IrFEK",
        "outputId": "1cfbe211-bac0-4dda-e027-9566318a82b7"
      },
      "execution_count": 59,
      "outputs": [
        {
          "output_type": "execute_result",
          "data": {
            "text/plain": [
              "['Day,ONE_DAY_PRECIPITATION\\n',\n",
              " '2020-06-01 0:00:00,1\\n',\n",
              " '2020-06-02 0:00:00,5.6\\n',\n",
              " '2020-06-03 0:00:00,4.1\\n',\n",
              " '2020-06-04 0:00:00,4\\n',\n",
              " '2020-06-05 0:00:00,6.2\\n',\n",
              " '2020-06-06 0:00:00,4\\n',\n",
              " '2020-06-07 0:00:00,3.4\\n',\n",
              " '2020-06-08 0:00:00,6\\n',\n",
              " '2020-06-09 0:00:00,7.8\\n',\n",
              " '2020-06-10 0:00:00,8\\n',\n",
              " '2020-06-11 0:00:00,9\\n',\n",
              " '2020-06-12 0:00:00,3\\n',\n",
              " '2020-06-13 0:00:00,5.9\\n',\n",
              " '2020-06-14 0:00:00,1.4\\n',\n",
              " '2020-06-15 0:00:00,1.6\\n',\n",
              " '2020-06-16 0:00:00,1.8\\n',\n",
              " '2020-06-17 0:00:00,1.9\\n',\n",
              " '2020-06-18 0:00:00,3.4\\n',\n",
              " '2020-06-19 0:00:00,2.1\\n',\n",
              " '2020-06-20 0:00:00,4.9\\n',\n",
              " '2020-06-21 0:00:00,2.3\\n',\n",
              " '2020-06-22 0:00:00,9.1\\n',\n",
              " '2020-06-23 0:00:00,5.3\\n',\n",
              " '2020-06-24 0:00:00,4\\n',\n",
              " '2020-06-25 0:00:00,6\\n',\n",
              " '2020-06-26 0:00:00,7.6\\n',\n",
              " '2020-06-27 0:00:00,9.9\\n',\n",
              " '2020-06-28 0:00:00,3\\n',\n",
              " '2020-06-29 0:00:00,2.2\\n',\n",
              " '2020-06-30 0:00:00,5.4\\n',\n",
              " '2020-07-01 0:00:00,0.8']"
            ]
          },
          "metadata": {},
          "execution_count": 59
        }
      ]
    },
    {
      "cell_type": "code",
      "source": [
        "len(FileasList)"
      ],
      "metadata": {
        "colab": {
          "base_uri": "https://localhost:8080/"
        },
        "id": "WZFECw2ZrVRN",
        "outputId": "966ce4be-4da5-4946-8328-6fa6c2d68c1a"
      },
      "execution_count": 60,
      "outputs": [
        {
          "output_type": "execute_result",
          "data": {
            "text/plain": [
              "32"
            ]
          },
          "metadata": {},
          "execution_count": 60
        }
      ]
    },
    {
      "cell_type": "code",
      "source": [
        "# calling the 31th element of the list\n",
        "len(FileasList[31])"
      ],
      "metadata": {
        "colab": {
          "base_uri": "https://localhost:8080/"
        },
        "id": "RUNta60rrYG2",
        "outputId": "6ac10219-1c0d-4132-8411-6a7da18591b6"
      },
      "execution_count": 61,
      "outputs": [
        {
          "output_type": "execute_result",
          "data": {
            "text/plain": [
              "22"
            ]
          },
          "metadata": {},
          "execution_count": 61
        }
      ]
    },
    {
      "cell_type": "code",
      "source": [],
      "metadata": {
        "id": "qPOiTtoTreRz"
      },
      "execution_count": null,
      "outputs": []
    }
  ]
}