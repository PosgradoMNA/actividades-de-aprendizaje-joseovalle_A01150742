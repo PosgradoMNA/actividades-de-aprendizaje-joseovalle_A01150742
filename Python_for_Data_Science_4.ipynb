{
  "nbformat": 4,
  "nbformat_minor": 0,
  "metadata": {
    "colab": {
      "provenance": [],
      "collapsed_sections": [],
      "authorship_tag": "ABX9TyNL2/jHBmrwjSF2vvlkryyg",
      "include_colab_link": true
    },
    "kernelspec": {
      "name": "python3",
      "display_name": "Python 3"
    },
    "language_info": {
      "name": "python"
    }
  },
  "cells": [
    {
      "cell_type": "markdown",
      "metadata": {
        "id": "view-in-github",
        "colab_type": "text"
      },
      "source": [
        "<a href=\"https://colab.research.google.com/github/PosgradoMNA/actividades-de-aprendizaje-joseovalle_A01150742/blob/main/Python_for_Data_Science_4.ipynb\" target=\"_parent\"><img src=\"https://colab.research.google.com/assets/colab-badge.svg\" alt=\"Open In Colab\"/></a>"
      ]
    },
    {
      "cell_type": "markdown",
      "source": [
        "<b>Alumno: José Ovalle Alvarado\n",
        "Matrícula: A01150742\n",
        "Actividad: semana 2 - Módulo 4"
      ],
      "metadata": {
        "id": "X8fl5lZEaKeg"
      }
    },
    {
      "cell_type": "markdown",
      "source": [
        "<b> Module 4 - Working with Data in Python"
      ],
      "metadata": {
        "id": "-3Clz6Lgabtm"
      }
    },
    {
      "cell_type": "markdown",
      "source": [
        "Reading Files with open statement"
      ],
      "metadata": {
        "id": "0p9F2d-Grjxe"
      }
    },
    {
      "cell_type": "code",
      "execution_count": 21,
      "metadata": {
        "id": "ZGxXtyUhTDkW"
      },
      "outputs": [],
      "source": [
        "# Goals\n",
        "\n",
        "# Reading files with open\n",
        "# Writing files with open\n",
        "# Loading data with Pndas\n",
        "# Working with Data and Saving Data with Pandas"
      ]
    },
    {
      "cell_type": "code",
      "source": [
        "# File1 = open(\"/resources/data/Example2.txt\",\"w\")\n",
        "\n",
        "# r = read\n",
        "# w = write\n",
        "# .mode, this methods will prin the permissions on the object\n",
        "# example File1.mode will print \"w\" if it has writing permissions, if it has reading permissions it will print \"r\"\n",
        "# .close() this method will close the object \"File1\" in this case"
      ],
      "metadata": {
        "id": "X7ODNZB0a3jl"
      },
      "execution_count": 22,
      "outputs": []
    },
    {
      "cell_type": "code",
      "source": [
        "# different method was required to open a file from collab\n",
        "\n",
        "from google.colab import files\n",
        "uploaded = files.upload()"
      ],
      "metadata": {
        "colab": {
          "base_uri": "https://localhost:8080/",
          "height": 74
        },
        "id": "z9WDz9Wsgknn",
        "outputId": "556a905b-d188-4c08-d913-3fdd9ddc67af"
      },
      "execution_count": 23,
      "outputs": [
        {
          "output_type": "display_data",
          "data": {
            "text/plain": [
              "<IPython.core.display.HTML object>"
            ],
            "text/html": [
              "\n",
              "     <input type=\"file\" id=\"files-49e6b71b-ed72-4872-95e6-3c3092150495\" name=\"files[]\" multiple disabled\n",
              "        style=\"border:none\" />\n",
              "     <output id=\"result-49e6b71b-ed72-4872-95e6-3c3092150495\">\n",
              "      Upload widget is only available when the cell has been executed in the\n",
              "      current browser session. Please rerun this cell to enable.\n",
              "      </output>\n",
              "      <script>// Copyright 2017 Google LLC\n",
              "//\n",
              "// Licensed under the Apache License, Version 2.0 (the \"License\");\n",
              "// you may not use this file except in compliance with the License.\n",
              "// You may obtain a copy of the License at\n",
              "//\n",
              "//      http://www.apache.org/licenses/LICENSE-2.0\n",
              "//\n",
              "// Unless required by applicable law or agreed to in writing, software\n",
              "// distributed under the License is distributed on an \"AS IS\" BASIS,\n",
              "// WITHOUT WARRANTIES OR CONDITIONS OF ANY KIND, either express or implied.\n",
              "// See the License for the specific language governing permissions and\n",
              "// limitations under the License.\n",
              "\n",
              "/**\n",
              " * @fileoverview Helpers for google.colab Python module.\n",
              " */\n",
              "(function(scope) {\n",
              "function span(text, styleAttributes = {}) {\n",
              "  const element = document.createElement('span');\n",
              "  element.textContent = text;\n",
              "  for (const key of Object.keys(styleAttributes)) {\n",
              "    element.style[key] = styleAttributes[key];\n",
              "  }\n",
              "  return element;\n",
              "}\n",
              "\n",
              "// Max number of bytes which will be uploaded at a time.\n",
              "const MAX_PAYLOAD_SIZE = 100 * 1024;\n",
              "\n",
              "function _uploadFiles(inputId, outputId) {\n",
              "  const steps = uploadFilesStep(inputId, outputId);\n",
              "  const outputElement = document.getElementById(outputId);\n",
              "  // Cache steps on the outputElement to make it available for the next call\n",
              "  // to uploadFilesContinue from Python.\n",
              "  outputElement.steps = steps;\n",
              "\n",
              "  return _uploadFilesContinue(outputId);\n",
              "}\n",
              "\n",
              "// This is roughly an async generator (not supported in the browser yet),\n",
              "// where there are multiple asynchronous steps and the Python side is going\n",
              "// to poll for completion of each step.\n",
              "// This uses a Promise to block the python side on completion of each step,\n",
              "// then passes the result of the previous step as the input to the next step.\n",
              "function _uploadFilesContinue(outputId) {\n",
              "  const outputElement = document.getElementById(outputId);\n",
              "  const steps = outputElement.steps;\n",
              "\n",
              "  const next = steps.next(outputElement.lastPromiseValue);\n",
              "  return Promise.resolve(next.value.promise).then((value) => {\n",
              "    // Cache the last promise value to make it available to the next\n",
              "    // step of the generator.\n",
              "    outputElement.lastPromiseValue = value;\n",
              "    return next.value.response;\n",
              "  });\n",
              "}\n",
              "\n",
              "/**\n",
              " * Generator function which is called between each async step of the upload\n",
              " * process.\n",
              " * @param {string} inputId Element ID of the input file picker element.\n",
              " * @param {string} outputId Element ID of the output display.\n",
              " * @return {!Iterable<!Object>} Iterable of next steps.\n",
              " */\n",
              "function* uploadFilesStep(inputId, outputId) {\n",
              "  const inputElement = document.getElementById(inputId);\n",
              "  inputElement.disabled = false;\n",
              "\n",
              "  const outputElement = document.getElementById(outputId);\n",
              "  outputElement.innerHTML = '';\n",
              "\n",
              "  const pickedPromise = new Promise((resolve) => {\n",
              "    inputElement.addEventListener('change', (e) => {\n",
              "      resolve(e.target.files);\n",
              "    });\n",
              "  });\n",
              "\n",
              "  const cancel = document.createElement('button');\n",
              "  inputElement.parentElement.appendChild(cancel);\n",
              "  cancel.textContent = 'Cancel upload';\n",
              "  const cancelPromise = new Promise((resolve) => {\n",
              "    cancel.onclick = () => {\n",
              "      resolve(null);\n",
              "    };\n",
              "  });\n",
              "\n",
              "  // Wait for the user to pick the files.\n",
              "  const files = yield {\n",
              "    promise: Promise.race([pickedPromise, cancelPromise]),\n",
              "    response: {\n",
              "      action: 'starting',\n",
              "    }\n",
              "  };\n",
              "\n",
              "  cancel.remove();\n",
              "\n",
              "  // Disable the input element since further picks are not allowed.\n",
              "  inputElement.disabled = true;\n",
              "\n",
              "  if (!files) {\n",
              "    return {\n",
              "      response: {\n",
              "        action: 'complete',\n",
              "      }\n",
              "    };\n",
              "  }\n",
              "\n",
              "  for (const file of files) {\n",
              "    const li = document.createElement('li');\n",
              "    li.append(span(file.name, {fontWeight: 'bold'}));\n",
              "    li.append(span(\n",
              "        `(${file.type || 'n/a'}) - ${file.size} bytes, ` +\n",
              "        `last modified: ${\n",
              "            file.lastModifiedDate ? file.lastModifiedDate.toLocaleDateString() :\n",
              "                                    'n/a'} - `));\n",
              "    const percent = span('0% done');\n",
              "    li.appendChild(percent);\n",
              "\n",
              "    outputElement.appendChild(li);\n",
              "\n",
              "    const fileDataPromise = new Promise((resolve) => {\n",
              "      const reader = new FileReader();\n",
              "      reader.onload = (e) => {\n",
              "        resolve(e.target.result);\n",
              "      };\n",
              "      reader.readAsArrayBuffer(file);\n",
              "    });\n",
              "    // Wait for the data to be ready.\n",
              "    let fileData = yield {\n",
              "      promise: fileDataPromise,\n",
              "      response: {\n",
              "        action: 'continue',\n",
              "      }\n",
              "    };\n",
              "\n",
              "    // Use a chunked sending to avoid message size limits. See b/62115660.\n",
              "    let position = 0;\n",
              "    do {\n",
              "      const length = Math.min(fileData.byteLength - position, MAX_PAYLOAD_SIZE);\n",
              "      const chunk = new Uint8Array(fileData, position, length);\n",
              "      position += length;\n",
              "\n",
              "      const base64 = btoa(String.fromCharCode.apply(null, chunk));\n",
              "      yield {\n",
              "        response: {\n",
              "          action: 'append',\n",
              "          file: file.name,\n",
              "          data: base64,\n",
              "        },\n",
              "      };\n",
              "\n",
              "      let percentDone = fileData.byteLength === 0 ?\n",
              "          100 :\n",
              "          Math.round((position / fileData.byteLength) * 100);\n",
              "      percent.textContent = `${percentDone}% done`;\n",
              "\n",
              "    } while (position < fileData.byteLength);\n",
              "  }\n",
              "\n",
              "  // All done.\n",
              "  yield {\n",
              "    response: {\n",
              "      action: 'complete',\n",
              "    }\n",
              "  };\n",
              "}\n",
              "\n",
              "scope.google = scope.google || {};\n",
              "scope.google.colab = scope.google.colab || {};\n",
              "scope.google.colab._files = {\n",
              "  _uploadFiles,\n",
              "  _uploadFilesContinue,\n",
              "};\n",
              "})(self);\n",
              "</script> "
            ]
          },
          "metadata": {}
        },
        {
          "output_type": "stream",
          "name": "stdout",
          "text": [
            "Saving ex4.csv to ex4 (11).csv\n"
          ]
        }
      ]
    },
    {
      "cell_type": "code",
      "source": [
        "example = \"ex4 (11).csv\"\n",
        "myfile = open(example, \"r\")\n",
        "myfile"
      ],
      "metadata": {
        "colab": {
          "base_uri": "https://localhost:8080/"
        },
        "id": "XPvU-Utamc2Z",
        "outputId": "e8259b50-4efe-4724-d8ee-07922d3149e0"
      },
      "execution_count": 41,
      "outputs": [
        {
          "output_type": "execute_result",
          "data": {
            "text/plain": [
              "<_io.TextIOWrapper name='ex4 (11).csv' mode='r' encoding='UTF-8'>"
            ]
          },
          "metadata": {},
          "execution_count": 41
        }
      ]
    },
    {
      "cell_type": "code",
      "source": [
        "# print the path of file\n",
        "myfile.name"
      ],
      "metadata": {
        "colab": {
          "base_uri": "https://localhost:8080/",
          "height": 36
        },
        "id": "YEVZy_1Tmpxv",
        "outputId": "6566e77e-311e-4aa3-b42f-84a6ec08ef81"
      },
      "execution_count": 42,
      "outputs": [
        {
          "output_type": "execute_result",
          "data": {
            "text/plain": [
              "'ex4 (11).csv'"
            ],
            "application/vnd.google.colaboratory.intrinsic+json": {
              "type": "string"
            }
          },
          "metadata": {},
          "execution_count": 42
        }
      ]
    },
    {
      "cell_type": "code",
      "source": [
        "# print the mode of file, r or w\n",
        "myfile.mode"
      ],
      "metadata": {
        "colab": {
          "base_uri": "https://localhost:8080/",
          "height": 36
        },
        "id": "gdZxmPnwmtCy",
        "outputId": "e513dbae-c9db-43e3-c968-5d1326265ee0"
      },
      "execution_count": 43,
      "outputs": [
        {
          "output_type": "execute_result",
          "data": {
            "text/plain": [
              "'r'"
            ],
            "application/vnd.google.colaboratory.intrinsic+json": {
              "type": "string"
            }
          },
          "metadata": {},
          "execution_count": 43
        }
      ]
    },
    {
      "cell_type": "code",
      "source": [
        "# read the file \n",
        "# read() method displays the content within this file\n",
        "myfilecontent = myfile.read()\n",
        "myfilecontent"
      ],
      "metadata": {
        "colab": {
          "base_uri": "https://localhost:8080/",
          "height": 105
        },
        "id": "G-SF4SZcnlB_",
        "outputId": "a22bba7e-a6e6-42cf-c5e5-33cc65a5bafb"
      },
      "execution_count": 44,
      "outputs": [
        {
          "output_type": "execute_result",
          "data": {
            "text/plain": [
              "'Day,ONE_DAY_PRECIPITATION\\n2020-06-01 0:00:00,1\\n2020-06-02 0:00:00,5.6\\n2020-06-03 0:00:00,4.1\\n2020-06-04 0:00:00,4\\n2020-06-05 0:00:00,6.2\\n2020-06-06 0:00:00,4\\n2020-06-07 0:00:00,3.4\\n2020-06-08 0:00:00,6\\n2020-06-09 0:00:00,7.8\\n2020-06-10 0:00:00,8\\n2020-06-11 0:00:00,9\\n2020-06-12 0:00:00,3\\n2020-06-13 0:00:00,5.9\\n2020-06-14 0:00:00,1.4\\n2020-06-15 0:00:00,1.6\\n2020-06-16 0:00:00,1.8\\n2020-06-17 0:00:00,1.9\\n2020-06-18 0:00:00,3.4\\n2020-06-19 0:00:00,2.1\\n2020-06-20 0:00:00,4.9\\n2020-06-21 0:00:00,2.3\\n2020-06-22 0:00:00,9.1\\n2020-06-23 0:00:00,5.3\\n2020-06-24 0:00:00,4\\n2020-06-25 0:00:00,6\\n2020-06-26 0:00:00,7.6\\n2020-06-27 0:00:00,9.9\\n2020-06-28 0:00:00,3\\n2020-06-29 0:00:00,2.2\\n2020-06-30 0:00:00,5.4\\n2020-07-01 0:00:00,0.8'"
            ],
            "application/vnd.google.colaboratory.intrinsic+json": {
              "type": "string"
            }
          },
          "metadata": {},
          "execution_count": 44
        }
      ]
    },
    {
      "cell_type": "code",
      "source": [
        "# Print the file with '\\n' as a new line\n",
        "# Print seems to do the trick already\n",
        "print(myfilecontent)"
      ],
      "metadata": {
        "colab": {
          "base_uri": "https://localhost:8080/"
        },
        "id": "6inI1AP7oGth",
        "outputId": "b18ddc15-0888-4089-cb29-2d7fad1b8259"
      },
      "execution_count": 45,
      "outputs": [
        {
          "output_type": "stream",
          "name": "stdout",
          "text": [
            "Day,ONE_DAY_PRECIPITATION\n",
            "2020-06-01 0:00:00,1\n",
            "2020-06-02 0:00:00,5.6\n",
            "2020-06-03 0:00:00,4.1\n",
            "2020-06-04 0:00:00,4\n",
            "2020-06-05 0:00:00,6.2\n",
            "2020-06-06 0:00:00,4\n",
            "2020-06-07 0:00:00,3.4\n",
            "2020-06-08 0:00:00,6\n",
            "2020-06-09 0:00:00,7.8\n",
            "2020-06-10 0:00:00,8\n",
            "2020-06-11 0:00:00,9\n",
            "2020-06-12 0:00:00,3\n",
            "2020-06-13 0:00:00,5.9\n",
            "2020-06-14 0:00:00,1.4\n",
            "2020-06-15 0:00:00,1.6\n",
            "2020-06-16 0:00:00,1.8\n",
            "2020-06-17 0:00:00,1.9\n",
            "2020-06-18 0:00:00,3.4\n",
            "2020-06-19 0:00:00,2.1\n",
            "2020-06-20 0:00:00,4.9\n",
            "2020-06-21 0:00:00,2.3\n",
            "2020-06-22 0:00:00,9.1\n",
            "2020-06-23 0:00:00,5.3\n",
            "2020-06-24 0:00:00,4\n",
            "2020-06-25 0:00:00,6\n",
            "2020-06-26 0:00:00,7.6\n",
            "2020-06-27 0:00:00,9.9\n",
            "2020-06-28 0:00:00,3\n",
            "2020-06-29 0:00:00,2.2\n",
            "2020-06-30 0:00:00,5.4\n",
            "2020-07-01 0:00:00,0.8\n"
          ]
        }
      ]
    },
    {
      "cell_type": "code",
      "source": [
        "# Type of file content\n",
        "type(myfilecontent)"
      ],
      "metadata": {
        "colab": {
          "base_uri": "https://localhost:8080/"
        },
        "id": "leQtxymLoS3C",
        "outputId": "9298d5d2-edfd-49fa-f823-4585b0071e1f"
      },
      "execution_count": 46,
      "outputs": [
        {
          "output_type": "execute_result",
          "data": {
            "text/plain": [
              "str"
            ]
          },
          "metadata": {},
          "execution_count": 46
        }
      ]
    },
    {
      "cell_type": "code",
      "source": [
        "# Close file after finish\n",
        "myfile.close()"
      ],
      "metadata": {
        "id": "BIMnqQxAoXPe"
      },
      "execution_count": 47,
      "outputs": []
    },
    {
      "cell_type": "code",
      "source": [
        "# BETTER WAY TO OPEN A FILE"
      ],
      "metadata": {
        "id": "ilWCSKD2ocqf"
      },
      "execution_count": 48,
      "outputs": []
    },
    {
      "cell_type": "code",
      "source": [
        "# Open file using with prrocess\n",
        "\n",
        "# with process closes the object after running the code\n",
        "\n",
        "# Using with statement is better practice, it automatically closes the file even if the code encounters an exception.\n",
        "# The code will run everything in the indent block then close the file object.\n",
        "\n",
        "with open(example, \"r\") as myfileagain:\n",
        "    myfilecontentagain = myfileagain.read()\n",
        "    print(myfilecontentagain)"
      ],
      "metadata": {
        "id": "Lne35T-nok_w"
      },
      "execution_count": null,
      "outputs": []
    },
    {
      "cell_type": "code",
      "source": [
        "# Verify if the file is closed\n",
        "myfileagain.closed"
      ],
      "metadata": {
        "colab": {
          "base_uri": "https://localhost:8080/"
        },
        "id": "JRXEQCvgo29X",
        "outputId": "a904b28a-bc19-4aad-b3e4-73c4aafdb954"
      },
      "execution_count": 50,
      "outputs": [
        {
          "output_type": "execute_result",
          "data": {
            "text/plain": [
              "True"
            ]
          },
          "metadata": {},
          "execution_count": 50
        }
      ]
    },
    {
      "cell_type": "code",
      "source": [
        "# See the content of the file\n",
        "print(myfilecontentagain)"
      ],
      "metadata": {
        "colab": {
          "base_uri": "https://localhost:8080/"
        },
        "id": "X0UVZskxpOdj",
        "outputId": "de658e1c-30b4-4dbd-be41-7b9f9db79341"
      },
      "execution_count": 51,
      "outputs": [
        {
          "output_type": "stream",
          "name": "stdout",
          "text": [
            "Day,ONE_DAY_PRECIPITATION\n",
            "2020-06-01 0:00:00,1\n",
            "2020-06-02 0:00:00,5.6\n",
            "2020-06-03 0:00:00,4.1\n",
            "2020-06-04 0:00:00,4\n",
            "2020-06-05 0:00:00,6.2\n",
            "2020-06-06 0:00:00,4\n",
            "2020-06-07 0:00:00,3.4\n",
            "2020-06-08 0:00:00,6\n",
            "2020-06-09 0:00:00,7.8\n",
            "2020-06-10 0:00:00,8\n",
            "2020-06-11 0:00:00,9\n",
            "2020-06-12 0:00:00,3\n",
            "2020-06-13 0:00:00,5.9\n",
            "2020-06-14 0:00:00,1.4\n",
            "2020-06-15 0:00:00,1.6\n",
            "2020-06-16 0:00:00,1.8\n",
            "2020-06-17 0:00:00,1.9\n",
            "2020-06-18 0:00:00,3.4\n",
            "2020-06-19 0:00:00,2.1\n",
            "2020-06-20 0:00:00,4.9\n",
            "2020-06-21 0:00:00,2.3\n",
            "2020-06-22 0:00:00,9.1\n",
            "2020-06-23 0:00:00,5.3\n",
            "2020-06-24 0:00:00,4\n",
            "2020-06-25 0:00:00,6\n",
            "2020-06-26 0:00:00,7.6\n",
            "2020-06-27 0:00:00,9.9\n",
            "2020-06-28 0:00:00,3\n",
            "2020-06-29 0:00:00,2.2\n",
            "2020-06-30 0:00:00,5.4\n",
            "2020-07-01 0:00:00,0.8\n"
          ]
        }
      ]
    },
    {
      "cell_type": "code",
      "source": [
        "# Read specifically four characters\n",
        "with open(example, \"r\") as myfileagain:\n",
        "    print(myfileagain.read(4))"
      ],
      "metadata": {
        "colab": {
          "base_uri": "https://localhost:8080/"
        },
        "id": "PFeBHPQOpQcE",
        "outputId": "91d7eebf-022e-4091-d59b-b28a2cfee8b6"
      },
      "execution_count": 35,
      "outputs": [
        {
          "output_type": "stream",
          "name": "stdout",
          "text": [
            "\n"
          ]
        }
      ]
    },
    {
      "cell_type": "code",
      "source": [
        "# Read certain amount of character multiple times\n",
        "with open(example, \"r\") as myfileagain:\n",
        "    print(myfileagain.read(16))\n",
        "    print(myfileagain.read(5))\n",
        "    print(myfileagain.read(9))"
      ],
      "metadata": {
        "colab": {
          "base_uri": "https://localhost:8080/"
        },
        "id": "hMsnOgsWpuTy",
        "outputId": "d02bc7ef-0002-46ae-8377-a4144ab1dc88"
      },
      "execution_count": 52,
      "outputs": [
        {
          "output_type": "stream",
          "name": "stdout",
          "text": [
            "Day,ONE_DAY_PREC\n",
            "IPITA\n",
            "TION\n",
            "2020\n"
          ]
        }
      ]
    },
    {
      "cell_type": "code",
      "source": [
        "# Iterate through the lines\n",
        "\n",
        "with open(example,\"r\") as file:\n",
        "        i = 0;\n",
        "        for line in file:\n",
        "            print(\"Iteración\", str(i), \": \", line)  #convert each line to string\n",
        "            i = i + 1"
      ],
      "metadata": {
        "id": "9aayQXPyp6Z4",
        "colab": {
          "base_uri": "https://localhost:8080/"
        },
        "outputId": "4cc3b998-1894-42cd-acc0-f4b668acfa00"
      },
      "execution_count": 53,
      "outputs": [
        {
          "output_type": "stream",
          "name": "stdout",
          "text": [
            "Iteración 0 :  Day,ONE_DAY_PRECIPITATION\n",
            "\n",
            "Iteración 1 :  2020-06-01 0:00:00,1\n",
            "\n",
            "Iteración 2 :  2020-06-02 0:00:00,5.6\n",
            "\n",
            "Iteración 3 :  2020-06-03 0:00:00,4.1\n",
            "\n",
            "Iteración 4 :  2020-06-04 0:00:00,4\n",
            "\n",
            "Iteración 5 :  2020-06-05 0:00:00,6.2\n",
            "\n",
            "Iteración 6 :  2020-06-06 0:00:00,4\n",
            "\n",
            "Iteración 7 :  2020-06-07 0:00:00,3.4\n",
            "\n",
            "Iteración 8 :  2020-06-08 0:00:00,6\n",
            "\n",
            "Iteración 9 :  2020-06-09 0:00:00,7.8\n",
            "\n",
            "Iteración 10 :  2020-06-10 0:00:00,8\n",
            "\n",
            "Iteración 11 :  2020-06-11 0:00:00,9\n",
            "\n",
            "Iteración 12 :  2020-06-12 0:00:00,3\n",
            "\n",
            "Iteración 13 :  2020-06-13 0:00:00,5.9\n",
            "\n",
            "Iteración 14 :  2020-06-14 0:00:00,1.4\n",
            "\n",
            "Iteración 15 :  2020-06-15 0:00:00,1.6\n",
            "\n",
            "Iteración 16 :  2020-06-16 0:00:00,1.8\n",
            "\n",
            "Iteración 17 :  2020-06-17 0:00:00,1.9\n",
            "\n",
            "Iteración 18 :  2020-06-18 0:00:00,3.4\n",
            "\n",
            "Iteración 19 :  2020-06-19 0:00:00,2.1\n",
            "\n",
            "Iteración 20 :  2020-06-20 0:00:00,4.9\n",
            "\n",
            "Iteración 21 :  2020-06-21 0:00:00,2.3\n",
            "\n",
            "Iteración 22 :  2020-06-22 0:00:00,9.1\n",
            "\n",
            "Iteración 23 :  2020-06-23 0:00:00,5.3\n",
            "\n",
            "Iteración 24 :  2020-06-24 0:00:00,4\n",
            "\n",
            "Iteración 25 :  2020-06-25 0:00:00,6\n",
            "\n",
            "Iteración 26 :  2020-06-26 0:00:00,7.6\n",
            "\n",
            "Iteración 27 :  2020-06-27 0:00:00,9.9\n",
            "\n",
            "Iteración 28 :  2020-06-28 0:00:00,3\n",
            "\n",
            "Iteración 29 :  2020-06-29 0:00:00,2.2\n",
            "\n",
            "Iteración 30 :  2020-06-30 0:00:00,5.4\n",
            "\n",
            "Iteración 31 :  2020-07-01 0:00:00,0.8\n"
          ]
        }
      ]
    },
    {
      "cell_type": "code",
      "source": [
        "# Read all lines and save as a list\n",
        "\n",
        "with open(example, \"r\") as file:\n",
        "    FileasList = file.readlines()\n",
        "\n",
        "FileasList   #this method converted all line elements into elements of a list "
      ],
      "metadata": {
        "colab": {
          "base_uri": "https://localhost:8080/"
        },
        "id": "An1jke2IrFEK",
        "outputId": "98509063-764b-4d6c-d36a-554f5e0db72d"
      },
      "execution_count": 56,
      "outputs": [
        {
          "output_type": "execute_result",
          "data": {
            "text/plain": [
              "['Day,ONE_DAY_PRECIPITATION\\n',\n",
              " '2020-06-01 0:00:00,1\\n',\n",
              " '2020-06-02 0:00:00,5.6\\n',\n",
              " '2020-06-03 0:00:00,4.1\\n',\n",
              " '2020-06-04 0:00:00,4\\n',\n",
              " '2020-06-05 0:00:00,6.2\\n',\n",
              " '2020-06-06 0:00:00,4\\n',\n",
              " '2020-06-07 0:00:00,3.4\\n',\n",
              " '2020-06-08 0:00:00,6\\n',\n",
              " '2020-06-09 0:00:00,7.8\\n',\n",
              " '2020-06-10 0:00:00,8\\n',\n",
              " '2020-06-11 0:00:00,9\\n',\n",
              " '2020-06-12 0:00:00,3\\n',\n",
              " '2020-06-13 0:00:00,5.9\\n',\n",
              " '2020-06-14 0:00:00,1.4\\n',\n",
              " '2020-06-15 0:00:00,1.6\\n',\n",
              " '2020-06-16 0:00:00,1.8\\n',\n",
              " '2020-06-17 0:00:00,1.9\\n',\n",
              " '2020-06-18 0:00:00,3.4\\n',\n",
              " '2020-06-19 0:00:00,2.1\\n',\n",
              " '2020-06-20 0:00:00,4.9\\n',\n",
              " '2020-06-21 0:00:00,2.3\\n',\n",
              " '2020-06-22 0:00:00,9.1\\n',\n",
              " '2020-06-23 0:00:00,5.3\\n',\n",
              " '2020-06-24 0:00:00,4\\n',\n",
              " '2020-06-25 0:00:00,6\\n',\n",
              " '2020-06-26 0:00:00,7.6\\n',\n",
              " '2020-06-27 0:00:00,9.9\\n',\n",
              " '2020-06-28 0:00:00,3\\n',\n",
              " '2020-06-29 0:00:00,2.2\\n',\n",
              " '2020-06-30 0:00:00,5.4\\n',\n",
              " '2020-07-01 0:00:00,0.8']"
            ]
          },
          "metadata": {},
          "execution_count": 56
        }
      ]
    },
    {
      "cell_type": "code",
      "source": [
        "len(FileasList)"
      ],
      "metadata": {
        "colab": {
          "base_uri": "https://localhost:8080/"
        },
        "id": "WZFECw2ZrVRN",
        "outputId": "e8908eb4-1190-4d69-8aa2-ef0471795310"
      },
      "execution_count": 57,
      "outputs": [
        {
          "output_type": "execute_result",
          "data": {
            "text/plain": [
              "32"
            ]
          },
          "metadata": {},
          "execution_count": 57
        }
      ]
    },
    {
      "cell_type": "code",
      "source": [
        "# calling the 31th element of the list\n",
        "len(FileasList[31])"
      ],
      "metadata": {
        "colab": {
          "base_uri": "https://localhost:8080/"
        },
        "id": "RUNta60rrYG2",
        "outputId": "bcd06f53-ce1b-4eac-e6bb-a08c23959c98"
      },
      "execution_count": 58,
      "outputs": [
        {
          "output_type": "execute_result",
          "data": {
            "text/plain": [
              "22"
            ]
          },
          "metadata": {},
          "execution_count": 58
        }
      ]
    },
    {
      "cell_type": "markdown",
      "source": [
        "Writing Files with open statement"
      ],
      "metadata": {
        "id": "VOLtldyCsU6V"
      }
    },
    {
      "cell_type": "code",
      "source": [
        "# Write (\"w\") methods overwrites the content of the file but append method (\"a\") adds some text to the file\n",
        "# Write line to file\n",
        "myfile2 = example\n",
        "with open(myfile2, 'w') as writefile:\n",
        "    writefile.write(\"This is line A and has been recently created\")"
      ],
      "metadata": {
        "id": "qPOiTtoTreRz"
      },
      "execution_count": 59,
      "outputs": []
    },
    {
      "cell_type": "code",
      "source": [
        "# Read file\n",
        "with open(myfile2, 'r') as testwritefile:\n",
        "    print(testwritefile.read())"
      ],
      "metadata": {
        "id": "-03tz9UrwQnX",
        "colab": {
          "base_uri": "https://localhost:8080/"
        },
        "outputId": "6d5c7bf6-e02c-465b-cb00-890544b526c3"
      },
      "execution_count": 60,
      "outputs": [
        {
          "output_type": "stream",
          "name": "stdout",
          "text": [
            "This is line A and has been recently created\n"
          ]
        }
      ]
    },
    {
      "cell_type": "code",
      "source": [
        "# Writing multiple lines\n",
        "with open(myfile2, 'w') as writefile:\n",
        "    writefile.write(\"This is line A\\n\")\n",
        "    writefile.write(\"This is line B\\n\")"
      ],
      "metadata": {
        "id": "IKoAofDcwRc8"
      },
      "execution_count": 61,
      "outputs": []
    },
    {
      "cell_type": "code",
      "source": [
        "# Test again\n",
        "with open(myfile2, 'r') as testwritefile:\n",
        "    print(testwritefile.read())"
      ],
      "metadata": {
        "id": "cQmZtPW8xiZi",
        "colab": {
          "base_uri": "https://localhost:8080/"
        },
        "outputId": "c24d9034-e657-48d1-bc4d-0010859d1826"
      },
      "execution_count": 62,
      "outputs": [
        {
          "output_type": "stream",
          "name": "stdout",
          "text": [
            "This is line A\n",
            "This is line B\n",
            "\n"
          ]
        }
      ]
    },
    {
      "cell_type": "code",
      "source": [
        "with open(example, \"r\") as file:\n",
        "    FileasList = file.readlines()\n",
        "FileasList    "
      ],
      "metadata": {
        "id": "e9smRUqzxqkf",
        "colab": {
          "base_uri": "https://localhost:8080/"
        },
        "outputId": "5c1c50de-e0b0-4e44-b2ea-5e890b588a4b"
      },
      "execution_count": 63,
      "outputs": [
        {
          "output_type": "execute_result",
          "data": {
            "text/plain": [
              "['This is line A\\n', 'This is line B\\n']"
            ]
          },
          "metadata": {},
          "execution_count": 63
        }
      ]
    },
    {
      "cell_type": "code",
      "source": [
        "# Write strings coming from a list to a text file\n",
        "lines = [\"This is line A\\n\", \"This is line B\\n\", \"This is line C\\n\"]\n",
        "lines"
      ],
      "metadata": {
        "id": "qfcoCTCiyQuN",
        "colab": {
          "base_uri": "https://localhost:8080/"
        },
        "outputId": "009a75ac-6ca3-440b-9a6d-30746a27120f"
      },
      "execution_count": 64,
      "outputs": [
        {
          "output_type": "execute_result",
          "data": {
            "text/plain": [
              "['This is line A\\n', 'This is line B\\n', 'This is line C\\n']"
            ]
          },
          "metadata": {},
          "execution_count": 64
        }
      ]
    },
    {
      "cell_type": "code",
      "source": [
        "with open(example,\"w\") as writefile:\n",
        "  for line in lines:\n",
        "    print(line)\n",
        "    writefile.write(line)"
      ],
      "metadata": {
        "id": "bo5jJnPIy5mH",
        "colab": {
          "base_uri": "https://localhost:8080/"
        },
        "outputId": "02ca7310-2c51-4799-8184-4e3cd2409958"
      },
      "execution_count": 65,
      "outputs": [
        {
          "output_type": "stream",
          "name": "stdout",
          "text": [
            "This is line A\n",
            "\n",
            "This is line B\n",
            "\n",
            "This is line C\n",
            "\n"
          ]
        }
      ]
    },
    {
      "cell_type": "code",
      "source": [
        "# Verify if writing to file is successfully executed\n",
        "with open(example,\"r\") as testwrite:\n",
        "  print(testwrite.read())"
      ],
      "metadata": {
        "id": "y5czO_6kzA22",
        "colab": {
          "base_uri": "https://localhost:8080/"
        },
        "outputId": "71cd95ab-21d2-4eca-ef9a-666a052030ad"
      },
      "execution_count": 66,
      "outputs": [
        {
          "output_type": "stream",
          "name": "stdout",
          "text": [
            "This is line A\n",
            "This is line B\n",
            "This is line C\n",
            "\n"
          ]
        }
      ]
    },
    {
      "cell_type": "markdown",
      "source": [
        "Appending Files: this won't overwrite the file, it will add new data"
      ],
      "metadata": {
        "id": "e3A_RFoSzgWV"
      }
    },
    {
      "cell_type": "code",
      "source": [
        "# Write a new line to text file\n",
        "with open(example, 'a') as testwritefile:\n",
        "    testwritefile.write(\"This is line D\\n\")\n",
        "    testwritefile.write(\"This is line E\\n\")\n",
        "    testwritefile.write(\"This is line F\\n\")"
      ],
      "metadata": {
        "id": "Qtl4j2ltzLbJ"
      },
      "execution_count": 67,
      "outputs": []
    },
    {
      "cell_type": "code",
      "source": [
        "with open(example,\"r\") as testwrite:\n",
        "  print(testwrite.read())"
      ],
      "metadata": {
        "id": "L4UjUo6lzyGe",
        "colab": {
          "base_uri": "https://localhost:8080/"
        },
        "outputId": "03588014-87a5-4395-907f-f6d6c2f280a8"
      },
      "execution_count": 68,
      "outputs": [
        {
          "output_type": "stream",
          "name": "stdout",
          "text": [
            "This is line A\n",
            "This is line B\n",
            "This is line C\n",
            "This is line D\n",
            "This is line E\n",
            "This is line F\n",
            "\n"
          ]
        }
      ]
    },
    {
      "cell_type": "markdown",
      "source": [
        "Additional modes\n",
        "It's fairly ineffecient to open the file in **a** or **w** and then reopening it in **r** to read any lines. Luckily we can access the file in the following modes:\n",
        "\n",
        "*   **r+** : Reading and writing. Cannot truncate the file.\n",
        "*   **w+** : Writing and reading. Truncates the file.\n",
        "*   **a+** : Appending and Reading. Creates a new file, if none exists.\n",
        "\n",
        "You dont have to dwell on the specifics of each mode for this lab."
      ],
      "metadata": {
        "id": "vDusYfOrz2J5"
      }
    },
    {
      "cell_type": "code",
      "source": [
        "with open(example, 'a+') as testwritefile:\n",
        "    testwritefile.write(\"This is line E\\n\")\n",
        "    print(testwritefile.read()) "
      ],
      "metadata": {
        "id": "IkWcKJdP0ohK",
        "colab": {
          "base_uri": "https://localhost:8080/"
        },
        "outputId": "370b228f-b51c-4c7e-9d18-6cef2bd3f1f2"
      },
      "execution_count": 69,
      "outputs": [
        {
          "output_type": "stream",
          "name": "stdout",
          "text": [
            "\n"
          ]
        }
      ]
    },
    {
      "cell_type": "code",
      "source": [
        "#.tell() and seek(offset,from)\n",
        "#.tell() return the current position in bytes\n",
        "#.seek(offset, from) changes the position by \"offset\" bytes with respect to \"from\", From can take the value of 0,1,2 corresponding to beginning, relative to current position and end\n"
      ],
      "metadata": {
        "id": "EbZ7v2E91ttI"
      },
      "execution_count": 70,
      "outputs": []
    },
    {
      "cell_type": "code",
      "source": [
        "with open(example, 'a+') as testwritefile:\n",
        "    print(\"Initial Location: {}\".format(testwritefile.tell()))\n",
        "    \n",
        "    data = testwritefile.read()\n",
        "    if (not data):  #empty strings return false in python\n",
        "            print('Read nothing') # read nothing because it was at the end of the file and there was nothing to read\n",
        "    else: \n",
        "            print(testwritefile.read())\n",
        "            \n",
        "    testwritefile.seek(0,0) # move 0 bytes from beginning. #went back to the beginning of the file and there was data to be read\n",
        "    \n",
        "    print(\"\\nNew Location : {}\".format(testwritefile.tell()))\n",
        "    data = testwritefile.read()\n",
        "    if (not data): \n",
        "            print('Read nothing') \n",
        "    else: \n",
        "            print(data)\n",
        "    \n",
        "    print(\"Location after read: {}\".format(testwritefile.tell()) )"
      ],
      "metadata": {
        "id": "GOkbMKX_2LU8",
        "colab": {
          "base_uri": "https://localhost:8080/"
        },
        "outputId": "d620eb24-4a44-4628-f661-d6332a074914"
      },
      "execution_count": 71,
      "outputs": [
        {
          "output_type": "stream",
          "name": "stdout",
          "text": [
            "Initial Location: 105\n",
            "Read nothing\n",
            "\n",
            "New Location : 0\n",
            "This is line A\n",
            "This is line B\n",
            "This is line C\n",
            "This is line D\n",
            "This is line E\n",
            "This is line F\n",
            "This is line E\n",
            "\n",
            "Location after read: 105\n"
          ]
        }
      ]
    },
    {
      "cell_type": "code",
      "source": [
        "with open(example, 'r+') as testwritefile:\n",
        "    data = testwritefile.readlines()\n",
        "    testwritefile.seek(0,0) #write at beginning of file\n",
        "   \n",
        "    testwritefile.write(\"Line 1\" + \"\\n\")\n",
        "    testwritefile.write(\"Line 2\" + \"\\n\")\n",
        "    testwritefile.write(\"Line 3\" + \"\\n\")\n",
        "    testwritefile.write(\"finished\\n\")\n",
        "    #Uncomment the line below\n",
        "    #testwritefile.truncate() #erased all the data, therefore the second time it runs it shows only line 1, line2 and line 3 that we added\n",
        "    testwritefile.seek(0,0)\n",
        "    print(testwritefile.read())\n",
        "    "
      ],
      "metadata": {
        "id": "w59jR0nZ34cV",
        "colab": {
          "base_uri": "https://localhost:8080/"
        },
        "outputId": "e17451ea-c849-4254-8db4-533782b2ac7f"
      },
      "execution_count": 72,
      "outputs": [
        {
          "output_type": "stream",
          "name": "stdout",
          "text": [
            "Line 1\n",
            "Line 2\n",
            "Line 3\n",
            "finished\n",
            "This is line C\n",
            "This is line D\n",
            "This is line E\n",
            "This is line F\n",
            "This is line E\n",
            "\n"
          ]
        }
      ]
    },
    {
      "cell_type": "markdown",
      "source": [
        "Copy a File"
      ],
      "metadata": {
        "id": "_QzeUfmb4ULZ"
      }
    },
    {
      "cell_type": "code",
      "source": [
        "example2 = \"ex4 (10).csv\"\n",
        "myfile = open(example, \"r\")\n",
        "myfile"
      ],
      "metadata": {
        "id": "NtKpDKCr5VnJ",
        "colab": {
          "base_uri": "https://localhost:8080/"
        },
        "outputId": "e015f773-ebfb-4a54-d1c7-d2d070979d42"
      },
      "execution_count": 74,
      "outputs": [
        {
          "output_type": "execute_result",
          "data": {
            "text/plain": [
              "<_io.TextIOWrapper name='ex4 (11).csv' mode='r' encoding='UTF-8'>"
            ]
          },
          "metadata": {},
          "execution_count": 74
        }
      ]
    },
    {
      "cell_type": "code",
      "source": [
        "# Copy file to another\n",
        "\n",
        "with open(example,'r') as readfile:\n",
        "    with open(example2,'w') as writefile:\n",
        "          for line in readfile:\n",
        "                writefile.write(line)"
      ],
      "metadata": {
        "id": "jwsmivJE4TLe"
      },
      "execution_count": 75,
      "outputs": []
    },
    {
      "cell_type": "code",
      "source": [
        "with open(example2,'r') as testwritefile:\n",
        "    print(testwritefile.read())"
      ],
      "metadata": {
        "id": "NR45fTD_5grU",
        "colab": {
          "base_uri": "https://localhost:8080/"
        },
        "outputId": "4b60fd93-97bb-4f10-bf8a-08a62b4b07ce"
      },
      "execution_count": 76,
      "outputs": [
        {
          "output_type": "stream",
          "name": "stdout",
          "text": [
            "Line 1\n",
            "Line 2\n",
            "Line 3\n",
            "finished\n",
            "This is line C\n",
            "This is line D\n",
            "This is line E\n",
            "This is line F\n",
            "This is line E\n",
            "\n"
          ]
        }
      ]
    },
    {
      "cell_type": "markdown",
      "source": [
        "Lab Exercise"
      ],
      "metadata": {
        "id": "kYizaKecAANd"
      }
    },
    {
      "cell_type": "code",
      "source": [
        "#Run this prior to starting the exercise\n",
        "from random import randint as rnd\n",
        "\n",
        "memReg = 'members.txt'\n",
        "exReg = 'inactive.txt'\n",
        "fee =('yes','no')\n",
        "\n",
        "def genFiles(current,old):\n",
        "    with open(current,'w+') as writefile: \n",
        "        writefile.write('Membership No  Date Joined  Active  \\n')\n",
        "        data = \"{:^13}  {:<11}  {:<6}\\n\"\n",
        "\n",
        "        for rowno in range(20):\n",
        "            date = str(rnd(2015,2020))+ '-' + str(rnd(1,12))+'-'+str(rnd(1,25))\n",
        "            writefile.write(data.format(rnd(10000,99999),date,fee[rnd(0,1)]))\n",
        "\n",
        "\n",
        "    with open(old,'w+') as writefile: \n",
        "        writefile.write('Membership No  Date Joined  Active  \\n')\n",
        "        data = \"{:^13}  {:<11}  {:<6}\\n\"\n",
        "        for rowno in range(3):\n",
        "            date = str(rnd(2015,2020))+ '-' + str(rnd(1,12))+'-'+str(rnd(1,25))\n",
        "            writefile.write(data.format(rnd(10000,99999),date,fee[1]))\n",
        "\n",
        "\n",
        "genFiles(memReg,exReg)"
      ],
      "metadata": {
        "id": "oAMpjfFV_-kW"
      },
      "execution_count": 77,
      "outputs": []
    },
    {
      "cell_type": "code",
      "source": [
        "def cleanFiles(currentMem,exMem):\n",
        "    with open(currentMem,'r+') as writeFile: \n",
        "        with open(exMem,'a+') as appendFile:\n",
        "            #get the data\n",
        "            writeFile.seek(0)\n",
        "            members = writeFile.readlines()\n",
        "            #remove header\n",
        "            header = members[0]\n",
        "            members.pop(0)\n",
        "                \n",
        "            inactive = [member for member in members if ('no' in member)]\n",
        "            '''\n",
        "            The above is the same as \n",
        "\n",
        "            for member in members:\n",
        "            if 'no' in member:\n",
        "                inactive.append(member)\n",
        "            '''\n",
        "            #go to the beginning of the write file\n",
        "            writeFile.seek(0) \n",
        "            writeFile.write(header)\n",
        "            for member in members:\n",
        "                if (member in inactive):\n",
        "                    appendFile.write(member)\n",
        "                else:\n",
        "                    writeFile.write(member)      \n",
        "            writeFile.truncate()\n",
        "                \n",
        "memReg = 'members.txt'\n",
        "exReg = 'inactive.txt'\n",
        "cleanFiles(memReg,exReg)\n",
        "\n",
        "# code to help you see the files\n",
        "\n",
        "headers = \"Membership No  Date Joined  Active  \\n\"\n",
        "\n",
        "with open(memReg,'r') as readFile:\n",
        "    print(\"Active Members: \\n\\n\")\n",
        "    print(readFile.read())\n",
        "    \n",
        "with open(exReg,'r') as readFile:\n",
        "    print(\"Inactive Members: \\n\\n\")\n",
        "    print(readFile.read())"
      ],
      "metadata": {
        "colab": {
          "base_uri": "https://localhost:8080/"
        },
        "id": "3Yf5ERUaAO5K",
        "outputId": "0c71f7a3-f9ef-49b1-cb60-5de994687b42"
      },
      "execution_count": 78,
      "outputs": [
        {
          "output_type": "stream",
          "name": "stdout",
          "text": [
            "Active Members: \n",
            "\n",
            "\n",
            "Membership No  Date Joined  Active  \n",
            "    60132      2017-2-23    yes   \n",
            "    18234      2017-12-4    yes   \n",
            "    92575      2017-1-5     yes   \n",
            "    79800      2017-2-14    yes   \n",
            "    95026      2018-7-9     yes   \n",
            "    47051      2019-5-4     yes   \n",
            "    89064      2019-5-7     yes   \n",
            "    38713      2016-12-18   yes   \n",
            "    52636      2019-1-21    yes   \n",
            "\n",
            "Inactive Members: \n",
            "\n",
            "\n",
            "Membership No  Date Joined  Active  \n",
            "    36205      2018-9-17    no    \n",
            "    80205      2015-2-5     no    \n",
            "    55288      2015-3-16    no    \n",
            "    94360      2015-2-23    no    \n",
            "    43874      2015-6-21    no    \n",
            "    24837      2020-4-9     no    \n",
            "    72397      2020-10-10   no    \n",
            "    85137      2017-2-9     no    \n",
            "    93923      2020-4-18    no    \n",
            "    66730      2017-4-5     no    \n",
            "    83515      2019-8-7     no    \n",
            "    97567      2015-9-6     no    \n",
            "    13175      2020-8-22    no    \n",
            "    36192      2016-2-18    no    \n",
            "\n"
          ]
        }
      ]
    },
    {
      "cell_type": "code",
      "source": [
        "def testMsg(passed):\n",
        "    if passed:\n",
        "       return 'Test Passed'\n",
        "    else :\n",
        "       return 'Test Failed'\n",
        "\n",
        "testWrite = \"testWrite.txt\"\n",
        "testAppend = \"testAppend.txt\" \n",
        "passed = True\n",
        "\n",
        "genFiles(testWrite,testAppend)\n",
        "\n",
        "with open(testWrite,'r') as file:\n",
        "    ogWrite = file.readlines()\n",
        "\n",
        "with open(testAppend,'r') as file:\n",
        "    ogAppend = file.readlines()\n",
        "\n",
        "try:\n",
        "    cleanFiles(testWrite,testAppend)\n",
        "except:\n",
        "    print('Error')\n",
        "\n",
        "with open(testWrite,'r') as file:\n",
        "    clWrite = file.readlines()\n",
        "\n",
        "with open(testAppend,'r') as file:\n",
        "    clAppend = file.readlines()\n",
        "        \n",
        "# checking if total no of rows is same, including headers\n",
        "\n",
        "if (len(ogWrite) + len(ogAppend) != len(clWrite) + len(clAppend)):\n",
        "    print(\"The number of rows do not add up. Make sure your final files have the same header and format.\")\n",
        "    passed = False\n",
        "    \n",
        "for line in clWrite:\n",
        "    if  'no' in line:\n",
        "        passed = False\n",
        "        print(\"Inactive members in file\")\n",
        "        break\n",
        "    else:\n",
        "        if line not in ogWrite:\n",
        "            print(\"Data in file does not match original file\")\n",
        "            passed = False\n",
        "print (\"{}\".format(testMsg(passed)))\n",
        "    "
      ],
      "metadata": {
        "colab": {
          "base_uri": "https://localhost:8080/"
        },
        "id": "a6s_vSmdAXC-",
        "outputId": "0255c1f1-a773-433f-ff50-ccf0d483932a"
      },
      "execution_count": 79,
      "outputs": [
        {
          "output_type": "stream",
          "name": "stdout",
          "text": [
            "Test Passed\n"
          ]
        }
      ]
    },
    {
      "cell_type": "markdown",
      "source": [
        "Loading Data with Pandas"
      ],
      "metadata": {
        "id": "vA4dcPspA0PL"
      }
    },
    {
      "cell_type": "code",
      "source": [
        "import pandas as pd\n",
        "\n",
        "# creating data frame from dictionary\n",
        "songs = {\"album\":['album1','album2'],\"song\":[\"song1\",\"songs2\"]}\n",
        "songs"
      ],
      "metadata": {
        "colab": {
          "base_uri": "https://localhost:8080/"
        },
        "id": "iYBwf4OgAzoR",
        "outputId": "2a3fb30f-39cd-4307-e74e-4c4cd514ebc9"
      },
      "execution_count": 84,
      "outputs": [
        {
          "output_type": "execute_result",
          "data": {
            "text/plain": [
              "{'album': ['album1', 'album2'], 'song': ['song1', 'songs2']}"
            ]
          },
          "metadata": {},
          "execution_count": 84
        }
      ]
    },
    {
      "cell_type": "code",
      "source": [
        "songs_dataframe = pd.DataFrame(songs)\n",
        "songs_dataframe"
      ],
      "metadata": {
        "colab": {
          "base_uri": "https://localhost:8080/",
          "height": 112
        },
        "id": "4ln91kHzAvAp",
        "outputId": "a7088f1d-3d61-44d8-8f7a-cd8248111e8f"
      },
      "execution_count": 85,
      "outputs": [
        {
          "output_type": "execute_result",
          "data": {
            "text/plain": [
              "    album    song\n",
              "0  album1   song1\n",
              "1  album2  songs2"
            ],
            "text/html": [
              "\n",
              "  <div id=\"df-93cf4257-9f3b-4f75-b36c-aa39caa6e0a9\">\n",
              "    <div class=\"colab-df-container\">\n",
              "      <div>\n",
              "<style scoped>\n",
              "    .dataframe tbody tr th:only-of-type {\n",
              "        vertical-align: middle;\n",
              "    }\n",
              "\n",
              "    .dataframe tbody tr th {\n",
              "        vertical-align: top;\n",
              "    }\n",
              "\n",
              "    .dataframe thead th {\n",
              "        text-align: right;\n",
              "    }\n",
              "</style>\n",
              "<table border=\"1\" class=\"dataframe\">\n",
              "  <thead>\n",
              "    <tr style=\"text-align: right;\">\n",
              "      <th></th>\n",
              "      <th>album</th>\n",
              "      <th>song</th>\n",
              "    </tr>\n",
              "  </thead>\n",
              "  <tbody>\n",
              "    <tr>\n",
              "      <th>0</th>\n",
              "      <td>album1</td>\n",
              "      <td>song1</td>\n",
              "    </tr>\n",
              "    <tr>\n",
              "      <th>1</th>\n",
              "      <td>album2</td>\n",
              "      <td>songs2</td>\n",
              "    </tr>\n",
              "  </tbody>\n",
              "</table>\n",
              "</div>\n",
              "      <button class=\"colab-df-convert\" onclick=\"convertToInteractive('df-93cf4257-9f3b-4f75-b36c-aa39caa6e0a9')\"\n",
              "              title=\"Convert this dataframe to an interactive table.\"\n",
              "              style=\"display:none;\">\n",
              "        \n",
              "  <svg xmlns=\"http://www.w3.org/2000/svg\" height=\"24px\"viewBox=\"0 0 24 24\"\n",
              "       width=\"24px\">\n",
              "    <path d=\"M0 0h24v24H0V0z\" fill=\"none\"/>\n",
              "    <path d=\"M18.56 5.44l.94 2.06.94-2.06 2.06-.94-2.06-.94-.94-2.06-.94 2.06-2.06.94zm-11 1L8.5 8.5l.94-2.06 2.06-.94-2.06-.94L8.5 2.5l-.94 2.06-2.06.94zm10 10l.94 2.06.94-2.06 2.06-.94-2.06-.94-.94-2.06-.94 2.06-2.06.94z\"/><path d=\"M17.41 7.96l-1.37-1.37c-.4-.4-.92-.59-1.43-.59-.52 0-1.04.2-1.43.59L10.3 9.45l-7.72 7.72c-.78.78-.78 2.05 0 2.83L4 21.41c.39.39.9.59 1.41.59.51 0 1.02-.2 1.41-.59l7.78-7.78 2.81-2.81c.8-.78.8-2.07 0-2.86zM5.41 20L4 18.59l7.72-7.72 1.47 1.35L5.41 20z\"/>\n",
              "  </svg>\n",
              "      </button>\n",
              "      \n",
              "  <style>\n",
              "    .colab-df-container {\n",
              "      display:flex;\n",
              "      flex-wrap:wrap;\n",
              "      gap: 12px;\n",
              "    }\n",
              "\n",
              "    .colab-df-convert {\n",
              "      background-color: #E8F0FE;\n",
              "      border: none;\n",
              "      border-radius: 50%;\n",
              "      cursor: pointer;\n",
              "      display: none;\n",
              "      fill: #1967D2;\n",
              "      height: 32px;\n",
              "      padding: 0 0 0 0;\n",
              "      width: 32px;\n",
              "    }\n",
              "\n",
              "    .colab-df-convert:hover {\n",
              "      background-color: #E2EBFA;\n",
              "      box-shadow: 0px 1px 2px rgba(60, 64, 67, 0.3), 0px 1px 3px 1px rgba(60, 64, 67, 0.15);\n",
              "      fill: #174EA6;\n",
              "    }\n",
              "\n",
              "    [theme=dark] .colab-df-convert {\n",
              "      background-color: #3B4455;\n",
              "      fill: #D2E3FC;\n",
              "    }\n",
              "\n",
              "    [theme=dark] .colab-df-convert:hover {\n",
              "      background-color: #434B5C;\n",
              "      box-shadow: 0px 1px 3px 1px rgba(0, 0, 0, 0.15);\n",
              "      filter: drop-shadow(0px 1px 2px rgba(0, 0, 0, 0.3));\n",
              "      fill: #FFFFFF;\n",
              "    }\n",
              "  </style>\n",
              "\n",
              "      <script>\n",
              "        const buttonEl =\n",
              "          document.querySelector('#df-93cf4257-9f3b-4f75-b36c-aa39caa6e0a9 button.colab-df-convert');\n",
              "        buttonEl.style.display =\n",
              "          google.colab.kernel.accessAllowed ? 'block' : 'none';\n",
              "\n",
              "        async function convertToInteractive(key) {\n",
              "          const element = document.querySelector('#df-93cf4257-9f3b-4f75-b36c-aa39caa6e0a9');\n",
              "          const dataTable =\n",
              "            await google.colab.kernel.invokeFunction('convertToInteractive',\n",
              "                                                     [key], {});\n",
              "          if (!dataTable) return;\n",
              "\n",
              "          const docLinkHtml = 'Like what you see? Visit the ' +\n",
              "            '<a target=\"_blank\" href=https://colab.research.google.com/notebooks/data_table.ipynb>data table notebook</a>'\n",
              "            + ' to learn more about interactive tables.';\n",
              "          element.innerHTML = '';\n",
              "          dataTable['output_type'] = 'display_data';\n",
              "          await google.colab.output.renderOutput(dataTable, element);\n",
              "          const docLink = document.createElement('div');\n",
              "          docLink.innerHTML = docLinkHtml;\n",
              "          element.appendChild(docLink);\n",
              "        }\n",
              "      </script>\n",
              "    </div>\n",
              "  </div>\n",
              "  "
            ]
          },
          "metadata": {},
          "execution_count": 85
        }
      ]
    },
    {
      "cell_type": "code",
      "source": [
        "#ix method\n",
        "# df.ix[0,0] = first row, first column record\n",
        "# df.ix[1,0] = second row, fist column record\n",
        "# df.ix[n,n] = n row, n column record\n",
        "# df.ix[0,\"album\"] first row, column algum"
      ],
      "metadata": {
        "id": "DklLRbk0CFG5"
      },
      "execution_count": 87,
      "outputs": []
    },
    {
      "cell_type": "code",
      "source": [
        "# slicing\n",
        "# d.ix[0:2,\"album\":\"song\"]"
      ],
      "metadata": {
        "id": "ut6EyyeeDE-3"
      },
      "execution_count": null,
      "outputs": []
    },
    {
      "cell_type": "markdown",
      "source": [
        "Working with and Saving Data"
      ],
      "metadata": {
        "id": "UIA1AityDxt_"
      }
    },
    {
      "cell_type": "code",
      "source": [
        "#df[\"column.name\"].unique() #\n",
        "songs_dataframe[\"album\"].unique()"
      ],
      "metadata": {
        "colab": {
          "base_uri": "https://localhost:8080/"
        },
        "id": "UpysmGvoDwl_",
        "outputId": "c6caa871-741b-407c-98df-d5d54667b11d"
      },
      "execution_count": 90,
      "outputs": [
        {
          "output_type": "execute_result",
          "data": {
            "text/plain": [
              "array(['album1', 'album2'], dtype=object)"
            ]
          },
          "metadata": {},
          "execution_count": 90
        }
      ]
    },
    {
      "cell_type": "code",
      "source": [
        "\n",
        "songs_dataframe[\"album\"] == \"album1\" #comparison of all values to string \"album1\""
      ],
      "metadata": {
        "colab": {
          "base_uri": "https://localhost:8080/"
        },
        "id": "7JNAklgVE4Rx",
        "outputId": "0b388236-a481-4861-fa2b-67247dbdd91b"
      },
      "execution_count": 91,
      "outputs": [
        {
          "output_type": "execute_result",
          "data": {
            "text/plain": [
              "0     True\n",
              "1    False\n",
              "Name: album, dtype: bool"
            ]
          },
          "metadata": {},
          "execution_count": 91
        }
      ]
    },
    {
      "cell_type": "code",
      "source": [
        "df=pd.DataFrame({'a':[1,2,1],'b':[1,1,1]})\n",
        "df"
      ],
      "metadata": {
        "colab": {
          "base_uri": "https://localhost:8080/",
          "height": 143
        },
        "id": "WIREavlNFpDl",
        "outputId": "db68da42-86a4-4dec-bdc9-b7c63d1954eb"
      },
      "execution_count": 93,
      "outputs": [
        {
          "output_type": "execute_result",
          "data": {
            "text/plain": [
              "   a  b\n",
              "0  1  1\n",
              "1  2  1\n",
              "2  1  1"
            ],
            "text/html": [
              "\n",
              "  <div id=\"df-5425b99d-0943-42c2-9612-a78ea792ba42\">\n",
              "    <div class=\"colab-df-container\">\n",
              "      <div>\n",
              "<style scoped>\n",
              "    .dataframe tbody tr th:only-of-type {\n",
              "        vertical-align: middle;\n",
              "    }\n",
              "\n",
              "    .dataframe tbody tr th {\n",
              "        vertical-align: top;\n",
              "    }\n",
              "\n",
              "    .dataframe thead th {\n",
              "        text-align: right;\n",
              "    }\n",
              "</style>\n",
              "<table border=\"1\" class=\"dataframe\">\n",
              "  <thead>\n",
              "    <tr style=\"text-align: right;\">\n",
              "      <th></th>\n",
              "      <th>a</th>\n",
              "      <th>b</th>\n",
              "    </tr>\n",
              "  </thead>\n",
              "  <tbody>\n",
              "    <tr>\n",
              "      <th>0</th>\n",
              "      <td>1</td>\n",
              "      <td>1</td>\n",
              "    </tr>\n",
              "    <tr>\n",
              "      <th>1</th>\n",
              "      <td>2</td>\n",
              "      <td>1</td>\n",
              "    </tr>\n",
              "    <tr>\n",
              "      <th>2</th>\n",
              "      <td>1</td>\n",
              "      <td>1</td>\n",
              "    </tr>\n",
              "  </tbody>\n",
              "</table>\n",
              "</div>\n",
              "      <button class=\"colab-df-convert\" onclick=\"convertToInteractive('df-5425b99d-0943-42c2-9612-a78ea792ba42')\"\n",
              "              title=\"Convert this dataframe to an interactive table.\"\n",
              "              style=\"display:none;\">\n",
              "        \n",
              "  <svg xmlns=\"http://www.w3.org/2000/svg\" height=\"24px\"viewBox=\"0 0 24 24\"\n",
              "       width=\"24px\">\n",
              "    <path d=\"M0 0h24v24H0V0z\" fill=\"none\"/>\n",
              "    <path d=\"M18.56 5.44l.94 2.06.94-2.06 2.06-.94-2.06-.94-.94-2.06-.94 2.06-2.06.94zm-11 1L8.5 8.5l.94-2.06 2.06-.94-2.06-.94L8.5 2.5l-.94 2.06-2.06.94zm10 10l.94 2.06.94-2.06 2.06-.94-2.06-.94-.94-2.06-.94 2.06-2.06.94z\"/><path d=\"M17.41 7.96l-1.37-1.37c-.4-.4-.92-.59-1.43-.59-.52 0-1.04.2-1.43.59L10.3 9.45l-7.72 7.72c-.78.78-.78 2.05 0 2.83L4 21.41c.39.39.9.59 1.41.59.51 0 1.02-.2 1.41-.59l7.78-7.78 2.81-2.81c.8-.78.8-2.07 0-2.86zM5.41 20L4 18.59l7.72-7.72 1.47 1.35L5.41 20z\"/>\n",
              "  </svg>\n",
              "      </button>\n",
              "      \n",
              "  <style>\n",
              "    .colab-df-container {\n",
              "      display:flex;\n",
              "      flex-wrap:wrap;\n",
              "      gap: 12px;\n",
              "    }\n",
              "\n",
              "    .colab-df-convert {\n",
              "      background-color: #E8F0FE;\n",
              "      border: none;\n",
              "      border-radius: 50%;\n",
              "      cursor: pointer;\n",
              "      display: none;\n",
              "      fill: #1967D2;\n",
              "      height: 32px;\n",
              "      padding: 0 0 0 0;\n",
              "      width: 32px;\n",
              "    }\n",
              "\n",
              "    .colab-df-convert:hover {\n",
              "      background-color: #E2EBFA;\n",
              "      box-shadow: 0px 1px 2px rgba(60, 64, 67, 0.3), 0px 1px 3px 1px rgba(60, 64, 67, 0.15);\n",
              "      fill: #174EA6;\n",
              "    }\n",
              "\n",
              "    [theme=dark] .colab-df-convert {\n",
              "      background-color: #3B4455;\n",
              "      fill: #D2E3FC;\n",
              "    }\n",
              "\n",
              "    [theme=dark] .colab-df-convert:hover {\n",
              "      background-color: #434B5C;\n",
              "      box-shadow: 0px 1px 3px 1px rgba(0, 0, 0, 0.15);\n",
              "      filter: drop-shadow(0px 1px 2px rgba(0, 0, 0, 0.3));\n",
              "      fill: #FFFFFF;\n",
              "    }\n",
              "  </style>\n",
              "\n",
              "      <script>\n",
              "        const buttonEl =\n",
              "          document.querySelector('#df-5425b99d-0943-42c2-9612-a78ea792ba42 button.colab-df-convert');\n",
              "        buttonEl.style.display =\n",
              "          google.colab.kernel.accessAllowed ? 'block' : 'none';\n",
              "\n",
              "        async function convertToInteractive(key) {\n",
              "          const element = document.querySelector('#df-5425b99d-0943-42c2-9612-a78ea792ba42');\n",
              "          const dataTable =\n",
              "            await google.colab.kernel.invokeFunction('convertToInteractive',\n",
              "                                                     [key], {});\n",
              "          if (!dataTable) return;\n",
              "\n",
              "          const docLinkHtml = 'Like what you see? Visit the ' +\n",
              "            '<a target=\"_blank\" href=https://colab.research.google.com/notebooks/data_table.ipynb>data table notebook</a>'\n",
              "            + ' to learn more about interactive tables.';\n",
              "          element.innerHTML = '';\n",
              "          dataTable['output_type'] = 'display_data';\n",
              "          await google.colab.output.renderOutput(dataTable, element);\n",
              "          const docLink = document.createElement('div');\n",
              "          docLink.innerHTML = docLinkHtml;\n",
              "          element.appendChild(docLink);\n",
              "        }\n",
              "      </script>\n",
              "    </div>\n",
              "  </div>\n",
              "  "
            ]
          },
          "metadata": {},
          "execution_count": 93
        }
      ]
    },
    {
      "cell_type": "code",
      "source": [
        "df['a']==1 "
      ],
      "metadata": {
        "colab": {
          "base_uri": "https://localhost:8080/"
        },
        "id": "e2GSk1m1Fu6X",
        "outputId": "4c7a6fb5-2baf-49f5-d1b5-62cfc2b725df"
      },
      "execution_count": 94,
      "outputs": [
        {
          "output_type": "execute_result",
          "data": {
            "text/plain": [
              "0     True\n",
              "1    False\n",
              "2     True\n",
              "Name: a, dtype: bool"
            ]
          },
          "metadata": {},
          "execution_count": 94
        }
      ]
    },
    {
      "cell_type": "markdown",
      "source": [
        "![progress_up_to_module_4.png](data:image/png;base64,iVBORw0KGgoAAAANSUhEUgAAByIAAAIvCAYAAAA4fRy2AAAAAXNSR0IArs4c6QAAAARnQU1BAACxjwv8YQUAAAAJcEhZcwAAEnQAABJ0Ad5mH3gAAIiISURBVHhe7f1vmNx3fd/759a52nMueiPnNFd6K1dunOuQc7Wnh1/by81FL66LlNS9WrYlNu4RdWodJzhOBMaO+aPY1glgXFuhsSKK6hTFAWFjg8HGRtiujLEERiBQAGECEgZhI8dGBhz5jzBYIPj85j07n93vzs7Mzu7OV3rP6vG48oyt/afdme/smnntd+YXCgAAAAAAAMCEGSIBAAAAAACAiTNEAgAAAAAAABNniAQAAAAAAAAmzhAJAAAAAAAATJwhEgAAAAAAAJg4QyQAAAAAAAAwcYZIAAAAAAAAYOIMkQAAAAAAAMDEGSIBAAAAAACAiTNEAgAAAAAAABNniAQAAAAAAAAmzhAJAAAAAAAATJwhEgAAAAAAAJg4QyQAAAAAAAAwcYZIAAAAAAAAYOIMkQAAAAAAAMDEGSIBAAAAAACAiTNEAgAAAAAAABNniAQAAAAAAAAmzhAJAAAAAAAATJwhEgAAAAAAAJg4QyQAAAAAAAAwcYZIYNZTh8r+bz3X+0MymT83AAAAAABgoNFD5Mmnyv4dV5b1//qs8pKXvKS85KWvKK+5fFvZ/1Tv9Qz3158tv/Dmu+e74t7yuzcfLI/8tPd6JufJO8slcXzOdVZ5xYVXlps+/Xg50XuT8TxSbjt/S3mo96c148CWxmUTvaycc/mWcudXF96Qn7r7knLWWx8oGee+zJ/b6jxV7nx987rpHbu+yQIAAAAAsAYMHyKff6hs+a2zymvecWc59FRvzjnxVHlk30Pl8ZOzf2SEGCL/y5fL0d4fyzPfKbf8t3vLL7/vG+XHvRcxId0hsjEgnjxRnnr0M2XbhWeVc7Y+NP4Y+dwD5crmx1krYoh8/Z1lbtrqXD6PH7itvL1z+77kY4/3XsjpMTtEbjnQ+2Mcu1+/rVzy0nPKTd/qvQwAAAAAAKbU0CHy0PZXlrOu/czoEef5R8qd164vr3jp7FlW66+9szzyfO91HU997JLykq0LZ52FL3uobHnJlrL/uYfKTX/wsu7ZQNu+2nlx/Pnyc8rL5s4Qent54LHZ9whP7b+xXNI7S/NlF1xX7vzW8s57OyX6h8hw5IvlN9782fK57h++Va6Jf3/u22Xbf5k9a/Kar3dfUX786JfLG6+9t/xy90zK+8ob73+sMV7+rDx9YF/5j5vuLb9+zb3l1zr//I1r7iu/ce2D5Z5jnVfH33vzt8rTX99fzrmi8/4bP1u+vOD9Zv+uX73mwXLLo/XK+kl55MEHy7/pva579uZHvz37d/7sePnyR3eXX4+P1XndL2+6r7zuwQVf1enXP0RWz+8vW/7tWeW6ffPHx1N7t5Q3rntFOSuOrZe+olyy49DsMf7oveXKC+PlLyvnnP+a8przO8dcb7k78a07y3UXxPH5knLWv76k3Ng8W+2xe8t13febvQ2cc/lN5aFsp+31D5HVE3G5rS+39W5bC26bJ58rD+14Yznn5fF1xde9vrz9E/Oj5Ylv3Vu2XDp/Of7ehx/pvnzJ2/yojzvidr/o44783hPj3iXlzm80Pt7L15frPvbIMs+QPRX6hsie/X/6knLJx+avsRUfg3FW+/Z6eXcu00tvXHhG+6BjY8HLepflY4+Xe9/xmu7fccndvbfuXAf3br2kdx10PvYf3FZmj4I1cJsBAAAAAGAihgyRD5VtL31lubE3jA32XHngipeVSz54qDzXO0Py8TsuKWe9/s65MyaXHCW6Q+T6sv7yt5d7H+1NBCdPlP1/cla55I7G6PHUU3N/R/nGjeWc34rxsvfnx+LsoevK/mwLw7Ahcm4YjCHyvvJv3vWpcsffvND588+6/1ee+evyuivuLzcePt59q/LTo+WWP7u7nHPf92b//MQXy7/Z+Klyz3Pxxh1Hv1zO2fhgeaB+/fH3Xntf+d3//lB55ER8zN7bfXNf+fW3xfDZ+3Pn48y9X3zMP36wfO5Hs68qP32+HH1mdtX58ZceLL/c+Toe6b1bOXGsPF0/RhbDhsiOQ3/5ynLWDfOvOfHEI+XxelmdfKTcdMFZ8yPQoI/z9APlypfHENP783Mxbtbx7vFy2wWvLFsaB9+JJ5/LN3YNGyK7t+H5Yal52zyx77oFt+U4G/qpepuLy+Sl55Qt+3oviLP4npv9qpe6zQ//uKNv9ws/7lLfe2bHvbPWbSv7n+6+uvMunynXvXR+dM1j0BB5onzm2sbgt4pj8NBfnlPO+ZPPlKd6l9Nz+7eUc/5t5/tnHW3HGiJfWdZf+MZy44F6fcf/i+sgzjjeP3cdnOhckd2/dy3cZgAAAAAAmIjBQ2R3kLmk3Lt4uZj36G3lNS/dUh7q3Qk9K55j75Xlxm/M/mmpUWJ2iHxJefunm3dD9+6E//Dgh4x8aOtZ5bq9zbefHVMWviyBBUPkz8qPj32n3Phnd5dfv/073ZfMDpF3l9d9vnEKaccjO+8rv3xz32MyxoD5x/tmB8xFA2d8nHvLtkd7f4zXv/lT5Z46Knb9rHzu5rvLG/8qBs/q2XLPf+u9rPvxHywPDBgYf/xXn+r8fV/M/dyWI4bI7vHWP7Q0PLS1cebZgI8T7/+aD9bzvGbFuDn7stnjfW6Qy2roEDn79dfbY/O2eWLvdZ33uW3gwzA/8sHXlLP6btfVUrf54R939O1+wcdd8nvP7LjXPKMwxFmGV34i23W1eIh87sCNZf1LrywP9EbUFR+DJz5Trut8H7/zyd6fu2Yv57nLYawh8iXlNR9Y+PcPvg5mrfjzBQAAAABgzVn5EDlk3GgOO0uNErNDZP8d5R1PfaZsueBl5WUXXFlu+vQj82dD9u4Uj4f7669/dDjtuoNg76FOO/3q23aXax58rDw9t/XFgHh/uaV3omMVg+E59/d/LY237Z0R+UAdGrtnRMYZkr0/Lxoqw1Pllt7Dv/Y3+3c9Xw7evbv82hX3lv9485fL5442BsufHSsP3Hxf+dUr7iuv++jBcvCZn/RekchSQ+Sl984dp899496y5fJ46NXZ4iErRw2R3aFuwPE2N6x967Zy5b9+WXnFpVvKnQceLycGDDOn3RJDZD1jdMFt8+RT5TNb15eXvXx9uXLHZ8oj9czCjgXjbZ8lb/MjPu7w233fx1jye8/icS+M+rxPn8Xf017xlpvKQ41Pc8XH4JDbxZKX5YAhsv+yXOqYWtHnCwAAAADAmjP6oVl7ZzYOtOQY0HeHd8/Clw0ZInuee/Qz5aYrXlPO+q23lwe6bzPkTvGMBg6CTSscIsvPyiO7d5df2xjPDXlv+fW37S7bDjXOqhwxRF7z170/DnPie+Vz93+2+9yS/+aj32k8L2XHM0+Uez66u/xG5+993ecGzQ+n0YghcsFDs8bD+r608ZCRHQvGqSFD5JLj1ckT5fEDd5Ytf/CyctaFN5VD2R5ncuhoNPyhWec8/Uj5zI4ry2teek55++7Ztxt1mSx9m+8Z8HGrxbf7vo+x5Pee6Rsi5z7XOEabD53aseJj8DQOkVN/mwEAAAAAYCKGDJGzz9f2yj/dP/y5u+JO7hU8NGs8rOP8y0YPkdWh7a/s3bE9+3mtH/LwjamscIg8ev/9ox+atTxWtr3tvnLj3wx5nsaBf+8L5YH33V3+zd3DP5sFnnmo/O6bP1s+1/vjAof2lZeM/LpOg2FD5PPxvIDzz3W6+HjsDXF1NBnwcR7/8Ppy1p+MuB0s8Fy59y0Jh/Jho9Gjt5X1L3ljubfxEKD9t9c5X7+xvLL3MZb70KwLb/N9Gh+33/ztvu/jLvm9Z4qHyM6R9tAN55Rzbnho7phb8TF4svP9NYb3Bd9fl35o1tmHz60vGzJEjnho1jVxmwEAAAAAYCKGDJEdT95b3vjys8r6G/aXx+vZOSdPlOcee6rM3oUdI85Z5ZIPHJp7CMXH77iknPX6O+ee/+3EvuvKWXF2T33Y0Mfu7H7M+VFi0BB5ojz+aOPh+k4+Xm57/Vnl7bt7H6R3Vttt36gftPMejz1SHh/vXu9TZ4VDZHnmr8vrNt5fth0+Pvvnnx4tt/zZ3eWc++obHi+fu/neBQ+v+subOm9fz4oc9vd+c1/59c7HvbF+3PKT8uMnjpajcbk9c7QcPFYfjvVn5ekvPVhe8rb95WDnTz8+erQ88qP6cKw/KY/ce3/55f9+sDQfUfO06x8Qu2db3Vbevu5l5TWNQac7sFxwU3mkd2w9t29bWd85HufGqeceKFfG8fjE7B+7nu687KXnlOs+PT/VnHiqc7x1L4DnOsfqU/PH6nP7y5Z/e065qW9HPu36x6YTT5VHPn1j+b2Xv6y88e75Ub859p14ovM1Ns7Ke/zDndv2Wx+Yve13vjdc8tL15cYDvdtgXN5Pzv77Urf54R939O1+4cC51PeeaR4iO56fPY62fbV35K7iGDz0l+eUV177QHmq9/rn9m9ZeMblYzFGd76f1rOE4/3XndW9LGf/tiFDZOfl917a+fmw/aG56+BE/dmwFm4zAAAAAABMxPAhMjx3qNx57e91n0ev+xxfL31Fec3ld5a56eLk4+UzWy8pr3hpvP5lZf21d5ZHGiNDKSfKoR19r9+7rXE21aAh8rny0F++cf7vfPk55Y075u/sDs999bZy5QUva3xON5aH6vCRxUqHyPDEwXLN9feWX46h8Yr7yhvvf6z3MKk/K1/+6H3lN27+Rnn6p90XdF70Qnn6rx4sL6lnTA79e39Wnv76F8vrrukNmPHQru/aVz4Xl9vfPFRed23v7+v0a9c+WO54YnZ8fPrr+8rvvq33Pp1+/V37y5efG3I25unSHSJ7x8vcMXFduW1f3+jUOV4fuHZ9eVnvbS7Zcag8/okrG+PUifLIHVfOHq8vfeP8c6Q+9pmy5dJXlLO6H/9l5Zw/uLLc2x1uHi/3blrfO75fUs761+vLdf8j4dm6MUTWyybq3KZ+b9O2cm9jzA/Nse+5AzeWN/5W7zYWX/PlNy24jZ341p3lugt7l0nnslz/wUfqa0be5od/3NG3+0VnWo783jPlQ2RHjOZn/daN5VD9vrfSY/Bk53L98JVlffdyPau84tIby/6+i+DxT1y38PVf79yelhwiO55/pPPzof7dnfe98LZSj4Kpv80AAAAAADARo4dIkvl2uWbjgPHye18u5wx7KFUAAAAAAAA4DQyRU+XZcse77i7/8b7G+Y4/fbY8cPO95Zff943eWZMAAAAAAABw+hkip82xb5U/fde95Vc33lt+fdPd5Vffdn953Ue/UY7Wh2oFAAAAAACABAyRAAAAAAAAwMQZIgEAAAAAAICJM0QCAAAAAAAAE2eIBAAAAAAAACbOEAkAAAAAAABMnCESAAAAAAAAmDhDJAAAAAAAADBxhkgAAAAAAABg4gyRAAAAAAAAwMQZIgEAAAAAAICJM0QCAAAAAAAAE2eIBAAAAAAAACbOEAkAAAAAAABMnCESAAAAAAAAmDhDJAAAAAAAADBxhkgAAAAAAABg4gyRQ/zCm+9WSwEAAAAAALD2GSKHGDSgaTIBAAAAAACw9hkihxg0oGkyAQAAAAAAsPb9ws9//vOixQ0a0DSZBl3ekiRJkiRJkiRJWlv9wuc///kiSZIkSZIkSZIkSZPMQ7MCAAAAAAAAE2eIBAAAAAAAACbOEAkAAAAAAABMnCESAAAAAAAAmDhDJAAAAAAAADBxhkgAAAAAAABg4gyRAAAAAAAAwMQZIgEAAAAAAICJM0QCAAAAAAAAE2eIBAAAAAAAACbOEAkAAAAAAABMnCESAAAAAAAAmDhDJAAAAAAAADBxhkgAAAAAAABg4gyRAAAAAAAAwMQZIgEAAAAAAICJM0QCAAAAAAAAE2eIBAAAAAAAACbOEAkAAAAAAABMnCESAAAAAAAAmDhDJAAAAAAAADBxhkgAAAAAAABg4gyRAAAAAAAAwMQZIgEAAAAAAICJM0QCAAAAAAAAE2eIBAAAAAAAACbOEAkAAAAAAABMnCESAAAAAAAAmDhDJAAAAAAAADBxhkgAAAAAAABg4gyRAAAAAAAAwMQZIgEAAAAAAICJM0QCAAAAAAAAE2eIBAAAAAAAACbOEAkAAAAAAABMnCESAAAAAAAAmDhDJAAAAAAAADBxhkgAAAAAAABg4gyRAAAAAAAAwMQZIgEAAAAAAICJM0RCJiePlv3v31Q2rJspZ599dreZdRvKpjsOlxO9N0nl2N6y5YLO5zpzbtl079HeC5mcA2Vb7zg4+90Hei/reXJnuaz3usvuctkDnW/Jn91S1s90fm6ct6nserL3QgAAAAA4jfINkc8eKbs/tLlsvHBdmal3wJ89U9ZduKFses/Osv/wsd4bMo6jd13Wuwz7mynnXrC+bNy6sxxwZ2USR8vOy+cHyGabPnm89zanyZe29T6XDeX2J3ovC3Mv73Td3pxj6VQ7M4fIA+/ufc1jdVnZueT3sONl73Xzt61tX+q9uM+xQ7vK9rduKOteVT92fJ/cWLbcd7gcP9l7o4b5769byv4Brx/q+N6yeSbe79yyZf/kbttH9+0omy6Z/9nZ/SWG9+8vR8f53E4eK3uvX99733Eu057jh8vtV9TLdlvniB2icbwO7dKdne+Cg439tTW/J43ROLedI7dctPTbHztYdr2n75dIzoufsbvK4Wd7bzOGY4d3l1u3dj7OBecO/G+gA0+M/i7bvO1s/qzvyGnNfQ9Y1/l+dJp/vgMAAAC0LNEQebwcvuvq7m/y1zvRBreubD/UexeWNHyIbDZTNn7cGVWn3aHt5dx6nZy/uex+7Hg5/uyRcnDP3nJwGXdkt2Luzv2+geL4gbKte0bk+nL1HsfQ5J36IfLILeu7H3PYWHcqTHqIPPrxyxqjzoCv7dnmmDa4mQ3by8G+vWD+++uIAW6RY2X3ptm/a+a6vZ2ffJNwvHOZrZv7XPubuaDz+Y36i44fLNs3NL/+MYfIJ3aXq89v/l0jLocnbi8b5t5uSAOHyGV+bRMeIk98ZVtZN+rtT3b+2+UjGxccX4ua2VC2f230NX384Z3l6vhe2ni/mXXry/oLO53XfPlMWX/NzqHj5vHO1989I/KCq8vuAddhhts3s459ctPscTOzueydzDcCAAAAgJTSDJFxh27zt//PvXxzufW+/WX/vk57dpYd111Wzo2R8opdxTmR42sOkRtv6V2evct0+6Z69ktk4D3djn9y09x1tfnBZGeyzI0Im8veH/VexilwqofII+X2i2c/5ukcKo4dbnyvGtjOsqUOYOdtLwdHnfH3ROdy6vsFl4Vf24ly8D3zQ9fMazeVHXM/e25fMA6d+56Dvffp2b9l9nUX3tq55MZz4kvber9wcFG5/bHeC1dpbtDoNLNhS9m552A5eGh/2XXDhvmXb9o9+GfnY7v6xsRo6SHy+Fe2lw2LfnFoxBDZGAgX/Cxq9pWji86qXvbXduzw4I/daOf19fo+t2z/Wu/9BolftOi7bPpvaye+tn1+qHzVRWXT+3f1/p7d5fZrGj9jhx6nzSFzpqzftKPsPnysnOh/25MnypEvNY7H868uu5tnp48lx+2bnpNHyq2962PdX/R9bwEAAABYQ3IMkYcad+TNXFZufXjIr4afPFaO/sBDjS1Hc4gcdMdjcwCe6R86OKWWuq5Oq7nRazlnfrF6p3iIbHzM1EPFo7eWi3qf50UfGTEBnjxabr803m6mbNq0cfZyHPS1dd5u5xUXlS2Dzuo9vr9sOW/2/c6e6Tv+67g24iFFFzpWdl0x+7Fm3jmphzKeH5fOPm9LWfhIr8fL/uvPnX3dgOGzOSbGmYU731+/B40eIo/cd/Xcz+yZK3aW26+f/feR3x/qaDvu2ZZdK//ahmqMP2dffPuIAXn+46/btGnubM5Bt7Wjd20sF12/e8BD4DY/x5my7Su9FzfM/Qwe9d8+TfEQuu/sDakX31qOjBrh+03L7fsMcuy++n1pY9nlt+wAAACANSrBEDl/x+xqni/r+KO7y46+5/Zad8mmsmPPkYHP7dU8O2PYnfjzDw/Yf8dpHQfmny/v6L7tZWN9bqi+O6WP7ru1bH7L+tkzOrvvF887Nvr5no4/3PdcZa9aVza8dXvZNc4dlQ1Ljlsn95ctvdcv/LyX9zWGZV8HPf3P/RVfa/fh6Ba0o9TzBer1suGO3mfw5P6y/S31/QfcyX3yaNkfzzs695xbs8/7tvlDw587bVnXWTw0333bF34N8bVfGH/H7rLk05r+4EDZuXVj43Jb2KLjs/P1HLhrS+PrObv3XGTDn+9z7ji4fv/sC549XHZed9Hc17fkndI/2ls2x/v3n/k1zhj25OzXN//wgr3n3bvrwPDnrlvJZbqC67lrGZfn/J3Go56382DZXoervrOgTjzRuSzieeSaz4E7c25Z/5YtZedXBn1RqxwiO7eNW69rXPbdv2tzuXVf/zEVD429uVw05BgcODCt9PKux0PzufTWdS7v627tPhzx0k6Uve+sX8/oM3QP/kVvsLn09nJ0//z3/OWNMJ2/77rZ91t0OTx6a1kfLx/3+VEfu703oM4Mff6+ZR8jjYc8XX/LgFmtfo79rz/ROU57Z/vNXH5rOdy56Od/XowYC3+wq2zsfd9Y98695Vjnup7/WTl8iFzwsX/Qe+FSVvq1jXDis5vnjtdRz6E4dyZmDKAPr3z0P/Hg5u77RYuOu87X1/24M53LZDlnN3Zue7MD+9ll430Lj4mB1+Epun0v5+fmwp/jx8uRPZ3/vmj8Xesu2Vxubxzv3f9OuHjh57I9/tui9/qxzH3P7D2na+dn7+3Xzf83S/f7/nt2lyP1g3Z+Tu5q/myO/w677vZyoO/4jYfDnRvmLx/wSwnN8btzvSx4nuX6s7XTco8tAAAAgGlx+ofIxp3po89OGOZ4OfgX8w/RNqiZK27v3sm6wESGyLhj8Xg5cEPzIU47Xb6z9zBxo5/bKlp8VsxSX8/Msu6sWnKIbHwtC8/2GfdrDCu8Dvoun7gTcH3zzvdGM+sWD5ExzNTnw5p/2747uRc9h1lf53e+5gWf1zKvs5NHy87L5weVQY08Y6ujeR0NasH1vdTXM7O+bHlw8Vgx93fEgPzEzrJxwR3Sg8/UWah3PPQP0EuMYUc/OX/m1KBmLthS9vaPEiu5TJd9Pfcs9/J8dnfZVF837GGiG8/1eW7z4faa7zuwQbftlQ+RS1326+L203vbBd+HB9Y3VKzw8h79OY0ehuYc21U29t5n0UOlNsyNA3XkaXzPX94Qebzs3tT7HPvPiKyXW/91M8T8bX3IgLqCY6Q5dG3p/Z7BQo1jaNPu+es8dL4XXH397JgYDtxQb3edy2zYENkRl+3Vtxzufaxjndtr7+OPGiLv2LDk2/Rb1dc2UOMXn0Y9pO/cw/mu6/78W+q2Nsr8Q273f5+dH9Qvq79U07Pol3NiiI5fwnjv7nKkHjdf632f6f/Fp0FDZOu37+X/t87cz/HrdpW9Q983viccHfGxZ8r69y/jIU3nLof1Zceeeh0vbmZD579XHhv++rNfdXXZveCb/4nObad+jjNl0ycX/mQ4cstFc69bfPw0vr+MdQwDAAAATJ/TPkQ272gc94yGpgXPH3VBPLfXwXLk2aPl8Fd2lR1vmb/zaua6vQvv4JnQELn+0stm7wycObdcdt22su2GTp/sfR2NszXijJODTx4vx5+NjpSDe3aWLZdftOj5qZpfz7q37+y8z+xddyeePFhuv6LeSTz+8zkuOUQ2fht/4bg45tfYsdLrYP7MlM510ByWjh8s2+vZA+cvvrN47nq58LJyWffMs5nuc4p2P68bds+P2Sfnz/g5e2ZD2bbvSDkeF+eJOPtiy9yAueD5xZZ5nTWP33Xv7Pzd3bft9OThcuC+HWXTa68e++HWlryuml9P52vesHVn2X/4aDn+2MGy+64tjedru6jc+mjvfXqad05f1juTJp4Lb0v3Mru9HHi294bLNeoO+uZDLr9qQ9ly1/5yuHN5Hjm0u+y8vjFc9z284LIv05Vcz2FFl2fjbLwhD6V38D3DHi7yROfYXV8ueuuOsutQ53PsfV1HD+2cv9N/0Rl+KxwiG5f9zIZtZf9jx7vPOXfi+JGy+/r6SwWL7zBf8hgMK7y8T3xl/qyhGHi7z6X3lYPl4Ff2l13dM6+2jPX8o8Mv34a55/ZrfI0rHSKP7y5X995vdQ+n2hgcFnyvbVr+MTJ/na1fdLufdbTs7N3mu+Nb76WDDP+ZN0rj448YGec/9kxZ1zj7eNTZ/pP82rrqeNdp6C+INH4RYu55+1Y8RHau87f3Pr/+23YdnZsv7/zdu9/e+Jm5rveIAHNnDzeul7lHM9hUdje+fze/1/dfh63dvlfw3zrzx0PU+f57/fz33+bzf9bWvf32sjtuE52fA/s/0vyFhiGj/iD9g+z5G+f/e2Xf7YvH1/j67zvQ+7m1q2zbUK+HAf+9+qP6PSfer3Od1AunnvXaqXu25IDxe36kX8bXAgAAADBFTvsQ2bxjbPAZDyPEHWZzz921uexddD/m8bL3uvnxbsfDvReHCQ2RUX1Yu0Uaf8fmB8e5+7rx9Qx67qe4o6u+fsyHAhx9x2OcyVh/U7//jrUxv8ZVXAfzl+/iO9/mx6hzF42uC+7AHPG8Ws0zUTY/uPhtBt7JvczrbODHWKGl7iRuPizoRUMeprA+b97M2xeeWdH82HE9bB5w1uSKDL2DvvmQy4uH0dA8S+TqPfOf7XIv0xVdzx0rvjw7x0i9k7z/YREX3B4GPHzxMPOfS/9ZU43b4dhDZPMMvkG3ycZ40/dQu0sdg2Fll3fzeOidZbYSx/eWzXUIGToKzn/PWXDW54qGyOaZXoOP4/F1rsve577gTNkxDTtGlj6LcbyhMAz/mTfKcofIYc2UDZ3LpXlkTPJrax4Xi0bBhvp9acFotMIhsvmQnf3fY+Z+xjV+ls/ddjo/1xaM7HOjY+dymDuDvH7tCy+b+dvf4sustdv3sv9bZ+HxcO71+xdc7wueGzRadPZ58xdCxjmjv2fBENn3EKkdzV+O6v63R994Ov/Qyp0G/TJB8xdAYqg9Of8QuiMffvcr9WfK6v87AgAAACCjVEPk+HcO9zQfAnHYQ/Q1zoBYMLQ17jhb3RA5+KyoruadXq/aULbvO9o9K2moxlkFc89/2Gf/9b2P1/8QgUM0L9+Nt+wv+/fNtvuuHWXzJfWOvPh4jd/g7xrza1zxdbDEHcgjRoPmHZiLhqA5zed16z0fVL/G849d9vHex1nuddb5POsdlzMXXF12Hhr2+Sxt9G2hMS4NvT6aY8/CO9qbH3vUw1ku27A76Md5CNPGQ2wuGNaXdZmu8HpezeU5amxsfO7Dj80Bhh7vKxgim2c51+cE7TN/Bk5z2FjqGAwrvLybx8MyBtp+Rz5Sx+sBI0HP0Y9fNnsdnN/5vtJcN0Z8TxkmLo/Z63N5D4k9UOMyWNHHGvL5Lz0e5hgiu8+3994dZeee+Bl0sBx57GDnn7vKjrdeNHeb6Y5fjYfnneTX1hyRhn0PnDtrt380GnZbG2Xu4V37Rs2eg38xe2bv/M/6I+XWC2ffvvmLGV1zf3/za2xjiDxFPzc75q/bxb9sFOrlEw0aN491buf19ePenhd8npsGPAxq8/tU//Mhd83/MsGw72Nzz0sb3zMur59j598/PuK4aXxeY38tAAAAAFNkqs+InP/N/bPLpk8u/s39ruYdS31jR33fYXcsDr8TtDEOjLxT/UQ5+P6+hxh71UVl0/t3l8MDNormQ1Iu3RJ3uvY0L9+hvWpjuX3RWYXjfY2ruQ7mRtWRZ0QuPtthvDvL5+/UHaf5Y2B511ncGdx8KL1o5rzLypa7DpSji+87HWn0ncSN8WvEQxDO33m78MyKpe+AXqFhd9A3B+qhZ381vqYFd/ou5zJd6fW8usvzyC3rey9f+PCgB95dx/0hZ1wdO1x2f2hb2fyW4c+HuvD6WcEQ2fiFhqUbNmIMO05WeHk3H7rxhnG+cw3QPCN82PMJN57bb9G4scwhsvl8lgvOrFypcceGZR4j03JG5CjH9zTORGsMRJP72uIhb5d4SN9BD+dbDbutDdN8jsXzO5/XgIOnXtZzPzfnfoFgwNc69/c3v8b6Pazz9gN/mWDxx2nt9r3sn5t9x1r/8wR3zH+uQ84SXMEvFjSvx8Hfhxrfbwc+6kTjeBv230UnO5dh82zOTt0huvfqgVb7SwoAAAAAyZ32IbI5ZA07C3CY8caVIYPapIbI/nFggOMP7yybX9s4+7DbTLnoul0LHn61+fUs3Xh3+A79mDPnlvWXbCrbY9wZeObCeF/jaq6Doc8RefLI/MOZndf5OvsGnfnrZdRl0Pg7x6j/GBj3OquO7tteLjuv7+3jOTXff6AcX+LMkGr0ZTnkOO4z7GPMv3zAndyrMewO+jFuX53PauSIMN5lutLreXWXZ/PsqrnnmoshYcTDhh79+Ma+O+rXzT7/24LngOu/7huf57hDZOOyX7qFx8PSt+cVXt5jHQ+jNR+atHnW3JzGAHDRew+WY73nV5xrz/wvemze03vZoLG4Y8EI2bkuj415Gx6pcX0NvmxXdozMX2fDHtaxcTs7jc8ROVrjFwMaZ/tP7GtrnH09+CF95x+29dxrdpWj/cfOw7fOnQW44UOHZ1/WfeLEARaMkJvL3gEjW6iX9dzZfnMPv7ph8UOGzv1iTuPyrcdT39c96nt9a7fvnuX83Fzq5/ior6NrlUPk4O9DI77fdo0xRHY0z9aMMz637B9yrMyZ/3tX+v0RAAAAILPTPkQuOHtn2EM4DtE8g7CNMyLnz9jrvyNsqTurBjvxxIGyc+vCswa6zyPUe31zlB33eZaWsvQdj8OM9zWu6joozedf61wW583e4X5ufeizmfWdz3nxxxxviBx2tt3yLHWd9Tt2eHfZsWn9grdfN+bzwY2+rhpnqqzqjMjlDAxjGHbHbuN2vfwzIhcafZmu9Hpe3eXZ+azmH7a1d3be/LA+4GFDG88dFuPE7if6bt9D71QfcTscdtk3zkZd+LyvS1v6+8UKL++xzpAdIR4Ot447cX0NGgYbl8fYDfjetvBMyP1j/yLBkhqf38DLdoXHSPN78OBHFWgcQ4Oe167h9A2Rgz/GpL62+YfLHPaQvo2PM26Dhqi+MyH3P9t7+QD1sp6/7c5fBhe9/3DvZR3NX8w5++qyu/sjcf5n59wvQvSM+l7f2u27zzg/N9fsEHms89879b9hap1jYdBZsXMaD6c97L9HAQAAAKbZ6R8im4PAoIfTG6U5dkz8OSKbn1f/HWFL3Vm1hGf39x4Crvex6xkTzTvrJ/Q8fkvf8TjMmF/jaq6DEHeyXt77e3rFILlx685yYMgd4eMNkeM8B+AyDLvOhnns9rnnB1vJ83kuvq6az921mueIHHKn7koNu2O3+TyFy32OyGEGXqYrvZ5Xd3mG+TP04qEeOx/vnb0zgQYMZfMP5Tp4UGkOLguv+xG3w2GXfXP4X+Yvdyz9/WKFl/cPGiPhMj+nsODs6WF31E9giJw/I3GmrL9hAg/H2tS4DOafq3Teio+Rxtc9cHge65cCZp22IfJk5zivt+0Nt88PPJP42hpnKg8/i61xOxu3/o/1xM6y8VWzr5u5YInhqaOeNTfTOAaPd/67pI7R9Rdz1sXHnLms3HrL7G2g+/ILzp09Ts/v/D1935dGfa9v7fY9zIifm2tziOy8/vJ6RuhlZcdd89fnyId3bnxeY38tAAAAAFMkwRBZyrFPbpr/zfnzry67Bj1/U7XgDv7DZUe9k2tmc9m76F6e+YdbW3QmROMOzEF3jB/fv2VuPFt8R9iYI92IM2mO3rFh8ceOs37q2QgznZf3PTzbSix9x+MwY36Nq7kO5u60m+k+VOK4xhsim0PREncCNi37Ouv9c4D5M2rHu3N+qevq+J6r524nFw25U74+XGj/Mb3knborNfSO3eNl99vr9X7RwIdVPHLLRb3Xn1023tf4bJd5ma7oeu5YzeXZ1Rg4Nn1y99yQ0n+GUpg/s7JzG1j0yxbHyu5N9bLqv+5H3A6HXvbNAXVd5+ONf9tqjl3Dzspe2eV9pNw+97xpIz6ngdd9433je8yQh1Nd0hLDRXOEvOyWw2MfR+PrXJe9Y2TQqLbyY6Rx+Zy3pexf8Ikf79xmGh934NmA81obIn90rBwdcXZgfH+qt8V1zbMBJ/C1HflI/T4z5CF9x7HUgNUcIS+/tRwe5+Cp/w0Sv1TROO67D296SX1u0Jmy7i3by/7ugHe8HHz/Zb1HDIiHO91ZDg+4TEd9r2/t9r3cn5sdrQ6RTx4su+7aWfY/2vfZtzxEHv34/HF8WfepBpqP+jDi+95XtvXeb9BtHwAAAGD6pRgiy8nmb5FHM+Wit24vO/fsL/v3RbvKrTdsKZsuPrfM9N35c/zB+TNlzj5/Y9lx38Fy5Nnj5cihXWXHWxoP+9n/cJrN0a/z9224YVc5+NjxcvzJw2X/XVvKhnoGRbf+O8LGHOm+tK3MvDaeh3F/Ofxk52P/6EQ5cfx4OXpo5/zDt/WdPbXg63nVhrK99/V0n5Oq87kduO/WsvnycwfekT7IUuPWcOMOkau4DubuFDy3bPnsoplnqHGHyOZzxsV1vP6a28v+w0fnnvfryKHdZed7NpWLrmgcU8u8zuLyPffyzeXWej2d6Lx9fOx92+aPoTHPAFvyuur7ejZcv3P261l0zC4+s3jJO3VXatQdu80hb2ZD2dK7TI8e3l92Xt942L7zF94Gln2ZruR6Dqu4PGc1zoKM5/Drvu3gy7f5sMsxVBzsXA4nftT5/B47UG5/+/xtJFp43a9kiOxYcNmvL1d/pHc8dy+TI+Xgnp1l+1svKhv7369xVnb8UsjOQ3E5dt6+8334SB09Vnh5L/g+0f2cdpf9hw52P/buu7aXTa+dGXzcN86oXtWZ4iOGizjm6ud27qZby97uz50hHR7/e9VCxzo/53pff+d7Yf8ksfJjZOFlO7NhS+dnZ+dyPbS/7Lph/nY2c/ni4aRfa0Nk91iNUW1z2XFX53qvl2Uch82HXR7wyyyr+tqaP+eHPaTvOEbd1p7ovK5+rzh3U7n1wcaxsqjDjZ8F85fb7Gg1GSO/17d1+17Bf+u0N0TOD/7xvXvHw70Xh1HXY9cqhsjmcXDxrfPPiXl8f9kydwz2j+mz5p9TchW/aAEAAACQWI4hMpw8WnZfs/B54AY24LfQj9xVz2QZ3MyG7eXgoDt/GmdELer8beXAnnpHV/8dYeMPkQs+5qIG/Yb88XL4I6O/nmjgHfYDzN+ZN/77zBp/iAwrug5OHim3b2gO0H29al3Z8NYdZX/fnZBjD5HhB3vLlgtG/B1R85ha5nXWvHwHtowzW8e6ruKh7kZ+PevK1Z9cfAfrknfqrtQSd+we37+trJ+7U3hA519ddvddPiu6TJd7PVcrvDznNEaybsNG5+ZzHPbXfS7UvXN3ni+6U72+3XKGyI5jD24Zfdl3Wvx+/b8UUus7blZ0eR8vB/9i4fPG9bf4uG+e3bnKY3fUcNF7+ViN8f1wmLmHX+07C65rxcdIOF4O3DDi5+eA29kg7Q6R9W2G9KqN5faHB/ygXsXX1jy7b/DwNKYRt7X5y2yc+i6fuecFXVc2P7jSgXuh0d/rW7p9r+C/dVobIpsPC97/uraGyAW/TLf4EQCaj7Axc93evl9CaDxM+KCfUQAAAABrQJ4hsuf4o7vLrddtLOvXNe8EmynrLtxQNm29tezuf6it6sn9ZcdbN8w+n1J9n0s2lR17jpTjI86COP7wrrLlLet7D3d2dpk576Ky6f27y5H4a+ae06v/jrAxR7rjR8ruD20uGy+c//jdv2Pd+rLxulsXDWwLPHmg7Nzadzm8al1Z3/matt91oBwd88yOscatgZY3RHYt9zo4eawcvm/z3HMoDa1veFrWEBlOHi9H9uwomy5pXg8z5dwLZq+HBcfUcq+zH3Sup/dsKhsurA+lVz9253h9z66BD503zNjXVefrOXzflrKxPk9Yp6WeV3PJO3VXask7djuePVx2xbF8Xj2W4/LZWLYMO45Xepku53puWsHlOa95ZvXwhzvsOj57OczdPhYM7fN3Ri+87lc+RHY92zme39+5LBtf29kz55b1F24smz/U+T436LLs/zzj7d+yvRzof9sVXt7xPXd73/eJ7nVbv+82Nc7snHnnGM8jOkqCIXLu4Tg7X/PA2/iKjpF5R/fF9TF/u5lZN+RyHaK1IbLj6JfiLNwNC3+mxbE15s+0ZX9tzTP7VvOQvqGtIbJjwfOSbtpRdh8+Vk4MuCxO1EdEePfoM+yX/F7fxu17Bf+t09oQGcP1ey7qXqYzl9xaDjav95aGyKN3zP/svmjQw3x3Pqf5hxGeKZs+2bgGGw/xPehhvQEAAADWgnRDJGeI4wfmzkSbuSQebq//Iex2lVuvaTz03g2ruPOf9owzhgE98895uOphlTXj+MO3l01zv6jROz7WrS/r4yGfF/xSVidnza0p82ftbiy7JnNSLAAAAEA6hkhOi4N/0Ts74MId5fDQM2GOlts39O58vXznyLNAOE0MkbAsJz5bn/NwwmcnM91OnuieNbojHhGieQZzpxglN7x1S/d5c49ar9eOxlm75777gF9MAAAAANYsQySnwZDnWeoXz5nWe9hLZ0QmdWj+ORINkTCOY2X3pt7Z4IueLw44Uxz75KbZwXlmU9ntN60AAACANcwQyWkxd0bk2evK5j1HFj4n1skT5djh3WX7JfUh6S4qtz7aex2n3bHD+8vBx46Xo53raNuGeh0Nec47YLFju8um7vPCnVu27DdFwhnneH1uyHWdn52+BwAAAABrmyGS0yOeI/L8uBNuiWbWly0POlUgkwPvXnw9zVy+sxwd+hC7AAAAAADAmcgQyelz8mg5cNeWsvHCdQufD+u89WX9WzaXHXcd8HxYCR187/qy7lW96+tV68rGrbvKYSd0AAAAAAAAfQyRAAAAAAAAwMQZIgEAAAAAAICJM0QCAAAAAAAAE2eIBAAAAAAAACbOEAkAAAAAAABMnCESAAAAAAAAmDhDJAAAAAAAADBxhkgAAAAAAABg4gyRAAAAAAAAwMQZIgEAAAAAAICJM0QCAAAAAAAAE2eIBAAAAAAAACbOEAkAAAAAAABMnCESAAAAAAAAmDhDJAAAAAAAADBxhkgAAAAAAABg4gyRAAAAAAAAwMQZIgEAAAAAAICJM0QCAAAAAAAAE2eIBAAAAAAAACbOEAkAAAAAAABMnCEykRdeeKFce+215Z577um9ZN6jjz5aLrzwwvLqV7+6+8/4c9P27du7r4vi35vq6+Jjx98R4p9bt25d9HEAAAAAAABgEgyRSTzzzDPl0ksvLVdeeeWiITJed9VVV82NhvHP+HO8PMTbN8fH+Pf6MeJtb7755u6/x8sPHDjQ/ff456DBEwAAAAAAACbBEJlEjIUxGsY42D8Qxmg46CzHePmgMxvj3+Nl8brm4Fg/dgyYcXZkHTIBAAAAAABg0gyRyQwaIuPP/UNkc1Rsni0ZmkPjoCEy2rNnT/cMzHjI1nibYS677DJJkiRJkiRJkiSdoa2GITKZOhQ2DXtZjJODzm5sjpNR86FZ77jjju7ZkvHPGCDjbePl9bkj+8UB9sKJn+g0d/zJJ8vus86SytfefvXAY+RU9sXfu7jsfeUrdYb31as2DTw+TmWH/vT6gZ+bzqw+d95/GHh8nMr+ZufHB35uOvN6+tvfHniMSJIkSZI0rRki15hRo2NTfbvm6Fj1j5PxvnHmY7wsRsgYIOtDwcYAWQfNQQyROTJEqmaIVJYMkcqSIVKZMkRKkiRJktZahsg1ZtAQGcNh/xAZf46XL/UckU3NsyMNkdOVIVI1Q6SyZIhUlgyRypQhUpIkSZK01jJErjGDhsj+sx7jn/HnOh7G2zeHyvj3/o/RP1jG6z006/RkiFTNEKksGSKVJUOkMmWIlCRJkiSttQyRa8ygITLEgHjhhRd2H2I1/lkHxSrGxHhd1Bwlq/6PGwPkpZde2n37GCSHMUTmyBCpmiFSWTJEKkuGSGXKEClJkiRJWmsZImmVITJHhsjV97/+T//TmuiXXvSi8g/+wT84rf39//l/Kf/b3/k7OsP7+wmOxV/6e39v4OemM6y/+3cHHh+radDP4lEZIlUzREqSJEmS1lqGSFpliMyRIXL1xYj3//vf//ep75/9w39Y/vk//+entX/6a/9n+Sf/x/+hM7x/muBY/Gf/6B8N/Nx0hvXiFw88PlaaIVKryRApSZIkSVprGSJplSEyR4bI1WeInFyGSEWGSKXJEKlEGSIlSZIkSWstQyStMkTmyBC5+gyRk8sQqcgQqTQZIpUoQ6QkSZIkaa1liKRVhsgcGSJXnyFychkiFRkilSZDpBJliJQkSZIkrbUMkbTKEJkjQ+TqM0ROLkOkIkOk0mSIVKIMkZIkSZKktZYhklYZInNkiFx9WYbIf/8bv1E+c++95Y4dOwa+fqnOpCHy3g9/uHzq7rvLv/i//++Br9fyetUrXlH27tpVPnrTTQNfv9zW6hA56ctJpyBDpBJliJQkSZIkrbUMkbTKEJkjQ+TqW2qI3Ps//kd54Qc/mOvH3/9++f63v13uvOmm8tL/6/8a+D4r6cJXv7p856//uhx48MGBr1+q1Q6RV155Zfn6179eXnjhhfLzn/+8/OxnPys/6Hy9t956a3n5y18+8H36O1VD5Nc+//nyyFe/Wn77Va8a+PrT0dve9KbyaOf6e/pv/qZcdemlA99muT38pS+VE3/7t3P9qHPsPfHww+W9//W/Dnz7lfY7/+E/lCOd6/4re/cOfP1yW+4Q+ad/+qfl253b1E9/+tPusRf/fOKJJ8q2bdsGvv04tTFETvpyOpVtuOCC8tf79pUfdn5m/PfO5d3/+ivf8IbyrQMHusfYC089VQ5/5SvdlzXf5tyzzy4P3ntvOX70aPd4fOo73yk33XDDgrf58Hvf2319fJxP33PPgl8W2LxpU/le53rees01C95nUO/YuLH7tjs6x0D8+fYdOxbcFmqfve++Re8bffKuu8rRb32rvO7//X/Lxz72se5x1d/+/fu7x0r898z3vve98mDne2//cdSfIVKryRApSZIkSVprGSJplSEyR4bI1TfOEPnEN75RrrvyynLlJZeUq9/85vL5++8vPzx6tNz+vvcNfJ/T0WqGyK1bt5bnnnuu/O3f/m254447ytve9rbuyw4cOFB+8pOflC984QtjjZGTHiJjaPzml788cDjJUgwtO2+9tTz33e92h49JD5ExCMXHi/7LW99avt65LuLvuuGd7xz4PhlazhD5wQ9+sPz4xz8ujz/+eLnpppu6x94NN9xQvtW5LGOQvOeeewa+31KtdoichmNv3GIsjNHwB48+Wp594olFX9P6c8/tjuiPd77Pbbn66u4IGF/73xw6VF63fv3c2z3wsY91j72PdL7vxfEYY98znett+5Yt3dfH28b7xHi4Kca9b3+73Nj5PhKvi9vJX+3Z022pM5nj9Q999rPl4P793bNQ42UxRH73m9/sjpn19hD93n/8j4veP76eGIy7I+WLX9wdIuOXKq6//vru8VV73eteN3e8fPjDH+5+D3xn53bVPI76M0RqNRkiJUmSJElrLUMkrTJE5sgQufrGGSL/5uDBctG6dXMvi4dRPXzgQLf49+bbn65WOkS+9rWv7Y5AT3aOpbhd978+hqA4S/L973//otf1N+kh8rqrruoOKJnHoI2ve113xLnlPe8pd3Quo0kPkVHzZZf+7u+WJw8fLl/81KcWvDxT4w6RmzZtKs8880z55je/WdZ1bl/N18XwHQP4D3/4wyXHoUGtdoichmNvnGKUi1Hxnttu6w6GcXz2f03ve/e7u4Piu/7zf5572RWXXNIdLu/+0Ie6f67H3Z6Pf3zubWIwjLMs4+PHYLht8+bu28T7xuvj2I2xMv49zoKM1/3nK66Ye/9hxRh67LHH5kbMKM7EjJEzzkptvu2g4uuI66779bz4xWVf53OM728XX3zxwGMlilEyzorcu3fvwNfXDJFaTYZISZIkSdJayxBJqwyROTJErr6VDJHRlz71qQUvj4dp/cCf/3n5wSOPdB/C9bknniifvvvucs5v/mb5o9e9rvvyez70oQUfow6aX/3sZ8vr42yizseLv6++ftTHjNcd2r+/W/x7HSIPHTpUnn/++e7DXdY7zz/wgQ90B513v/vdcy+r/eVf/mX3jLQ4E7L/dVEMld/97ne7H7e+7JHO5xM13y7uyH/im99a8FCJ//pf/IvuABJnYcXDKMbYEWcP1jOi4p93dT63GA3i4SCjGD/ijKp4u+e/970FD8NYR7n+gS4+TgyB8b7xMeJhIeNhJpsPLRlnTsUZX/Fxv/DAA3MfO/7u5sNLvrZzfX7p05+ee/jJ+Fjffuih7uBY32ZYcdZW20NkPDxmPCxt8+WjLucYheJrjOfVbH6cGI7i64oh6ZILL+xeNuNed/WybL59nEH4na99rTs2Xfb7vz93XNx///3dsTEe+rd5vEQ7d+7sHntxBmT/66I//uM/Ls8++2z5dOf6iD/Xsag+pGYtzm6L4zvOfKsve33nuP3q5z4391Cj8fnGGaX18x11PQ879gZ93eMcezH8fb9ze/nLd72rO1rXY73/4U/j3+MswPgY8XfGw6jG1zDO+DZO8XkMGiIHjXzxdcXAGH9//DlGxr89cqT7z/o20Z0339z92t/8B3/Q/bjx9dWzFON2FpdVfKw4zpqX26hivIzjKMbP+rJ43/7bwrBiLI0zImOEjSEyjpf+71eDireL46t5pmR/hkitJkOkJEmSJGmtZYikVYbIHBkiV99KhsgYAr/9la+Ur3/+83Mvi8EwHq71E3fcUdb9239btl13XXnq0Ue7w2EMhTE29p9Bee0VV5RjR46UD27f3v34/UPkqI8Zr7//ox8tR7/5zfKGCy/sDpEx9jz99NPdh7SMAajeeT7qDvZ4uxhxYszpf13ti1/84oL3H3eIrA/lGM8bFwNa/DMGrThzMF4fZzzFn+OhHuP1MYh96MYbuw8NGa8fNpz0D3Tx8WI4igHjjRdf3H2+xhhRYiCpA2IdkeLt4uEh4+Vv2bCh++/xd9QztWI8iYdYjYeAnHn5y7sf66M33TQ7avT+vmGdiiEyvr54yMsYj+rLRl3OdQSKka0+zGUUZ/zF5xqX96CBbanrLgaq5seMs9ji9fE+O/77f+8eE3FWYzz3YzTooX0f6rz/qOEn3ufRznVYj7V4u3GGyBjPjzz8cPdrius1Rse4nuN4eOsb39j9fJe6ngcde4Mup3GOvfgYMXjWYz0ewjRG0fhY9WzCKP49xskYj+Myf+cf/3H37eM6rH/fahp2e4rxc9DIF19njMsxMsf1H2cp9h/b8bFi6I7rf9gZkfE28fKr3/KWBe87qDqAxufUfHmcATzoc+yvXkdzZ26++MXd42ycIXLUL2zUDJFaTYZISZIkSdJayxBJqwyROTJErr6VPEdknA357OOPl/+2eXP3bc7/d/+uPPrVr3bHxhgd6/vu/tjHyve//e3yposv7o6KTz/2WLn+bW+be30MifX1/UPkOB/zz9/5zu6QGf+MITLuSI/neYyzF+v4c95555XHOn9v3Bk/6I71cc4CirdpjpXjDJFxhlSMMYMeyrGOGzHcxYhRh4v+hg0nzYGuPh9cnN3WHGzqmYD1oSHrQDF3plTv7WKYir8jhpb4c3zc+BxXMv60MUT2P0dknG0XX1cd1Ma5nOOMvRjBYiyqbxOXS7xfvH//wDbOx4wBLs6Q+//+8A+7r48zLuN1cbbm53bv7h4Tb3rTm7rHY3MUbzboOOovXl+Pz3GHyHi+v+M/+MGihxptHg9LXc+Djr3+y2ncYy8+RoyVzcszirMJ4zKMt180oLXQOLenZvF1xucUn9uwY7v5MQc9R2T8ezyvaQzbMfTG5RBnfO7euXPgZf/7v/3b5YmHH14wtEfx+dWzW+Ns0Rh243KPkbn5dvHLDTGYzh3rL35x9xiKX8742c9+Vn7+8593H2r6q53j9A86x3nzOLrmmmu6zxMZx0/z5c0MkVpNhkhJkiRJ0lrLEEmrDJE5MkSuvnGGyHhY1GaPff3r5a2XXz73NjFQxiD4kfe+d8H7vvdd7+qOj+++9truWYtx9mKMj/G6OjT+1e7d3T/3D5HL+ZjxkK8xRH75y1/unkH20c7fEWdGxhmSV199dffhLYfduR6jzve///1ySefvG/T6aCVD5LDRIwarOr7EmBaDTTxsZQwdcRZY822HfYzmcBIfI0a2eP/m2/S/XR169t1//4K3iWEl/o76/jGwxeAR7/dn73jH0KFqUOMMkfHx4sy5Oi7GWXPxMKiD3jY+h+bDg0bf+OIXy4YLLph7m3Eu5/r8fnUYqw+jWp9nsn9gG+djxhmV8e/x/IL1bL44yzD+jjgb8cLOsRkP+xvH3rAzzOIYiuN10NmStZUMkfH673beL76u+rnH5xhncNYz7Za6ngddBv2X07jHXnyMeLv3XH/9grfpP15ifIuh7it79y559mAcM3Hs1OMojqmljtVh12vzc2223CEy/hzDY3ytcdl++p57ug97/N3O96h3X3dd959/8Wd/Vq75oz/qno3aHIpr8fHj4/Vfppe99rXdYy7Omo5u/vM/7x5/MdQ3v2/EMbjg7N8Xv7i8+c1v7j5U9eWd79nRhzrfL2NwPNJ5/+Zzk8ZDAcfLmw/x258hUqvJEClJkiRJWmsZImmVITJHhsjVt9yHZv3knXd2n7Px7W9609zbxBmJ8RCq/YNlFC+P18fbff7++8t3/vqvywW/9Vtl6zve0R0a/2LLlu7r+ofIcT/mQ3v3lniI2N9fv7470sTZZ3GH+rFjx7pnSEZx53rzOSObtfXQrDEk9I9oteagEaPa3l27us9FGCNM/Puoh8eM+keeQW/T/3b9I1Jt0PDxp53LIt4vxpQYSuOMwnEGyWFjTbP6eQy6LPprfv7x9z/02c/ODUP1bca9nGOgqWeDxgAUr4uzx+J1/ZfNOB+zjpkxnsVZkXEGZYyS8bGfevzx7vEWx1acERlnRjaPlVpbD80ab//T48cHfv718oxGXc+Djqv+y2ncY2/Y2/UfL/F3x1AX19OPO7fzGO5iJG2+Ty3eJ963fl39x8Wghn0eox6atT535KiHZo2X9z93ZBQDYZzBGwN2vF08f2Sc8RhfZwzXcUZo//vUr6t5exxWPKxwPBRw/bvr4H73hz40/3YvfvGCY6UWz4kbz0/6ns51Xl9Wjy9DpNrKEClJkiRJWmsZImmVITJHhsjVt9wh8rLf/d3uWYj7H3hg7iFT//gP/7D73I3x8KvN9+0vRscYH2OEjIdYbX7c/iFy3I8ZZ0PG57Oj83bPPPNM9+yzGHDioVlj6Nm3b1954oknumeoDbpjPc5aizvk4475Qa+P59v77ne/23241/qyQUNkjE3fe+TRuZEmzv6KM5aaDwc6qjjDK4aJGBZiNIuXDRtOmiPPcs+IHGeIrMVIGg//GANpHe1G1T8srbbm5x/F8xnG1xrDTn3ZuJdzfP7xucVQGA//2Ryu+i+bcT9mnFEZZ5/d1jmG4qzW+jCvT3SOvRghv/Wtby04bvrbuXNn99i74YYbBr4+BvU4o/LTnesg/jxsiIzR8/nnn58bkGI4f6xzm4ixdNDn3d+g63nQsdd/OS3njMhBx/Go4yVeFmNdvL4+f+lqG/Z5xJhcB8f6sjoW1jNIY+yLY6J/cGw+vGzz5VEMu3F5xUO2xtfaPObisum/LUbLGSL7v574++JzWXB5DRki4/tejNfxz/oyZ0Sq7QyRkiRJkqS1liGSVhkic2SIXH3LHSKjj77//d3niKxnJcYZjnGmY3OcHFR9u099/OPdh2WNMbK+rn+IHPdjxnNOxhmaf71//4LBMYagGG2OHj26aLhpFkPj452v5cnOsRS36/7X33PPPSWeU+39na+5vixGyP6H1Iwx6Yedv6+OCzFMxFlyzdFsnOKhU5cacJojTz0zr//5/uLvbz5PX/+IVFtq+KjPWTfOMDJqWFpJza+zFp9/fF31oTvHvZzr8xnGw2XG5dV8LsL+y2bcjxnDT3wu8Tl+9XOfm3v5l+LMzc4xFWdDxthYj5H+NsWw+swz5Zvf/OaCh8iM4tj6whe+0B2L3tm5ncXL6hAZQ2PzbWNEP3ny5NyAFH9+pnM8x3Db/HxH1X89Dzr2+i+ncY+9YcfxUsdLDJ1xPfS/30ob9nk0R+r6snoM1LMLY0yMh1Md9LyhMVjOPRRqrzje4gzIetZj/J0xdsZZi/VhcgfdpvofRnhUcUZkfN7xkK31c4mHLm5eF6POiIxjq3mmeDxHZLzszjvvXPC2zQyRWk2GSEmSJEnSWssQSasMkTkyRK6+lQyRMRI+8tBD5Vtf/nI55zd/s/uy29/3vu5Dpn52167u2YzxHI9x5uO9t93WfT7I+r4xPsZZkXG2Y7y+vrx/iIzG+Zj1/X74gx+UvXv3zt1hHmdGxp3qcaZYPDxr8870/v78z/+8+7YxHN1yyy3dh7rcvHlz9zknf/KTn3QHoebouGfPnu6ZbHfddVd3+Ny6dWt3IHqh8/7NoS/OtPph5xj9Hx/5SHdsif7yXe8qH+v8HfH6/3rttd1/j+e3izMi42Eo48y6ekZknNkUQ0OMkzH6xFgUL+8f6GIQi7PZYryIt9nU+f4U40gMKfE8evE24w6R8fnE5xh/XxR/jrM0M5wRGcXXE1/XX3Wugzq4LHU512JEis8vzhprjk6DLptxPmY8JGsMbnH5xChUX37re99bfvSjH418SODa7bffXk6cONEdLuNhMuPYi+Pp4YcfLj/96U+7Q3jz7b/+9a93P+57O39HHHvxzzhr8mc/+9ncEBmDZZyVGcdSDGDxuceoF597HHPxOS51PQ869gZdTuMce8MGwObxEn9HXNZbr7mm+5Cm8XfFwxQvOsNvFQ37POLviwEvvrY4C/YdGzd2v4YYBP/woovm3m7nrbd2H0L5I53vS/E5x9d8vPP9KZ4XsvnxohggY4isD7McZ8vG0BsPPRsDcVw3zWOwVkfK5rAdl2OcfRvXVz0W4/qKzyUuo7gd1OG0eRx23/f1r++eGX7TTTd1j63o3s6xHcdn//e1+D4Z3weHPadpZIjUajJESpIkSZLWWoZIWmWIzJEhcvWtZIiM3vdf/2s5/t3vds+OrC/7y61byxPf+Eb58fe/330ux2diyPjEJ8q//43fmHubOIMxzqY8fODAgpcPGiKjcT5mPE/kj48dW/Awg/UhVWO0iYccbN6ZPqgrr7yyO/LE2Y8///nPu8XAc+utty64sz6Ks9fizv0YiuLt4u+Is4i+2fmamiNNDAR3feAD3bHqhaee6hbPJxeDS7w+BpEYD+Ll8Tx3MWrECFnHiyjePwaHeJs44yleNmigu+mGG+Y+VjznXzw33ZVveMPc68cdIuOMwfj74vOJjxWfezw/3oKzrIZ0KobIKM5UjJGwDkpLXc61GJlibIuhp3kG26DLZpyPGeNZnBEYL49Rsr78yssv7x47cZbtxRdfvODYGVSMlfFQwvV4ir7fuQ63bdu26G3jZ0/3OSA7bxvjY4znH/zgBxc9t9/v9R5uNY6puC7jmIghrD7c7DjXc/+xN+wYWurYGzYA9g+RX37wwe71Wj+neI7IG975zgXvs5qGfR5RnPH4tc9/vvv5x98dX+c1f/RHC94mLpv77rhj7nKLh6WNUbL/thEfK94/Rtrmy+Pyjesj/o7dO3cuer9aDJwxgsbZkfHn+H4QQ2T/9RVjZPwCQ7xNDJBxHcQg2fxY61/96u73qhge47iKYyaOzRgjZ2ZmFhxb8YscT3U+dhxjzZc3M0RqNRkiJUmSJElrLUMkrTJE5sgQufqWGiKnpX/2D//hwDvOV1J9WMw46/F973vfwLcZ1D/9tf9zwQigM7N/uopjMUbueKjWGIvirNxBbzNO/+wf/aOBn5vyF2dKxmA6zlnISzbkoVn7q7+4EWeBD3p9zRCp1WSIlCRJkiSttQyRtMoQmSND5OozRA4uBqEjR44saxAyRCpazRAZveUtb+me6TjseUvHyRA5vcWZknEG6sH9+xc99+SyG3OI/PCHP9w9s/v6668f+PqaIVKryRApSZIkSVprGSJplSEyR4bI1WeIHF4MkPUhNscZhAyRilY7REZxJm48THCcHRmj+KC3GZUhcrqL56n83re/PfD5J5fVGENkfG+Lh/Z98MEHB76+mSFSq8kQKUmSJElaaxkiaZUhMkeGyNVniJxchkhFkxgiV5shUt3GPCNy3AyRWk2GSEmSJEnSWssQSasMkTkyRK4+Q+TkMkQqMkQqTYZIJcoQKUmSJElaaxkiaZUhMkeGyNVniJxchkhFhkilyRCpRBkiJUmSJElrLUMkrTJE5sgQufpiiFwL/dKLXtS9k/x09vf/5/+l/G9/5+/oDO/vJzgWf+nv/b2Bn5vOsP7u3x14fKymQT+LR2WIVM0QKUmSJElaaxkiaZUhMkeGSNW+9varBx4jp7Iv/t7FA+981ZnVV6/aNPD4OJUd+tPrB35uOrP63Hn/YeDxcSozRKpmiJQkSZIkrbUMkbTKEJkjQ6RqhkhlyRCpLBkilSlDpCRJkiRprWWIpFWGyBwZIlUzRCpLhkhlyRCpTBkiJUmSJElrLUMkrTJE5sgQqZohUlkyRCpLhkhlyhApSZIkSVprGSJplSEyR4ZI1QyRypIhUlkyRCpThkhJkiRJ0lrLEEmrDJE5MkSqZohUlgyRypIhUpkyREqSJEmS1lqGSFpliMyRIVI1Q6SyZIhUlgyRypQhUpIkSZK01jJE0ipDZI4MkaoZIpUlQ6SyZIhUpgyRkiRJkqS1liGSVhkic2SIVM0QqSwZIpUlQ6QyZYiUJEmSJK21DJG0yhCZI0OkaoZIZckQqSwZIpUpQ6QkSZIkaa1liKRVhsgcGSJVM0QqS4ZIZckQqUwZIiVJkiRJay1DJK0yRObIEKmaIVJZMkQqS4ZIZcoQKUmSJElaaxkiaZUhMkeGSNUMkcqSIVJZMkQqU4ZISZIkSdJayxBJqwyROTJEqmaIVJYMkcqSIVKZMkRKkiRJktZahkhaZYjMkSFSNUOksmSIVJYMkcqUIVKSJEmStNYyRNIqQ2SODJGqGSKVJUOksmSIVKYMkZIkSZKktZYhklYZInNkiFTNEKksGSKVJUOkMmWIlCRJkiSttQyRtMoQmSNDpGqGSGXJEKksGSKVKUOkJEmSJGmtZYikVYbIHBkiVTNEKkuGSGXJEKlMGSIlSZIkSWstQyStMkTmyBCpmiFSWTJEKkuGSGXKEClJkiRJWmsZImmVITJHhkjVDJHKkiFSWTJEKlOGSEmSJEnSWssQSasMkTkyRKpmiFSWDJHKkiFSmTJESpIkSZLWWoZIWmWIzJEhUjVDpLJkiFSWDJHKlCFSkiRJkrTWMkTSKkNkjgyRqhkilSVDpLJkiFSmDJGSJEmSpLWWIZJWGSJzZIhUzRCpLBkilSVDpDJliJQkSZIkrbUMkbTKEJkjQ6RqhkhlyRCpLBkilSlDpCRJkiRprWWIpFWGyBwZIlUzRCpLhkhlyRCpTBkiJUmSJElrLUMkrTJE5sgQqZohUlkyRCpLhkhlyhApSZIkSVprGSJplSEyR4ZI1QyRypIhUlkyRCpThkhJkiRJ0lrLEEmrDJE5MkSqZohUlgyRypIhUpkyREqSJEmS1lqGSFpliMyRIVI1Q6SyZIhUlgyRypQhUpIkSZK01jJE0ipDZI4MkaoZIpUlQ6SyZIhUpgyRkiRJkqS1liGSVhkic2SIVM0QqSwZIpUlQ6QyZYiUJEmSJK21DJG0yhCZI0OkaoZIZckQqSwZIpUpQ6QkSZIkaa1liKRVhsgcGSJVM0QqS4ZIZckQqUwZIiVJkiRJay1DJK0yRObIEKmaIVJZMkQqS4ZIZcoQKUmSJElaaxkiaZUhMkeGSNUMkcqSIVJZMkQqU4ZISZIkSdJayxBJqwyROTJEqmaIVJYMkcqSIVKZMkRKkiRJktZahkhaZYjMkSFSNUOksmSIVJYMkcqUIVKanuL2+uU3XCp1f44POkYkSZI0myGSVhkic2SIVM0QqSwZIpUlQ6QyZYiUpqe4vQ66HevMyxApSZI0OkMkrTJE5sgQqZohUlkyRCpLhkhlyhApTU+GSNUMkZIkSaMzRNIqQ2SODJGqGSKVJUOksmSIVKYMkdL0ZIhUzRApSZI0OkMkrTJE5sgQqZohUlkyRCpLhkhlyhApTU+GSNUMkZIkSaMzRNIqQ2SODJGqGSKVJUOksmSIVKYMkdL0ZIhUzRApSZI0OkMkrTJE5sgQqZohUlkyRCpLhkhlyhApTU+GSNUMkZIkSaMzRNIqQ2SODJGqGSKVJUOksmSIVKYMkdL0ZIhUzRApSZI0OkMkrTJE5sgQqZohUlkyRCpLhkhlyhApTU+GSNUMkZIkSaMzRNIqQ2SODJGqGSKVJUOksmSIVKYMkdL0ZIhUzRApSZI0OkMkrTJE5sgQqZohUlkyRCpLhkhlyhApTU+GSNUMkZIkSaMzRNIqQ2SODJGqGSKVJUOksmSIVKYMkdL0ZIhUzRApSZI0OkMkrTJE5sgQqZohUlkyRCpLhkhlyhApTU+GSNUMkZIkSaMzRNIqQ2SODJGqGSKVJUOksmSIVKYMkdL0ZIhUzRApSZI0OkMkrTJE5sgQqZohUlkyRCpLhkhlyhApTU+GSNUMkZIkSaMzRNIqQ2SODJGqGSKVJUOksmSIVKYMkdL0ZIhUzRApSZI0OkMkrTJE5sgQqZohUlkyRCpLhkhlyhApTU+GSNUMkZIkSaMzRNIqQ2SODJGqGSKVJUOksmSIVKYMkdL0ZIhUzRApSZI0OkMkrTJE5sgQqZohUlkyRCpLhkhlyhApTU+GSNUMkZIkSaMzRNIqQ2SODJGqGSKVJUOksmSIVKYMkdL0ZIhUzRApSZI0OkMkrTJE5sgQqZohUlkyRCpLhkhlyhApTU+GSNUMkZIkSaMzRNIqQ2SODJGqGSKVJUOksmSIVKYMkdL0ZIhUzRApSZI0OkMkrTJE5sgQqZohUlkyRCpLhkhlyhApTU+GSNUMkZIkSaMzRNIqQ2SODJGqGSKVJUOksmSIVKYMkdL0ZIhUzRApSZI0OkMkrTJE5sgQqZohUlkyRCpLhkhlyhApTU+GSNUMkZIkSaMzRNIqQ2SODJGqGSKVJUOksmSIVKYMkdL0ZIhUzRApSZI0OkMkrTJE5sgQqZohUlkyRCpLhkhlyhApTU+GSNUMkZIkSaMzRNIqQ2SODJGqGSKVJUOksmSIVKYMkdL0ZIhUzRApSZI0OkMkrTJE5sgQqZohUlkyRCpLhkhlyhApTU+GSNUMkZIkSaMzRNIqQ2SODJGqGSKVJUOksmSIVKYMkdL0ZIhUzRApSZI0OkMkrTJE5sgQqZohUlkyRCpLhkhlyhApTU+GSNUMkZIkSaMzRNIqQ2SODJGqGSKVJUOksmSIVKYMkdL0ZIhUzRApSZI0OkMkrTJE5sgQqZohUlkyRCpLhkhlyhApTU+GSNUMkZIkSaMzRNIqQ2SODJGqGSKVJUOksmSIVKYMkdL0ZIhUzRApSZI0OkMkrTJE5sgQqZohUlkyRCpLhkhlyhApTU+GSNUMkZIkSaMzRNIqQ2SODJGqGSKVJUOksmSIVKYMkdL0ZIhUzRApSZI0OkMkrTJE5sgQqZohUlkyRCpLhkhlyhApTU+GSNUMkZIkSaMzRNIqQ2SODJGqGSKVJUOksmSIVKYMkdL0ZIhUzRApSZI0OkMkrTJE5sgQqZohUlkyRCpLhkhlyhApTU+GSNUMkZIkSaMzRNIqQ2SODJGqGSKVJUOksmSIVKYMkdL0ZIhUzRApSZI0OkMkrTJE5sgQqZohUlkyRCpLhkhlyhApTU+GSNUMkZIkSaMzRNIqQ2SODJGqGSKVJUOksmSIVKYMkdL0ZIhUzRApSZI0OkMkrTJE5sgQqZohUlkyRCpLhkhlyhApTU+GSNUMkZIkSaMzRNIqQ2SODJGqGSKVJUOksmSIVKYMkdL0ZIhUzRApSZI0OkMkrTJE5sgQqZohUlkyRCpLhkhlyhApTU+GSNUMkZIkSaMzRNIqQ2SODJGqGSKVJUOksmSIVKYMkdL0ZIhUzRApSZI0OkMkrTJE5sgQqZohUlkyRCpLhkhlyhApTU+GSNUMkZIkSaMzRNIqQ2SODJGqGSKVJUOksmSIVKYMkdL0ZIhUzRApSZI0OkMkrTJE5sgQqZohUlkyRCpLhkhlyhApTU+GSNUMkZIkSaMzRNIqQ2SODJGqGSKVJUOksmSIVKYMkdL0ZIhUzRApSZI0OkMkrTJE5sgQqZohUlkyRCpLhkhlyhApTU+GSNUMkZIkSaMzRNIqQ2SODJGqGSKVJUOksmSIVKYMkdL0ZIhUzRApSZI0OkMkrTJE5sgQqZohUlkyRCpLhkhlyhApTU+GSNUMkZIkSaMzRNIqQ2SODJGqGSKVJUOksmSIVKYMkdL0ZIhUzRApSZI0OkMkrTJE5sgQqZohUlkyRCpLhkhlyhApTU+GSNUMkZIkSaMzRNIqQ2SODJGqGSKVJUOksmSIVKYMkdL0ZIhUzRApSZI0OkMkrTJE5sgQqZohUlkyRCpLhkhlyhApTU+GSNUMkZIkSaMzRNIqQ2SODJGqGSKVJUOksmSIVKYMkdL0ZIhUzRApSZI0OkMkrTJE5sgQqZohUlkyRCpLhkhlyhApTU+GSNUMkZIkSaMzRNIqQ2SODJGqGSKVJUOksmSIVKYMkdL0ZIhUzRApSZI0OkMkrTJE5sgQqZohUlkyRCpLhkhlyhApTU+GSNUMkZIkSaMzRNIqQ2SODJGqGSKVJUOksmSIVKYMkdL0ZIhUzRApSZI0OkMkrTJE5sgQqZohUlkyRCpLhkhlyhApTU+GSNUMkZIkSaMzRNIqQ2SODJGqGSKVJUOksmSIVKYMkdL0ZIhUzRApSZI0OkMkrTJE5sgQqZohUlkyRCpLhkhlyhApTU+GSNUMkZIkSaMzRJ4iBw4cKK9+9asXdM899/Ree2rE31f/7ksvvbQ888wzvdeUsn379rnXxb831ddde+215YUXXui+LP65devW8uijj3b/PIwhMkeGSNUMkcqSIVJZMkQqU4ZIaXoyRKpmiJQkSRqdIfIUiSGyOfDFCBhjYLz8VIgRsn9grPpfF/9eR9IYGm+++ebuv8fL6+cb/xxnSDVE5sgQqZohUlkyRCpLhkhlyhApTU+GSNUMkZIkSaMzRJ4i/UNk6B/8LrzwwrmzEptnH/a/rnk2Y3yM+vJo0DgYbxsfr3kGZDXozMb493hZvK45OMY/o1Efr58hMkeGSNUMkcqSIVJZMkQqU4ZIaXoyRKpmiJQkSRqdIfIU6R8iY8S76qqrFgyATfXsw1EPgTpo3Bwk3i4+RoyHdbCs7zfo82gOjYOGyGjPnj3dQTQ+VrzNMIbIHBkiVTNEKkuGSGXJEKlMGSKl6ckQqZohUpIkaXSGyFMkxro6AtZGDXh18AsxGg4aHGM8fMMb3jB0zKzi74kzKuvbxbgZQ2O8vDk6Vs1xMmo+NOsdd9zRHTXjn/X94+X17M1+cYAdPHhIp7mvff4L5RP/5J9I5XOXXz7wGDmVfer888sDv/mbOsPbe8klA4+PU9nnOj/rBn1uOrPaPTMz8Pg4lX1x+18M/Nx05vXQ7j0DjxFJ+Yrb66Dbsc684uf4oGNEkiRJsxkiT5EY7QaNiVUMevUMw1odIkO8f7ysOSiGOirG64Z9/Pg4/a+rL2uOjlW8rDlOxtvFx4+XxQgZn0uMk/E+8ffXjzPIag8wJuPEU08NPDtOZ16H3vGO3lFx+nz593+/fHZmRmd4X//jP+4dEafPt/7szwZ+bjqz+vz/8//0jojT5+i99w783HTm9aPHHusdFUB2cXsddDvWmVf8HAcAYDhD5CkyaogcNAY2z4hsireJtx00/MXHH/Q+8XfHiNg8a7EOkfGy/od+jX+Pl/Wf5Rgvr2dHGiKniyFSNUOksmSIVJYMkcqUIRKmhyFSNUMkAMBohshTZDlDZPw5zo4cNCrG6/ofSrUaNl7GWBjvE5/DoD/XUbIaNGj2D5bx+nj/+DzqoDmIITIHQ6RqhkhlyRCpLBkilSlDJEwPQ6RqhkgAgNEMkafIqCEyxLBXH5I1Rsg9e/Z0X1ZHw/q6qA6I8c/my/vPemyq42Z92/6hMT63+rpBn2e8ffN9mh+vfj6DGCJzMESqZohUlgyRypIhUpkyRML0MESqZogEABjNEEmrDJE5GCJVM0QqS4ZIZckQqUwZImF6GCJVM0QCAIxmiKRVhsgcDJGqGSKVJUOksmSIVKYMkTA9DJGqGSIBAEYzRNIqQ2QOhkjVDJHKkiFSWTJEKlOGSJgehkjVDJEAAKMZImmVITIHQ6RqhkhlyRCpLBkilSlDJEwPQ6RqhkgAgNEMkbTKEJmDIVI1Q6SyZIhUlgyRypQhEqaHIVI1QyQAwGiGSFpliMzBEKmaIVJZMkQqS4ZIZcoQCdPDEKmaIRIAYDRDJK0yROZgiFTNEKksGSKVJUOkMmWIhOlhiFTNEAkAMJohklYZInMwRKpmiFSWDJHKkiFSmTJEwvQwRKpmiAQAGM0QSasMkTkYIlUzRCpLhkhlyRCpTBkiYXoYIlUzRAIAjGaIpFWGyBwMkaoZIpUlQ6SyZIhUpgyRMD0MkaoZIgEARjNE0ipDZA6GSNUMkcqSIVJZMkQqU4ZImB6GSNUMkQAAoxkiaZUhMgdDpGqGSGXJEKksGSKVKUMkTA9DpGqGSACA0QyRtMoQmYMhUjVDpLJkiFSWDJHKlCESpochUjVDJADAaIZIWmWIzMEQqZohUlkyRCpLhkhlyhAJ08MQqZohEgBgNEMkrTJE5mCIVM0QqSwZIpUlQ6QyZYiE6WGIVM0QCQAwmiGSVhkiczBEqmaIVJYMkcqSIVKZMkTC9DBEqmaIBAAYzRBJqwyRORgiVTNEKkuGSGXJEKlMGSJhehgiVTNEAgCMZoikVYbIHAyRqhkilSVDpLJkiFSmDJEwPQyRqhkiAQBGM0TSKkNkDoZI1QyRypIhUlkyRCpThkiYHoZI1QyRAACjGSJplSEyB0OkaoZIZckQqSwZIpUpQyRMD0OkaoZIAIDRDJG0yhCZgyFSNUOksmSIVJYMkcqUIRKmhyFSNUMkAMBohkhaZYjMwRCpmiFSWTJEKkuGSGXKEAnTwxCpmiESAGA0QyStMkTmYIhUzRCpLBkilSVDpDJliITpYYhUzRAJADCaIZJWGSJzMESqZohUlgyRypIhUpkyRML0MESqZogEABjNEEmrDJE5GCJVM0QqS4ZIZckQqUwZImF6GCJVM0QCAIxmiKRVhsgcDJGqGSKVJUOksmSIVKYMkTA9DJGqGSIBAEYzRNIqQ2QOhkjVDJHKkiFSWTJEKlOGSJgehkjVDJEAAKMZImmVITIHQ6RqhkhlyRCpLBkilSlDJEwPQ6RqhkgAgNEMkbTKEJmDIVI1Q6SyZIhUlgyRypQhEqaHIVI1QyQAwGiGSFpliMzBEKmaIVJZMkQqS4ZIZcoQCdPDEKmaIRIAYDRDJK0yROZgiFTNEKksGSKVJUOkMmWIhOlhiFTNEAkAMJohklYZInMwRKpmiFSWDJHKkiFSmTJEwvQwRKpmiAQAGM0QSasMkTkYIlUzRCpLhkhlyRCpTBkiYXoYIlUzRAIAjGaIpFWGyBwMkaoZIpUlQ6SyZIhUpgyRMD0MkaoZIgEARjNE0ipDZA6GSNUMkcqSIVJZMkQqU4ZImB6GSNUMkQAAoxkiaZUhMgdDpGqGSGXJEKksGSKVKUMkTA9DpGqGSACA0QyRtMoQmYMhUjVDpLJkiFSWDJHKlCESpochUjVDJADAaIZIWmWIzMEQqZohUlkyRCpLhkhlyhAJ08MQqZohEgBgNEMkrTJE5mCIVM0QqSwZIpUlQ6QyZYiE6WGIVM0QCQAwmiGSVhkiczBEqmaIVJYMkcqSIVKZMkTC9DBEqmaIBAAYzRBJqwyRORgiVTNEKkuGSGXJEKlMGSJhehgiVTNEAgCMZoikVYbIHAyRqhkilSVDpLJkiFSmDJEwPQyRqhkiAQBGM0TSKkNkDoZI1QyRypIhUlkyRCpThkiYHoZI1QyRAACjGSJplSEyB0OkaoZIZckQqSwZIpUpQyRMD0OkaoZIAIDRDJG0yhCZgyFSNUOksmSIVJYMkcqUIRKmhyFSNUMkAMBohkhaZYjMwRCpmiFSWTJEKkuGSGXKEAnTwxCpmiESAGA0QyStMkTmYIhUzRCpLBkilSVDpDJliITpYYhUzRAJwOnw85//vGzfvr3843/8j8s3vvGN3ktnPdb575SLLrqo/OIv/mL5lV/5lbJ169byox/9qPfaUr7//e+X3/md3ykvetGLyuWXX15++MMf9l5Tyk9/+tNy1VVXlbvuuqv3Elg9QyStMkTmYIhUzRCpLBkilSVDpDJliITpYYhUzRAJwOnwV3/1V+Xf//t/X/7Vv/pXC4bIY8eOlfPOO6+89a1vLU8++WT5zne+0x0lN2/e3B0Zw4033tgdMU+ePFn+5E/+pPvn6qGHHip/8Ad/UJ599tneS2D1DJG0yhCZgyFSNUOksmSIVJYMkcqUIRKmhyFSNUMkAKdajI3/6T/9p7Jjx47y7/7dv1swRH7iE58ov/Vbv9V9m+qRRx4pZ599dvna175WfvzjH5fXv/71Zd++fd3X7d27t/zhH/5hOXHiRHnhhRfKm970pvLJT36y+zqYFEMkrTJE5mCIVM0QqSwZIpUlQ6QyZYiE6WGIVM0QCcCpFGcxvvOd7+w+3GoMkP1nRF577bXdmp5//vny2te+tnzsYx/rPkTrm9/85rn3iXEyHp41Xv6FL3yhO1I2H8YVJsEQSasMkTkYIlUzRCpLhkhlyRCpTBkiYXoYIlUzRAJwKn3qU5/qng0ZZzz2D5FxtuOGDRvKBz7wge6fm66++uqyZcuWoWdEPvPMM92Xf/rTn+6+HCbJEEmrDJE5GCJVM0QqS4ZIZckQqUwZImF6GCJVM0QCcKrEcz7+9m//dvd5HEP/EBlnMl588cVDh8goDHqOyBgg/+iP/qgcOXKknH/++eVFL3pR2bRpU/nhD3/YfR9YDUMkrTJE5mCIVM0QqSwZIpUlQ6QyZYiE6WGIVM0QCcCp8NOf/rRs3ry53HzzzeXnP/9592UrHSKffvrpcumll5Zf+qVf6j4s6xNPPFEuuuiisn///nL99dd3/46f/OQn5R3veEe54447uu8Dq2GIpFWGyBwMkaoZIpUlQ6SyZIhUpgyRMD0MkaoZIgE4FR544IFy4YUXds9YfOqpp7rFcPgv/+W/7P4zHlo1hshRD83a/9yR1X333Veuuuqq8uyzz5Y3vvGN5dChQ92Xx1mSb33rW+eGT1gpQyStMkTmYIhUzRCpLBkilSVDpDJliITpYYhUzRAJwKkQQ+Iv/MIvDC3OhIwhMsbG/sHx+eefL6997WvLhz70od5L5sVzTcbA+bWvfa07bq5bt27uDMt4/sj6cWE1DJG0yhCZgyFSNUOksmSIVJYMkcqUIRKmhyFSNUMkAKdL/0Ozhk9+8pPl1a9+dXdgrB555JFy9tlnd8fGfvHQqzFcxvNFxuAY9+fX56D8xCc+MfdwrrAahkhaZYjMwRCpmiFSWTJEKkuGSGXKEAnTwxCpmiESgNNl0BD5wx/+sPt8j/GQqk8++WT5zne+0/3zlVde2X2eyabvfe973bMhY6istmzZMvcckfE+niOSSTBE0ipDZA6GSNUMkcqSIVJZMkQqU4ZImB6GSNUMkQCcLoOGyPD973+/+1yPv/iLv1h+5Vd+pTtKPvfcc73XzrvxxhvL1q1bFzwHZLzv7/zO75QXvehFZdOmTd1hE1bLEEmrDJE5GCJVM0QqS4ZIZckQqUwZImF6GCJVM0QCAIxmiKRVhsgcDJGqGSKVJUOksmSIVKYMkTA9DJGqGSIBAEYzRNIqQ2QOhkjVDJHKkiFSWTJEKlOGSJgehkjVDJEAAKMZImmVITIHQ6RqhkhlyRCpLBkilSlDJEwPQ6RqhkgAgNEMkbTKEJmDIVI1Q6SyZIhUlgyRypQhEqaHIVI1QyQAwGiGSFpliMzBEKmaIVJZMkQqS4ZIZcoQCdPDEKmaIRIAYDRDJK0yROZgiFTNEKksGSKVJUOkMmWIhOlhiFTNEAmQz5O7dkndfnr8eO+o4HQyRNIqQ2QOhkjVDJHKkiFSWTJEKlOGSJgehkjVDJEA+Rz5wAcGfs/WmZchMgdDJK0yROZgiFTNEKksGSKVJUOkMmWIhOlhiFTNEAmQjyFSNUNkDoZIWmWIzMEQqZohUlkyRCpLhkhlyhAJ08MQqZohEiAfQ6RqhsgcDJG0yhCZgyFSNUOksmSIVJYMkcqUIRKmhyFSNUMkQD6GSNUMkTkYImmVITIHQ6RqhkhlyRCpLBkilSlDJEwPQ6RqhkiAfAyRqhkiczBE0ipDZA6GSNUMkcqSIVJZMkQqU4ZImB6GSNUMkQD5GCJVM0TmYIikVYbIHAyRqhkilSVDpLJkiFSmDJEwPQyRqhkiAfIxRKpmiMzBEEmrDJE5GCJVM0QqS4ZIZckQqUwZImF6GCJVM0QC5GOIVM0QmYMhklYZInMwRKpmiFSWDJHKkiFSmTJEwvQwRKpmiATIxxCpmiEyB0MkrTJE5mCIVM0QqSwZIpUlQ6QyZYiE6WGIVM0QCZCPIVI1Q2QOhkhaZYjMwRCpmiFSWTJEKkuGSGXKEAnTwxCpmiESIB9DpGqGyBwMkbTKEJmDIVI1Q6SyZIhUlgyRypQhEqaHIVI1QyRAPoZI1QyRORgiaZUhMgdDpGqGSGXJEKksGSKVKUMkTA9DpGqGSIB8DJGqGSJzMETSKkNkDoZI1QyRypIhUlkyRCpThkiYHoZI1QyRAPkYIlUzROZgiKRVhsgcDJGqGSKVJUOksmSIVKYMkTA9DJGqGSIB8jFEqmaIzMEQSasMkTkYIlUzRCpLhkhlyRCpTBkiYXoYIlUzRALkY4hUzRCZgyGSVhkiczBEqmaIVJYMkcqSIVKZMkTC9DBEqmaIBMjHEKmaITIHQyStMkTmYIhUzRCpLBkilSVDpDJliITpYYhUzRAJkI8hUjVDZA6GSFpliMzBEKmaIVJZMkQqS4ZIZcoQCdPDEKmaIRIgH0OkaobIHAyRtMoQmYMhUjVDpLJkiFSWDJHKlCESpochUjVDJEA+hkjVDJE5GCJplSEyB0OkaoZIZckQqSwZIpUpQyRMD0OkaoZIgHwMkaoZInMwRNIqQ2QOhkjVDJHKkiFSWTJEKlOGSJgehkjVDJEA+RgiVTNE5mCIpFWGyBwMkaoZIpUlQ6SyZIhUpgyRMD0MkaoZIgHyMUSqZojMwRBJqwyRORgiVTNEKkuGSGXJEKlMGSJhehgiVTNEAuRjiFTNEJmDIZJWGSJzMESqZohUlgyRypIhUpkyRML0MESqZogEyMcQqZohMgdDJK0yROZgiFTNEKksGSKVJUOkMmWIhOlhiFTNEAmQjyFSNUNkDoZIWmWIzMEQqZohUlkyRCpLhkhlyhAJ08MQqZohEiAfQ6RqhsgcDJG0yhCZgyFSNUOksmSIVJYMkcqUIRKmhyFSNUMkQD6GSNUMkTkYImmVITIHQ6RqhkhlyRCpLBkilSlDJEwPQ6RqhkiAfAyRqhkiczBE0ipDZA6GSNUMkcqSIVJZMkQqU4ZImB6GSNUMkQD5GCJVM0TmYIikVYbIHAyRqhkilSVDpLJkiFSmDJEwPQyRqhkiAfIxRKpmiMzBEEmrDJE5GCJVM0QqS4ZIZckQqUwZImF6GCJVM0QC5GOIVM0QmYMhklYZInMwRKpmiFSWDJHKkiFSmTJEwvQwRKpmiATIxxCpmiEyB0MkrTJE5mCIVM0QqSwZIpUlQ6QyZYiE6WGIVM0QCZCPIVI1Q2QOhkhaZYjMwRCpmiFSWTJEKkuGSGXKEAnTwxCpmiESIB9DpGqGyBwMkbTKEJmDIVI1Q6SyZIhUlgyRypQhEqaHIVI1QyRAPoZI1QyRORgiaZUhMgdDpGqGSGXJEKksGSKVKUMkTA9DpGqGSIB8DJGqGSJzMETSKkNkDoZI1QyRypIhUlkyRCpThkiYHoZI1QyRAPkYIlUzROZgiKRVhsgcDJGqGSKVJUOksmSIVKYMkTA9DJGqGSIB8jFEqmaIzMEQSasMkTkYIlUzRCpLhkhlyRCpTBkiYXoYIlUzRALkY4hUzRCZgyGSVhkiczBEqmaIVJYMkcqSIVKZMkTC9DBEqmaIBMjHEKmaITIHQyStMkTmYIhUzRCpLBkilSVDpDJliITpYYhUzRAJkI8hUjVDZA6GSFpliMzBEKmaIVJZMkQqS4ZIZcoQCdPDEKmaIRIgH0OkaobIHAyRtMoQmYMhUjVDpLJkiFSWDJHKlCESpochUjVDJEA+hkjVDJE5GCJplSEyB0OkaoZIZckQqSwZIpUpQyRMD0OkaoZIgHwMkaoZInMwRNIqQ2QOhkjVDJHKkiFSWTJEKlOGSJgehkjVDJEA+RgiVTNE5mCIpFWGyBwMkaoZIpUlQ6SyZIhUpgyRMD0MkaoZIgHyMUSqZojMwRBJqwyRORgiVTNEKkuGSGXJEKlMGSJhehgiVTNEAuRjiFTNEJmDIZJWGSJzMESqZohUlgyRypIhUpkyRML0MESqZogEyMcQqZohMgdDJK0yROZgiFTNEKksGSKVJUOkMmWIhOlhiFTNEAmQjyFSNUNkDoZIWmWIzMEQqZohUlkyRCpLhkhlyhAJ08MQqZohEiAfQ6RqhsgcDJG0yhCZgyFSNUOksmSIVJYMkcqUIRKmhyFSNUMkQD6GSNUMkTkYImmVITIHQ6RqhkhlyRCpLBkilSlDJEwPQ6RqhkiAfAyRqhkiczBE0ipDZA6GSNUMkcqSIVJZMkQqU4ZImB6GSNUMkQD5GCJVM0TmYIikVYbIHAyRqhkilSVDpLJkiFSmDJEwPQyRqhkiAfIxRKpmiMzBEEmrDJE5GCJVM0QqS4ZIZckQqUwZImF6GCJVM0QC5GOIVM0QmYMhklYZInMwRKpmiFSWDJHKkiFSmTJEwvQwRKpmiATIxxCpmiEyB0MkrTJE5mCIVM0QqSwZIpUlQ6QyZYiE6WGIVM0QCZCPIVI1Q2QOhkhaZYjMwRCpmiFSWTJEKkuGSGXKEAnTwxCpmiESIB9DpGqGyBwMkbTKEJmDIVI1Q6SyZIhUlgyRypQhEqaHIVI1QyRAPoZI1QyRORgiaZUhMgdDpGqGSGXJEKksGSKVKUMkTA9DpGqGSIB8DJGqGSJzMETSKkNkDoZI1QyRypIhUlkyRCpThkiYHoZI1QyRAPkYIlUzROZgiKRVhsgcDJGqGSKVJUOksmSIVKYMkTA9DJGqGSIB8jFEqmaIzMEQSasMkTkYIlUzRCpLhkhlyRCpTBkiYXoYIlUzRALkY4hUzRCZgyGSVhkiczBEqmaIVJYMkcqSIVKZMkTC9DBEqmaIBMjHEKmaITIHQyStMkTmYIhUzRCpLBkilSVDpDJliITpYYhUzRAJkI8hUjVDZA6GSFpliMzBEKmaIVJZMkQqS4ZIZcoQCdPDEKmaIRIgH0OkaobIHAyRtMoQmYMhUjVDpLJkiFSWDJHKlCESpochUjVDJEA+hkjVDJE5GCJplSEyB0OkaoZIZckQqSwZIpUpQyRMD0OkaoZIgHwMkaoZInMwRNIqQ2QOhkjVDJHKkiFSWTJEKlOGSJgehkjVDJEA+RgiVTNE5mCIpFWGyBwMkaoZIpUlQ6SyZIhUpgyRMD0MkaoZIgHyMUSqZojMwRBJqwyRORgiVTNEKkuGSGXJEKlMGSJhehgiVTNEAuRjiFTNEJmDIZJWGSJzMESqZohUlgyRypIhUpkyRML0MESqZogEyMcQqZohMgdDJK0yROZgiFTNEKksGSKVJUOkMmWIhOlhiFTNEAmQjyFSNUNkDoZIWmWIzMEQqZohUlkyRCpLhkhlyhAJ08MQqZohEiAfQ6RqhsgcDJG0yhCZgyFSNUOksmSIVJYMkcqUIRKmhyFSNUMkQD6GSNUMkTkYImmVITIHQ6RqhkhlyRCpLBkilSlDJEwPQ6RqhkiAfAyRqhkiczBE0ipDZA6GSNUMkcqSIVJZMkQqU4ZImB6GSNUMkQD5GCJVM0TmYIikVYbIHAyRqhkilSVDpLJkiFSmDJEwPQyRqhkiAfIxRKpmiMzBEEmrDJE5GCJVM0QqS4ZIZckQqUwZImF6GCJVM0QC5GOIVM0QmYMhklYZInMwRKpmiFSWDJHKkiFSmTJEwvQwRKpmiATIxxCpmiEyB0MkrTJE5mCIVM0QqSwZIpUlQ6QyZYiE6WGIVM0QCZCPIVI1Q2QOhkhaZYjMwRCpmiFSWTJEKkuGSGXKEAnTwxCpmiESIB9DpGqGyBwMkbTKEJmDIVI1Q6SyZIhUlgyRypQhEqaHIVI1QyRAPoZI1QyRORgiaZUhMgdDpGqGSGXJEKksGSKVKUMkTA9DpGqGSIB8DJGqGSJzMETSKkNkDoZI1QyRypIhUlkyRCpThkiYHoZI1QyRAPkYIlUzROZgiKRVhsgcDJGqGSKVJUOksmSIVKYMkTA9DJGqGSIB8jFEqmaIzMEQSasMkTkYIlUzRCpLhkhlyRCpTBkiYXoYIlUzRALkY4hUzRCZgyGSVhkiczBEqmaIVJYMkcqSIVKZMkTC9DBEqmaIBMjHEKmaITIHQyStMkTmYIhUzRCpLBkilSVDpDJliITpYYhUzRAJkI8hUjVDZA6GSFpliMzBEKmaIVJZMkQqS4ZIZcoQCdPDEKmaIRIgH0OkaobIHAyRtMoQmYMhUjVDpLJkiFSWDJHKlCESpochUjVDJEA+hkjVDJE5GCJplSEyB0OkaoZIZckQqSwZIpUpQyRMD0OkaoZIgHwMkaoZInMwRNIqQ2QOhkjVDJHKkiFSWTJEKlOGSJgehkjVDJEA+RgiVTNE5mCIpFWGyBwMkaoZIpUlQ6SyZIhUpgyRMD0MkaoZIgHyMUSqZojMwRBJqwyRORgiVTNEKkuGSGXJEKlMGSJhehgiVTNEAuRjiFTNEJmDIZJWGSJzMESqZohUlgyRypIhUpkyRML0MESqZogEyMcQqZohMgdDJK0yROZgiFTNEKksGSKVJUOkMmWIhOlhiFTNEAmQjyFSNUNkDoZIWmWIzMEQqZohUlkyRCpLhkhlyhAJ08MQqZohEiAfQ6RqhsgcDJG0yhCZgyFSNUOksmSIVJYMkcqUIRKmhyFSNUMkQD6GSNUMkTkYImmVITIHQ6RqhkhlyRCpLBkilSlDJEwPQ6RqhkiAfAyRqhkiczBE0ipDZA6GSNUMkcqSIVJZMkQqU4ZImB6GSNUMkQD5GCJVM0TmYIikVYbIHAyRqhkilSVDpLJkiFSmDJEwPQyRqhkiAfIxRKpmiMzBEEmrDJE5GCJVM0QqS4ZIZckQqUwZImF6GCJVM0QC5GOIVM0QmYMhklYZInMwRKpmiFSWDJHKkiFSmTJEwvQwRKpmiATIxxCpmiEyB0MkrTJE5mCIVM0QqSwZIpUlQ6QyZYiE6WGIVM0QCZCPIVI1Q2QOhkhaZYjMwRCpmiFSWTJEKkuGSGXKEAnTwxCpmiESIB9DpGqGyBwMkbTKEJmDIVI1Q6SyZIhUlgyRypQhEqaHIVI1QyRAPoZI1QyRORgiaZUhMgdDpGqGSGXJEKksGSKVKUMkTA9DpGqGSIB8DJGqGSJzMETSKkNkDoZI1QyRypIhUlkyRCpThkiYHoZI1QyRAPkYIlUzROZgiKRVhsgcDJGqGSKVJUOksmSIVKYMkTA9DJGqGSIB8jFEqmaIzMEQSasMkTkYIlUzRCpLhkhlyRCpTBkiYXoYIlUzRALkY4hUzRCZgyGSVhkiczBEqmaIVJYMkcqSIVKZMkTC9DBEqmaIBMjHEKmaITIHQyStMkTmYIhUzRCpLBkilSVDpDJliITpYYhUzRAJkI8hUjVDZA6GSFpliMzBEKmaIVJZMkQqS4ZIZcoQCdPDEKmaIRIgH0OkaobIHAyRtMoQmYMhUjVDpLJkiFSWDJHKlCESpochUjVDJEA+hkjVDJE5GCJplSEyB0OkaoZIZckQqSwZIpUpQyRMD0OkaoZIgHwMkaoZInMwRNIqQ2QOhkjVDJHKkiFSWTJEKlOGSJgehkjVDJEA+RgiVTNE5mCIpFWGyBwMkaoZIpUlQ6SyZIhUpgyRMD0MkaoZIgHyMUSqZojMwRBJqwyRORgiVTNEKkuGSGXJEKlMGSJhehgiVTNEAuRjiFTNEJmDIZJWGSJzMESqZohUlgyRypIhUpkyRML0MESqZogEyMcQqZohMgdDJK0yROZgiFTNEKksGSKVJUOkMmWIhOlhiFTNEAmQjyFSNUNkDoZIWmWIzMEQqZohUlkyRCpLhkhlyhAJ08MQqZohEiAfQ6RqhsgcDJG0yhCZgyFSNUOksmSIVJYMkcqUIRKmhyFSNUMkQD6GSNUMkTkYImmVITIHQ6RqhkhlyRCpLBkilSlDJEwPQ6RqhkiAfAyRqhkiczBE0ipDZA6GSNUMkcqSIVJZMkQqU4ZImB6GSNUMkQD5GCJVM0TmYIikVYbIHAyRqhkilSVDpLJkiFSmDJEwPQyRqhkiAfIxRKpmiMzBEEmrDJE5GCJVM0QqS4ZIZckQqUwZImF6GCJVM0QC5GOIVM0QmYMhklYZInMwRKpmiFSWDJHKkiFSmTJEwvQwRKpmiATIxxCpmiEyB0MkrTJE5mCIVM0QqSwZIpUlQ6QyZYiE6WGIVM0QCZCPIVI1Q2QOhkhaZYjMwRCpmiFSWTJEKkuGSGXKEAnTwxCpmiESIB9DpGqGyBwMkbTKEJmDIVI1Q6SyZIhUlgyRypQhEqaHIVI1QyRAPoZI1QyRORgiaZUhMgdDpGqGSGXJEKksGSKVKUMkTA9DpGqGSIB8DJGqGSJzMETSKkNkDoZI1QyRypIhUlkyRCpThkiYHoZI1QyRAPkYIlUzROZgiKRr+/bt5dWvfnW3+Pem+rprr722vPDCC92XxT+3bt1aHn300e6fhzFE5mCIVM0QqSwZIpUlQ6QyZYiE6WGIVM0QCZCPIVI1Q2QOhkjKPffcs2B8jH+Pl4UYGm+++ebuv8fLDxw40P33+Gd9m1EMkTkYIlUzRCpLhkhlyRCpTBkiYXoYIlUzRALkY4hUzRCZgyHyDDfozMb493hZvK45OMY/o2eeeaZ7dmT8cymGyBwMkaoZIpUlQ6SyZIhUpgyRMD0MkaoZIgHyMUSqZojMwRB5hosx8aqrrlowRDaHxkFDZLRnz55y6aWXdh+ytZ4lOYghMgdDpGqGSGXJEKksGSKVKUMkTA9DpGqGSIB8DJGqGSJzMESe4Qad3dgcJ/sfmvWOO+7oni0Z/4wBMt42Xl6fO7JfHGCSJEmSJEmSJEk6M1sNQ+SUa46OVf84GUNjnPkYL4sRMgbIGCfjfWKAjNfXtwUAAAAAAIBJMEROuaWeI7KpeXakIRIAAAAAAIA2GSLXgHjOxxgTq/j3+ryQVf9gGa8f56FZAQAAAAAAYCUMkWtEjInx8KtRc5SsYnhsjpMxQF566aXdt49BEgAAAAAAACbJEAkAAAAAAABMnCESAAAAgLHEU7vccccdA5/iJR5xadgjNQEAcGYyRALAKsRDXV977bXdf8LpEg+/7uHWycD3RDKoT0Nx4YUXzj1HPjA5MUDG9/r+p4eJ295VV13Vvd3Fy5pPDwMADFf/+7X+bB1WvI3/rcU0MkQCwBLqyFPrf85dd7pzKjWPxzj24oyE+B8jMULGne7u9ONUGOd/KPsfyZwK/T+HYwCp3wvrv/slDVio/79ta/3/jTvojMcQL9+6devc0B+jY9zO4s/x8nh9vH+8fNjHAFYnbmNGCwCmhSESSGmc/6j2H9ScCv13tIS4U6X5m9+GSE6VOB7j2KvH2549exbdAV/vAIS2Nb8XVr4ncqr1H3MxpDTHFN8XYaEYDAf976j4c7y8DopxZuOw7+Xx8vj+X29X8T51/K+3t/7/ZgEA4MxliARSiv/h2j/+wOnQf0dLFS+LO1zi9e5051TpPx7772B3px+nWv8d2r4ncqr1H3PxszmOy8r3RZgXt4dR/xsrXh5nES/1sMb9t6v6CwBx24vbY7zebQ8AgMoQCaQV/+N31G/iwqkw6k6UePnNN9/sTndOmf7jsX+IjJc7HjnV4nirZ9E4BjnV+o+5/iHSMQnzlro9xMvrczwuJW5r9ZFq4mPGQ8XHgBn/XRK3weYoCbSveZts5pGkYDq5TbPWGCKB1OJ/wMYPXzid4hiM8WeQeLn/EORUiuNx2PdFd/pxOsX3wze84Q1+iYhTKo61+DncvIOm+T3S90WYF7eXpYbIUa8fR9zW4mP472M4dZq33fhFgvhl2eD+FJhObtOsRYZIAABgIuJ/HLvzGSCnOhLG9+pBDPcwneK/u+IXwuK22xwt4s/NR1MBpoPbNGuRIRJIL37INn/L3f845nRxLJKJ45EsHItk4ViEpcXYOOg5IOPP8fJhI2VT3AFaz0SO2x1wesXPurgtxm2zOWDEv8fPQqMFTBe3adYiQySQVvyP4Pgft/0POxB/HvRyaItjkUwcj2ThWCQLxyIsT73N9BcvX664c3Q17w9Mxp49e+Z+waB5u4x/B6aP2zRrjSESSKn52z+D+C0gThXHIpk4HsnCsUgWjkXIIW6LcVvz8NwAAPQzRAIpxf94jTuV4n/QDrLUnU4wKY5FMnE8koVjkSwcizBZ+/btW/btpT6sqzM1AAAYxBAJpBR3GsVv1A57eJ94ebx+2J1OMCmORTJxPJKFY5EsHIuwPM3RsPlckfXl457RGG9TnyfSWZBw+jVv283cPmH6xG120C/axZ/9gh3TyhAJpNX8H7f+Y5rTybFIJo5HsnAskoVjEcbTP9zHcLF169ZucXsZNuj3q7e5cd8eaNdSv5QDTJf4OTtoiPQLdkwzQyQAAADAGhd3bMYdmM1xPu7onMTDqdYhxPgPp96w0QKYPvfcc8+iX6yrNR/JAKaNIRIAAABgjRs2RK7mLKp433oHadx5Cpx6MUDGbdkvAcDaELfpO+64wy8XsKYYIgEAAADWuEkNkfXsxxgfr7rqqu6/O0MDTi8P2QhAZoZIAAAAgDUuBshhz6daG/XQqvX9mw8NF6NHPMekIRJOn1G3bQ+XDNOp+Us/Nb9swDQzRAIAAACwpDiDsnlnqCESACYvft72P+R5/DleDtPIEAkAAADA2GJ4jDMjY5RsniEJAKxOnMUcv/DTfzbzsJfDNDBEAqnFb/s0H4ag1vytoPgB7KEJaJtjkUwcj2ThWCQLxyKcPvUsSQ8BCadW3PaiuN15aFZYO+I2G7ft/v9ujT/X2zxMG0MkkFY82fqg/2iu/5Edr4/fvL3qqqv8EKZVjkUycTyShWORLByLkIPbGQBMRgyO8d+wTfHneDlMI0MkkFL8ls+o5xqJl8dDAHkYINrmWCQTxyNZOBbJwrEIAMBaU3+hzhnOrBWGSCCl+ME66nHP4+Xx27buUKJtjkUycTyShWORLByLAJyp+n8GLvXLOQBwuhgigZTGuVNp1OthUhyLZOJ4JAvHIlk4FgE4U/X/jDNEwnTz362sZYZIIKX4D+j44dv/eOhVvDxeH28HbXIskonjkSwci2ThWATgTGWIhLXFEMlaZogE0oo7jgY9n0/8OV4+7A4nmDTHIpk4HsnCsUgWjkUAzkSGSFhbDJGsZYZIILW446j5xMw1dyhxqjkWycTxSBaORbJwLAJwpomx4tJLLx34868WrzdqwHRwm2YtM0QCAAAAAACcJjEwOiOStcoQCUytffv2+eFMCo5FMnE8koVjkSwciwAAZBf/vWqIZK0yRAJp1ef1iYceaD7vT325hyPgVHEskonjkSwci2ThWAQAYNrFf68aIlmrDJFASvEk6/HDtz6vT9yRFE+6HsWdTJ7vh1PFsUgmjkeycCyShWMRAAAgN0MkkNKg3wLavn17NziVHItk4ngkC8ciWTgWAQAAcjNEAikNu1PJb7VzqjkWycTxSBaORbJwLAIAAORmiARScqcSWTgWycTxSBaORbJwLAIAAORmiARSijuTLr300u5z+wwrXt+80wna4FgkE8cjWTgWycKxCAAAkJshEgAAAAAAAJg4QyQAAAAAAAAwcYZIAAAAAAAAYOIMkQAAAAAAAMDEGSIBAAAAAACAiTNEAgAAAAAAABNniAQAAAAAAAAmzhAJAAAAAAAATJwhEgAAAAAAAJg4QyQAAAAAAAAwcYZIAAAAAAAAYOIMkQAAAAAAAMDEGSIBAAAAAACAiTNEAgAAAAAAABNniAQAAAAAAAAmzhAJAAAAAAAATJwhEgAAAAAAAJg4QyQAAAAAAAAwcYZIAAAAAAAAYOIMkQAAAAAAAMDEGSIBAAAAAACAiTNEAgAAAAAAABNniAQAAAAAAAAmzhAJAAAAAAAATFgp/3/NBCLobc2OZwAAAABJRU5ErkJggg==)"
      ],
      "metadata": {
        "id": "Y5lLf_7fMLIA"
      }
    },
    {
      "cell_type": "code",
      "source": [],
      "metadata": {
        "id": "LXItWYh8Mg-N"
      },
      "execution_count": null,
      "outputs": []
    }
  ]
}